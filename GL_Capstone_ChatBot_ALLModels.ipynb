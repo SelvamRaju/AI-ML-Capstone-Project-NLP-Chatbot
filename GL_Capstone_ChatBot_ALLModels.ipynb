{
  "nbformat": 4,
  "nbformat_minor": 0,
  "metadata": {
    "colab": {
      "name": "GL_Capstone_ChatBot_Final.ipynb",
      "provenance": [],
      "collapsed_sections": [],
      "include_colab_link": true
    },
    "kernelspec": {
      "name": "python3",
      "display_name": "Python 3"
    },
    "language_info": {
      "name": "python"
    }
  },
  "cells": [
    {
      "cell_type": "markdown",
      "metadata": {
        "id": "view-in-github",
        "colab_type": "text"
      },
      "source": [
        "<a href=\"https://colab.research.google.com/github/SelvamRaju/AI-ML-Capstone-Project-NLP-Chatbot/blob/LSTM-Gayathri/GL_Capstone_ChatBot_ALLModels.ipynb\" target=\"_parent\"><img src=\"https://colab.research.google.com/assets/colab-badge.svg\" alt=\"Open In Colab\"/></a>"
      ]
    },
    {
      "cell_type": "markdown",
      "source": [
        "#**NATURAL LANGUAGE PROCESSING - CAPSTONE PROJECT**"
      ],
      "metadata": {
        "id": "AW9JH9bBH-A-"
      }
    },
    {
      "cell_type": "markdown",
      "source": [
        "#**AIML-CHATBOT INTERFACE**"
      ],
      "metadata": {
        "id": "-5B2c4R7H-L_"
      }
    },
    {
      "cell_type": "markdown",
      "source": [
        "#**DOMAIN: Industrial safety. NLP based Chatbot**"
      ],
      "metadata": {
        "id": "iQiBbWcHH-Pd"
      }
    },
    {
      "cell_type": "markdown",
      "source": [
        "• CONTEXT:\n",
        "The database comes from one of the biggest industry in Brazil and in the world. It is an urgent need for industries/companies around the\n",
        "globe to understand why employees still suffer some injuries/accidents in plants. Sometimes they also die in such environment"
      ],
      "metadata": {
        "id": "-wmR91gRIMGx"
      }
    },
    {
      "cell_type": "markdown",
      "source": [
        " DATA DESCRIPTION:\n",
        "This The database is basically records of accidents from 12 different plants in 03 different countries which every line in the data is an\n",
        "occurrence of an accident.\n",
        "Columns description:\n",
        "‣ Data: timestamp or time/date information\n",
        "‣ Countries: which country the accident occurred (anonymised)\n",
        "‣ Local: the city where the manufacturing plant is located (anonymised)\n",
        "‣ Industry sector: which sector the plant belongs to\n",
        "‣ Accident level: from I to VI, it registers how severe was the accident (I means not severe but VI means very severe)\n",
        "‣ Potential Accident Level: Depending on the Accident Level, the database also registers how severe the accident could have been (due to other factors\n",
        "involved in the accident)\n",
        "‣ Gender: if the person is male of female\n",
        "‣ Employee or Third Party: if the injured person is an employee or a third party\n",
        "‣ Critical Risk: some description of the risk involved in the accident\n",
        "‣ Description: Detailed description of how the accident happened."
      ],
      "metadata": {
        "id": "nVnTCEhaIMKV"
      }
    },
    {
      "cell_type": "markdown",
      "source": [
        "• PROJECT OBJECTIVE:\n",
        "Design a ML/DL based chatbot utility which can help the professionals to highlight the safety risk as per the incident description"
      ],
      "metadata": {
        "id": "MDMlIObqIRUO"
      }
    },
    {
      "cell_type": "markdown",
      "source": [
        "#**‣ Input: Interim report**"
      ],
      "metadata": {
        "id": "gu0SOBnhIeYC"
      }
    },
    {
      "cell_type": "markdown",
      "source": [
        "#**Process: Step 1: Import the data**"
      ],
      "metadata": {
        "id": "aFZbB6uIIeba"
      }
    },
    {
      "cell_type": "code",
      "source": [
        "#for reading data from google drive\n",
        "from google.colab import drive\n",
        "drive.mount('/content/drive')"
      ],
      "metadata": {
        "colab": {
          "base_uri": "https://localhost:8080/"
        },
        "id": "VuVpwb6fIJPH",
        "outputId": "ce2687cd-46ee-4856-ab6d-f3b5c0427c9d"
      },
      "execution_count": 1,
      "outputs": [
        {
          "output_type": "stream",
          "name": "stdout",
          "text": [
            "Mounted at /content/drive\n"
          ]
        }
      ]
    },
    {
      "cell_type": "code",
      "source": [
        "! pip install https://github.com/pandas-profiling/pandas-profiling/archive/master.zip"
      ],
      "metadata": {
        "colab": {
          "base_uri": "https://localhost:8080/"
        },
        "id": "2zyifhd8LNiR",
        "outputId": "5212f34c-d5b0-4502-f987-3ac9b732532b"
      },
      "execution_count": null,
      "outputs": [
        {
          "output_type": "stream",
          "name": "stdout",
          "text": [
            "Collecting https://github.com/pandas-profiling/pandas-profiling/archive/master.zip\n",
            "  Downloading https://github.com/pandas-profiling/pandas-profiling/archive/master.zip\n",
            "\u001b[K     \\ 25.9 MB 830 kB/s\n",
            "\u001b[?25hRequirement already satisfied: joblib~=1.1.0 in /usr/local/lib/python3.7/dist-packages (from pandas-profiling==3.1.1) (1.1.0)\n",
            "Requirement already satisfied: scipy>=1.4.1 in /usr/local/lib/python3.7/dist-packages (from pandas-profiling==3.1.1) (1.4.1)\n",
            "Requirement already satisfied: pandas!=1.0.0,!=1.0.1,!=1.0.2,!=1.1.0,>=0.25.3 in /usr/local/lib/python3.7/dist-packages (from pandas-profiling==3.1.1) (1.3.5)\n",
            "Requirement already satisfied: matplotlib>=3.2.0 in /usr/local/lib/python3.7/dist-packages (from pandas-profiling==3.1.1) (3.2.2)\n",
            "Collecting pydantic>=1.8.1\n",
            "  Downloading pydantic-1.9.0-cp37-cp37m-manylinux_2_17_x86_64.manylinux2014_x86_64.whl (10.9 MB)\n",
            "\u001b[K     |████████████████████████████████| 10.9 MB 3.9 MB/s \n",
            "\u001b[?25hCollecting PyYAML>=5.0.0\n",
            "  Downloading PyYAML-6.0-cp37-cp37m-manylinux_2_5_x86_64.manylinux1_x86_64.manylinux_2_12_x86_64.manylinux2010_x86_64.whl (596 kB)\n",
            "\u001b[K     |████████████████████████████████| 596 kB 46.6 MB/s \n",
            "\u001b[?25hRequirement already satisfied: jinja2>=2.11.1 in /usr/local/lib/python3.7/dist-packages (from pandas-profiling==3.1.1) (2.11.3)\n",
            "Requirement already satisfied: markupsafe~=2.0.1 in /usr/local/lib/python3.7/dist-packages (from pandas-profiling==3.1.1) (2.0.1)\n",
            "Collecting visions[type_image_path]==0.7.4\n",
            "  Downloading visions-0.7.4-py3-none-any.whl (102 kB)\n",
            "\u001b[K     |████████████████████████████████| 102 kB 10.7 MB/s \n",
            "\u001b[?25hRequirement already satisfied: numpy>=1.16.0 in /usr/local/lib/python3.7/dist-packages (from pandas-profiling==3.1.1) (1.21.5)\n",
            "Collecting htmlmin>=0.1.12\n",
            "  Downloading htmlmin-0.1.12.tar.gz (19 kB)\n",
            "Requirement already satisfied: missingno>=0.4.2 in /usr/local/lib/python3.7/dist-packages (from pandas-profiling==3.1.1) (0.5.1)\n",
            "Collecting phik>=0.11.1\n",
            "  Downloading phik-0.12.0-cp37-cp37m-manylinux2010_x86_64.whl (675 kB)\n",
            "\u001b[K     |████████████████████████████████| 675 kB 35.5 MB/s \n",
            "\u001b[?25hCollecting tangled-up-in-unicode==0.2.0\n",
            "  Downloading tangled_up_in_unicode-0.2.0-py3-none-any.whl (4.7 MB)\n",
            "\u001b[K     |████████████████████████████████| 4.7 MB 35.1 MB/s \n",
            "\u001b[?25hCollecting requests>=2.24.0\n",
            "  Downloading requests-2.27.1-py2.py3-none-any.whl (63 kB)\n",
            "\u001b[K     |████████████████████████████████| 63 kB 1.7 MB/s \n",
            "\u001b[?25hRequirement already satisfied: tqdm>=4.48.2 in /usr/local/lib/python3.7/dist-packages (from pandas-profiling==3.1.1) (4.63.0)\n",
            "Requirement already satisfied: seaborn>=0.10.1 in /usr/local/lib/python3.7/dist-packages (from pandas-profiling==3.1.1) (0.11.2)\n",
            "Collecting multimethod>=1.4\n",
            "  Downloading multimethod-1.7-py3-none-any.whl (9.5 kB)\n",
            "Requirement already satisfied: networkx>=2.4 in /usr/local/lib/python3.7/dist-packages (from visions[type_image_path]==0.7.4->pandas-profiling==3.1.1) (2.6.3)\n",
            "Requirement already satisfied: attrs>=19.3.0 in /usr/local/lib/python3.7/dist-packages (from visions[type_image_path]==0.7.4->pandas-profiling==3.1.1) (21.4.0)\n",
            "Requirement already satisfied: Pillow in /usr/local/lib/python3.7/dist-packages (from visions[type_image_path]==0.7.4->pandas-profiling==3.1.1) (7.1.2)\n",
            "Collecting imagehash\n",
            "  Downloading ImageHash-4.2.1.tar.gz (812 kB)\n",
            "\u001b[K     |████████████████████████████████| 812 kB 46.2 MB/s \n",
            "\u001b[?25hRequirement already satisfied: python-dateutil>=2.1 in /usr/local/lib/python3.7/dist-packages (from matplotlib>=3.2.0->pandas-profiling==3.1.1) (2.8.2)\n",
            "Requirement already satisfied: kiwisolver>=1.0.1 in /usr/local/lib/python3.7/dist-packages (from matplotlib>=3.2.0->pandas-profiling==3.1.1) (1.3.2)\n",
            "Requirement already satisfied: pyparsing!=2.0.4,!=2.1.2,!=2.1.6,>=2.0.1 in /usr/local/lib/python3.7/dist-packages (from matplotlib>=3.2.0->pandas-profiling==3.1.1) (3.0.7)\n",
            "Requirement already satisfied: cycler>=0.10 in /usr/local/lib/python3.7/dist-packages (from matplotlib>=3.2.0->pandas-profiling==3.1.1) (0.11.0)\n",
            "Requirement already satisfied: pytz>=2017.3 in /usr/local/lib/python3.7/dist-packages (from pandas!=1.0.0,!=1.0.1,!=1.0.2,!=1.1.0,>=0.25.3->pandas-profiling==3.1.1) (2018.9)\n",
            "Collecting scipy>=1.4.1\n",
            "  Downloading scipy-1.7.3-cp37-cp37m-manylinux_2_12_x86_64.manylinux2010_x86_64.whl (38.1 MB)\n",
            "\u001b[K     |████████████████████████████████| 38.1 MB 1.4 MB/s \n",
            "\u001b[?25hRequirement already satisfied: typing-extensions>=3.7.4.3 in /usr/local/lib/python3.7/dist-packages (from pydantic>=1.8.1->pandas-profiling==3.1.1) (3.10.0.2)\n",
            "Requirement already satisfied: six>=1.5 in /usr/local/lib/python3.7/dist-packages (from python-dateutil>=2.1->matplotlib>=3.2.0->pandas-profiling==3.1.1) (1.15.0)\n",
            "Requirement already satisfied: charset-normalizer~=2.0.0 in /usr/local/lib/python3.7/dist-packages (from requests>=2.24.0->pandas-profiling==3.1.1) (2.0.12)\n",
            "Requirement already satisfied: certifi>=2017.4.17 in /usr/local/lib/python3.7/dist-packages (from requests>=2.24.0->pandas-profiling==3.1.1) (2021.10.8)\n",
            "Requirement already satisfied: idna<4,>=2.5 in /usr/local/lib/python3.7/dist-packages (from requests>=2.24.0->pandas-profiling==3.1.1) (2.10)\n",
            "Requirement already satisfied: urllib3<1.27,>=1.21.1 in /usr/local/lib/python3.7/dist-packages (from requests>=2.24.0->pandas-profiling==3.1.1) (1.24.3)\n",
            "Requirement already satisfied: PyWavelets in /usr/local/lib/python3.7/dist-packages (from imagehash->visions[type_image_path]==0.7.4->pandas-profiling==3.1.1) (1.2.0)\n",
            "Building wheels for collected packages: pandas-profiling, htmlmin, imagehash\n",
            "  Building wheel for pandas-profiling (setup.py) ... \u001b[?25l\u001b[?25hdone\n",
            "  Created wheel for pandas-profiling: filename=pandas_profiling-3.1.1-py2.py3-none-any.whl size=261287 sha256=b415c8800ff9722acf7a89df04d36ab95218f6c15676e918f7000278edf6a7ce\n",
            "  Stored in directory: /tmp/pip-ephem-wheel-cache-61_1xn8t/wheels/cc/d5/09/083fb07c9363a2f45854b0e3a7de7d7c560f07da74b9e9769d\n",
            "  Building wheel for htmlmin (setup.py) ... \u001b[?25l\u001b[?25hdone\n",
            "  Created wheel for htmlmin: filename=htmlmin-0.1.12-py3-none-any.whl size=27098 sha256=6326abbade251f552760720b18a57baf421396bf274d3a92bfbf6f4174052bba\n",
            "  Stored in directory: /root/.cache/pip/wheels/70/e1/52/5b14d250ba868768823940c3229e9950d201a26d0bd3ee8655\n",
            "  Building wheel for imagehash (setup.py) ... \u001b[?25l\u001b[?25hdone\n",
            "  Created wheel for imagehash: filename=ImageHash-4.2.1-py2.py3-none-any.whl size=295206 sha256=b3ce41b4ea0d4b1a9f53edad1268b4c5ea5bc3cf7d478f40f6dfcfcbd2291bfd\n",
            "  Stored in directory: /root/.cache/pip/wheels/4c/d5/59/5e3e297533ddb09407769762985d134135064c6831e29a914e\n",
            "Successfully built pandas-profiling htmlmin imagehash\n",
            "Installing collected packages: tangled-up-in-unicode, scipy, multimethod, visions, imagehash, requests, PyYAML, pydantic, phik, htmlmin, pandas-profiling\n",
            "  Attempting uninstall: scipy\n",
            "    Found existing installation: scipy 1.4.1\n",
            "    Uninstalling scipy-1.4.1:\n",
            "      Successfully uninstalled scipy-1.4.1\n",
            "  Attempting uninstall: requests\n",
            "    Found existing installation: requests 2.23.0\n",
            "    Uninstalling requests-2.23.0:\n",
            "      Successfully uninstalled requests-2.23.0\n",
            "  Attempting uninstall: PyYAML\n",
            "    Found existing installation: PyYAML 3.13\n",
            "    Uninstalling PyYAML-3.13:\n",
            "      Successfully uninstalled PyYAML-3.13\n",
            "  Attempting uninstall: pandas-profiling\n",
            "    Found existing installation: pandas-profiling 1.4.1\n",
            "    Uninstalling pandas-profiling-1.4.1:\n",
            "      Successfully uninstalled pandas-profiling-1.4.1\n",
            "\u001b[31mERROR: pip's dependency resolver does not currently take into account all the packages that are installed. This behaviour is the source of the following dependency conflicts.\n",
            "google-colab 1.0.0 requires requests~=2.23.0, but you have requests 2.27.1 which is incompatible.\n",
            "datascience 0.10.6 requires folium==0.2.1, but you have folium 0.8.3 which is incompatible.\n",
            "albumentations 0.1.12 requires imgaug<0.2.7,>=0.2.5, but you have imgaug 0.2.9 which is incompatible.\u001b[0m\n",
            "Successfully installed PyYAML-6.0 htmlmin-0.1.12 imagehash-4.2.1 multimethod-1.7 pandas-profiling-3.1.1 phik-0.12.0 pydantic-1.9.0 requests-2.27.1 scipy-1.7.3 tangled-up-in-unicode-0.2.0 visions-0.7.4\n"
          ]
        }
      ]
    },
    {
      "cell_type": "code",
      "source": [
        "!pip install plotly --upgrade"
      ],
      "metadata": {
        "colab": {
          "base_uri": "https://localhost:8080/"
        },
        "id": "6zXpfRESLcB6",
        "outputId": "d28d0aee-8c38-41c2-a6cb-51695e5b70c7"
      },
      "execution_count": null,
      "outputs": [
        {
          "output_type": "stream",
          "name": "stdout",
          "text": [
            "Requirement already satisfied: plotly in /usr/local/lib/python3.7/dist-packages (5.5.0)\n",
            "Collecting plotly\n",
            "  Downloading plotly-5.6.0-py2.py3-none-any.whl (27.7 MB)\n",
            "\u001b[K     |████████████████████████████████| 27.7 MB 64.1 MB/s \n",
            "\u001b[?25hRequirement already satisfied: tenacity>=6.2.0 in /usr/local/lib/python3.7/dist-packages (from plotly) (8.0.1)\n",
            "Requirement already satisfied: six in /usr/local/lib/python3.7/dist-packages (from plotly) (1.15.0)\n",
            "Installing collected packages: plotly\n",
            "  Attempting uninstall: plotly\n",
            "    Found existing installation: plotly 5.5.0\n",
            "    Uninstalling plotly-5.5.0:\n",
            "      Successfully uninstalled plotly-5.5.0\n",
            "Successfully installed plotly-5.6.0\n"
          ]
        }
      ]
    },
    {
      "cell_type": "code",
      "source": [
        "!pip install plotly-express"
      ],
      "metadata": {
        "colab": {
          "base_uri": "https://localhost:8080/"
        },
        "id": "T4Ytd6BIMN_u",
        "outputId": "08c792f5-5c17-4ed8-fdaf-622aca59329f"
      },
      "execution_count": null,
      "outputs": [
        {
          "output_type": "stream",
          "name": "stdout",
          "text": [
            "Collecting plotly-express\n",
            "  Downloading plotly_express-0.4.1-py2.py3-none-any.whl (2.9 kB)\n",
            "Requirement already satisfied: numpy>=1.11 in /usr/local/lib/python3.7/dist-packages (from plotly-express) (1.21.5)\n",
            "Requirement already satisfied: pandas>=0.20.0 in /usr/local/lib/python3.7/dist-packages (from plotly-express) (1.3.5)\n",
            "Requirement already satisfied: statsmodels>=0.9.0 in /usr/local/lib/python3.7/dist-packages (from plotly-express) (0.10.2)\n",
            "Requirement already satisfied: patsy>=0.5 in /usr/local/lib/python3.7/dist-packages (from plotly-express) (0.5.2)\n",
            "Requirement already satisfied: scipy>=0.18 in /usr/local/lib/python3.7/dist-packages (from plotly-express) (1.7.3)\n",
            "Requirement already satisfied: plotly>=4.1.0 in /usr/local/lib/python3.7/dist-packages (from plotly-express) (5.6.0)\n",
            "Requirement already satisfied: pytz>=2017.3 in /usr/local/lib/python3.7/dist-packages (from pandas>=0.20.0->plotly-express) (2018.9)\n",
            "Requirement already satisfied: python-dateutil>=2.7.3 in /usr/local/lib/python3.7/dist-packages (from pandas>=0.20.0->plotly-express) (2.8.2)\n",
            "Requirement already satisfied: six in /usr/local/lib/python3.7/dist-packages (from patsy>=0.5->plotly-express) (1.15.0)\n",
            "Requirement already satisfied: tenacity>=6.2.0 in /usr/local/lib/python3.7/dist-packages (from plotly>=4.1.0->plotly-express) (8.0.1)\n",
            "Installing collected packages: plotly-express\n",
            "Successfully installed plotly-express-0.4.1\n"
          ]
        }
      ]
    },
    {
      "cell_type": "code",
      "source": [
        "import numpy as np\n",
        "import pandas as pd\n",
        "import matplotlib.pyplot as plt\n",
        "%matplotlib inline\n",
        "import seaborn as sns\n",
        "\n",
        "import calendar\n",
        "\n",
        "import warnings \n",
        "warnings.filterwarnings('ignore')\n",
        "\n",
        "import plotly\n",
        "print(plotly.__version__)\n",
        "\n",
        "from sklearn.metrics import confusion_matrix\n",
        "from sklearn.metrics import classification_report\n",
        "from sklearn.naive_bayes import MultinomialNB\n",
        "from sklearn.ensemble import RandomForestClassifier\n",
        "\n",
        "from sklearn.metrics import accuracy_score,precision_score,f1_score,recall_score\n",
        "from sklearn.preprocessing import MinMaxScaler\n",
        "\n",
        "from sklearn import metrics\n",
        "from sklearn.linear_model import LogisticRegression\n",
        "from sklearn.model_selection import GridSearchCV\n",
        "\n",
        "import tensorflow as tf\n",
        "#from tensorflow.keras.utils import to_categorical\n",
        "from tensorflow.keras import regularizers,optimizers\n",
        "from tensorflow.keras.layers import Activation,Dense\n",
        "#from tensorflow.keras.layers import Activation,Dense\n",
        "#from tensorflow.keras.models import load_model\n",
        "\n",
        "#from tensorflow.keras.utils import to_categorical\n",
        "#from tensorflow.keras import regularizers, optimizers\n",
        "#from tensorflow.keras.models import load_model\n",
        "\n",
        "from pandas_profiling import ProfileReport"
      ],
      "metadata": {
        "colab": {
          "base_uri": "https://localhost:8080/"
        },
        "id": "PTHItFW9IZia",
        "outputId": "20d7707f-1fab-4b3a-9f1d-a4fbcbcb7c44"
      },
      "execution_count": 2,
      "outputs": [
        {
          "output_type": "stream",
          "name": "stdout",
          "text": [
            "5.5.0\n"
          ]
        }
      ]
    },
    {
      "cell_type": "code",
      "source": [
        "df_health=pd.read_csv(\"/content/drive/My Drive/Colab Notebooks/IHMStefanini_industrial_safety_and_health_database_with_accidents_description.csv\")\n",
        "df_health.head()"
      ],
      "metadata": {
        "colab": {
          "base_uri": "https://localhost:8080/",
          "height": 354
        },
        "id": "BwnZCD3cJXyA",
        "outputId": "e02ef7ef-4283-4111-a0dc-9486fa7eab3a"
      },
      "execution_count": 3,
      "outputs": [
        {
          "output_type": "execute_result",
          "data": {
            "text/plain": [
              "   Unnamed: 0                 Data   Countries     Local Industry Sector  \\\n",
              "0           0  2016-01-01 00:00:00  Country_01  Local_01          Mining   \n",
              "1           1  2016-01-02 00:00:00  Country_02  Local_02          Mining   \n",
              "2           2  2016-01-06 00:00:00  Country_01  Local_03          Mining   \n",
              "3           3  2016-01-08 00:00:00  Country_01  Local_04          Mining   \n",
              "4           4  2016-01-10 00:00:00  Country_01  Local_04          Mining   \n",
              "\n",
              "  Accident Level Potential Accident Level Genre Employee or Third Party  \\\n",
              "0              I                       IV  Male             Third Party   \n",
              "1              I                       IV  Male                Employee   \n",
              "2              I                      III  Male    Third Party (Remote)   \n",
              "3              I                        I  Male             Third Party   \n",
              "4             IV                       IV  Male             Third Party   \n",
              "\n",
              "         Critical Risk                                        Description  \n",
              "0              Pressed  While removing the drill rod of the Jumbo 08 f...  \n",
              "1  Pressurized Systems  During the activation of a sodium sulphide pum...  \n",
              "2         Manual Tools  In the sub-station MILPO located at level +170...  \n",
              "3               Others  Being 9:45 am. approximately in the Nv. 1880 C...  \n",
              "4               Others  Approximately at 11:45 a.m. in circumstances t...  "
            ],
            "text/html": [
              "\n",
              "  <div id=\"df-fbe94270-0c2a-45ab-9df5-e25afaa80741\">\n",
              "    <div class=\"colab-df-container\">\n",
              "      <div>\n",
              "<style scoped>\n",
              "    .dataframe tbody tr th:only-of-type {\n",
              "        vertical-align: middle;\n",
              "    }\n",
              "\n",
              "    .dataframe tbody tr th {\n",
              "        vertical-align: top;\n",
              "    }\n",
              "\n",
              "    .dataframe thead th {\n",
              "        text-align: right;\n",
              "    }\n",
              "</style>\n",
              "<table border=\"1\" class=\"dataframe\">\n",
              "  <thead>\n",
              "    <tr style=\"text-align: right;\">\n",
              "      <th></th>\n",
              "      <th>Unnamed: 0</th>\n",
              "      <th>Data</th>\n",
              "      <th>Countries</th>\n",
              "      <th>Local</th>\n",
              "      <th>Industry Sector</th>\n",
              "      <th>Accident Level</th>\n",
              "      <th>Potential Accident Level</th>\n",
              "      <th>Genre</th>\n",
              "      <th>Employee or Third Party</th>\n",
              "      <th>Critical Risk</th>\n",
              "      <th>Description</th>\n",
              "    </tr>\n",
              "  </thead>\n",
              "  <tbody>\n",
              "    <tr>\n",
              "      <th>0</th>\n",
              "      <td>0</td>\n",
              "      <td>2016-01-01 00:00:00</td>\n",
              "      <td>Country_01</td>\n",
              "      <td>Local_01</td>\n",
              "      <td>Mining</td>\n",
              "      <td>I</td>\n",
              "      <td>IV</td>\n",
              "      <td>Male</td>\n",
              "      <td>Third Party</td>\n",
              "      <td>Pressed</td>\n",
              "      <td>While removing the drill rod of the Jumbo 08 f...</td>\n",
              "    </tr>\n",
              "    <tr>\n",
              "      <th>1</th>\n",
              "      <td>1</td>\n",
              "      <td>2016-01-02 00:00:00</td>\n",
              "      <td>Country_02</td>\n",
              "      <td>Local_02</td>\n",
              "      <td>Mining</td>\n",
              "      <td>I</td>\n",
              "      <td>IV</td>\n",
              "      <td>Male</td>\n",
              "      <td>Employee</td>\n",
              "      <td>Pressurized Systems</td>\n",
              "      <td>During the activation of a sodium sulphide pum...</td>\n",
              "    </tr>\n",
              "    <tr>\n",
              "      <th>2</th>\n",
              "      <td>2</td>\n",
              "      <td>2016-01-06 00:00:00</td>\n",
              "      <td>Country_01</td>\n",
              "      <td>Local_03</td>\n",
              "      <td>Mining</td>\n",
              "      <td>I</td>\n",
              "      <td>III</td>\n",
              "      <td>Male</td>\n",
              "      <td>Third Party (Remote)</td>\n",
              "      <td>Manual Tools</td>\n",
              "      <td>In the sub-station MILPO located at level +170...</td>\n",
              "    </tr>\n",
              "    <tr>\n",
              "      <th>3</th>\n",
              "      <td>3</td>\n",
              "      <td>2016-01-08 00:00:00</td>\n",
              "      <td>Country_01</td>\n",
              "      <td>Local_04</td>\n",
              "      <td>Mining</td>\n",
              "      <td>I</td>\n",
              "      <td>I</td>\n",
              "      <td>Male</td>\n",
              "      <td>Third Party</td>\n",
              "      <td>Others</td>\n",
              "      <td>Being 9:45 am. approximately in the Nv. 1880 C...</td>\n",
              "    </tr>\n",
              "    <tr>\n",
              "      <th>4</th>\n",
              "      <td>4</td>\n",
              "      <td>2016-01-10 00:00:00</td>\n",
              "      <td>Country_01</td>\n",
              "      <td>Local_04</td>\n",
              "      <td>Mining</td>\n",
              "      <td>IV</td>\n",
              "      <td>IV</td>\n",
              "      <td>Male</td>\n",
              "      <td>Third Party</td>\n",
              "      <td>Others</td>\n",
              "      <td>Approximately at 11:45 a.m. in circumstances t...</td>\n",
              "    </tr>\n",
              "  </tbody>\n",
              "</table>\n",
              "</div>\n",
              "      <button class=\"colab-df-convert\" onclick=\"convertToInteractive('df-fbe94270-0c2a-45ab-9df5-e25afaa80741')\"\n",
              "              title=\"Convert this dataframe to an interactive table.\"\n",
              "              style=\"display:none;\">\n",
              "        \n",
              "  <svg xmlns=\"http://www.w3.org/2000/svg\" height=\"24px\"viewBox=\"0 0 24 24\"\n",
              "       width=\"24px\">\n",
              "    <path d=\"M0 0h24v24H0V0z\" fill=\"none\"/>\n",
              "    <path d=\"M18.56 5.44l.94 2.06.94-2.06 2.06-.94-2.06-.94-.94-2.06-.94 2.06-2.06.94zm-11 1L8.5 8.5l.94-2.06 2.06-.94-2.06-.94L8.5 2.5l-.94 2.06-2.06.94zm10 10l.94 2.06.94-2.06 2.06-.94-2.06-.94-.94-2.06-.94 2.06-2.06.94z\"/><path d=\"M17.41 7.96l-1.37-1.37c-.4-.4-.92-.59-1.43-.59-.52 0-1.04.2-1.43.59L10.3 9.45l-7.72 7.72c-.78.78-.78 2.05 0 2.83L4 21.41c.39.39.9.59 1.41.59.51 0 1.02-.2 1.41-.59l7.78-7.78 2.81-2.81c.8-.78.8-2.07 0-2.86zM5.41 20L4 18.59l7.72-7.72 1.47 1.35L5.41 20z\"/>\n",
              "  </svg>\n",
              "      </button>\n",
              "      \n",
              "  <style>\n",
              "    .colab-df-container {\n",
              "      display:flex;\n",
              "      flex-wrap:wrap;\n",
              "      gap: 12px;\n",
              "    }\n",
              "\n",
              "    .colab-df-convert {\n",
              "      background-color: #E8F0FE;\n",
              "      border: none;\n",
              "      border-radius: 50%;\n",
              "      cursor: pointer;\n",
              "      display: none;\n",
              "      fill: #1967D2;\n",
              "      height: 32px;\n",
              "      padding: 0 0 0 0;\n",
              "      width: 32px;\n",
              "    }\n",
              "\n",
              "    .colab-df-convert:hover {\n",
              "      background-color: #E2EBFA;\n",
              "      box-shadow: 0px 1px 2px rgba(60, 64, 67, 0.3), 0px 1px 3px 1px rgba(60, 64, 67, 0.15);\n",
              "      fill: #174EA6;\n",
              "    }\n",
              "\n",
              "    [theme=dark] .colab-df-convert {\n",
              "      background-color: #3B4455;\n",
              "      fill: #D2E3FC;\n",
              "    }\n",
              "\n",
              "    [theme=dark] .colab-df-convert:hover {\n",
              "      background-color: #434B5C;\n",
              "      box-shadow: 0px 1px 3px 1px rgba(0, 0, 0, 0.15);\n",
              "      filter: drop-shadow(0px 1px 2px rgba(0, 0, 0, 0.3));\n",
              "      fill: #FFFFFF;\n",
              "    }\n",
              "  </style>\n",
              "\n",
              "      <script>\n",
              "        const buttonEl =\n",
              "          document.querySelector('#df-fbe94270-0c2a-45ab-9df5-e25afaa80741 button.colab-df-convert');\n",
              "        buttonEl.style.display =\n",
              "          google.colab.kernel.accessAllowed ? 'block' : 'none';\n",
              "\n",
              "        async function convertToInteractive(key) {\n",
              "          const element = document.querySelector('#df-fbe94270-0c2a-45ab-9df5-e25afaa80741');\n",
              "          const dataTable =\n",
              "            await google.colab.kernel.invokeFunction('convertToInteractive',\n",
              "                                                     [key], {});\n",
              "          if (!dataTable) return;\n",
              "\n",
              "          const docLinkHtml = 'Like what you see? Visit the ' +\n",
              "            '<a target=\"_blank\" href=https://colab.research.google.com/notebooks/data_table.ipynb>data table notebook</a>'\n",
              "            + ' to learn more about interactive tables.';\n",
              "          element.innerHTML = '';\n",
              "          dataTable['output_type'] = 'display_data';\n",
              "          await google.colab.output.renderOutput(dataTable, element);\n",
              "          const docLink = document.createElement('div');\n",
              "          docLink.innerHTML = docLinkHtml;\n",
              "          element.appendChild(docLink);\n",
              "        }\n",
              "      </script>\n",
              "    </div>\n",
              "  </div>\n",
              "  "
            ]
          },
          "metadata": {},
          "execution_count": 3
        }
      ]
    },
    {
      "cell_type": "code",
      "source": [
        "print(\"No. of Rows and Columns in Dataframe\")\n",
        "df_health.shape"
      ],
      "metadata": {
        "colab": {
          "base_uri": "https://localhost:8080/"
        },
        "id": "lPOzDNmSJrK2",
        "outputId": "f4d2435d-0019-4fa9-a221-e2cff583a8c4"
      },
      "execution_count": 4,
      "outputs": [
        {
          "output_type": "stream",
          "name": "stdout",
          "text": [
            "No. of Rows and Columns in Dataframe\n"
          ]
        },
        {
          "output_type": "execute_result",
          "data": {
            "text/plain": [
              "(425, 11)"
            ]
          },
          "metadata": {},
          "execution_count": 4
        }
      ]
    },
    {
      "cell_type": "code",
      "source": [
        "print(\"No. of elements in Dataframe\")\n",
        "df_health.size"
      ],
      "metadata": {
        "colab": {
          "base_uri": "https://localhost:8080/"
        },
        "id": "ZQlsqpWAJ4bA",
        "outputId": "9f0d166e-41e8-4f2e-ce7a-8c1c524fe9eb"
      },
      "execution_count": 5,
      "outputs": [
        {
          "output_type": "stream",
          "name": "stdout",
          "text": [
            "No. of elements in Dataframe\n"
          ]
        },
        {
          "output_type": "execute_result",
          "data": {
            "text/plain": [
              "4675"
            ]
          },
          "metadata": {},
          "execution_count": 5
        }
      ]
    },
    {
      "cell_type": "code",
      "source": [
        "prof = ProfileReport(df_health) \n",
        "prof"
      ],
      "metadata": {
        "colab": {
          "base_uri": "https://localhost:8080/",
          "height": 340
        },
        "id": "uAAoaxgVJ81d",
        "outputId": "06a12966-f61d-4d70-e5e6-bbbbb70a4fd8"
      },
      "execution_count": 6,
      "outputs": [
        {
          "output_type": "error",
          "ename": "TypeError",
          "evalue": "ignored",
          "traceback": [
            "\u001b[0;31m---------------------------------------------------------------------------\u001b[0m",
            "\u001b[0;31mTypeError\u001b[0m                                 Traceback (most recent call last)",
            "\u001b[0;32m<ipython-input-6-f476eccf81c0>\u001b[0m in \u001b[0;36m<module>\u001b[0;34m()\u001b[0m\n\u001b[0;32m----> 1\u001b[0;31m \u001b[0mprof\u001b[0m \u001b[0;34m=\u001b[0m \u001b[0mProfileReport\u001b[0m\u001b[0;34m(\u001b[0m\u001b[0mdf_health\u001b[0m\u001b[0;34m)\u001b[0m\u001b[0;34m\u001b[0m\u001b[0;34m\u001b[0m\u001b[0m\n\u001b[0m\u001b[1;32m      2\u001b[0m \u001b[0mprof\u001b[0m\u001b[0;34m\u001b[0m\u001b[0;34m\u001b[0m\u001b[0m\n",
            "\u001b[0;32m/usr/local/lib/python3.7/dist-packages/pandas_profiling/__init__.py\u001b[0m in \u001b[0;36m__init__\u001b[0;34m(self, df, **kwargs)\u001b[0m\n\u001b[1;32m     64\u001b[0m         \u001b[0msample\u001b[0m \u001b[0;34m=\u001b[0m \u001b[0mkwargs\u001b[0m\u001b[0;34m.\u001b[0m\u001b[0mget\u001b[0m\u001b[0;34m(\u001b[0m\u001b[0;34m'sample'\u001b[0m\u001b[0;34m,\u001b[0m \u001b[0mdf\u001b[0m\u001b[0;34m.\u001b[0m\u001b[0mhead\u001b[0m\u001b[0;34m(\u001b[0m\u001b[0;34m)\u001b[0m\u001b[0;34m)\u001b[0m\u001b[0;34m\u001b[0m\u001b[0;34m\u001b[0m\u001b[0m\n\u001b[1;32m     65\u001b[0m \u001b[0;34m\u001b[0m\u001b[0m\n\u001b[0;32m---> 66\u001b[0;31m         \u001b[0mdescription_set\u001b[0m \u001b[0;34m=\u001b[0m \u001b[0mdescribe\u001b[0m\u001b[0;34m(\u001b[0m\u001b[0mdf\u001b[0m\u001b[0;34m,\u001b[0m \u001b[0;34m**\u001b[0m\u001b[0mkwargs\u001b[0m\u001b[0;34m)\u001b[0m\u001b[0;34m\u001b[0m\u001b[0;34m\u001b[0m\u001b[0m\n\u001b[0m\u001b[1;32m     67\u001b[0m \u001b[0;34m\u001b[0m\u001b[0m\n\u001b[1;32m     68\u001b[0m         self.html = to_html(sample,\n",
            "\u001b[0;32m/usr/local/lib/python3.7/dist-packages/pandas_profiling/describe.py\u001b[0m in \u001b[0;36mdescribe\u001b[0;34m(df, bins, check_correlation, correlation_threshold, correlation_overrides, check_recoded, pool_size, **kwargs)\u001b[0m\n\u001b[1;32m    390\u001b[0m             \u001b[0;32mif\u001b[0m \u001b[0mname\u001b[0m \u001b[0;32mnot\u001b[0m \u001b[0;32min\u001b[0m \u001b[0mnames\u001b[0m\u001b[0;34m:\u001b[0m\u001b[0;34m\u001b[0m\u001b[0;34m\u001b[0m\u001b[0m\n\u001b[1;32m    391\u001b[0m                 \u001b[0mnames\u001b[0m\u001b[0;34m.\u001b[0m\u001b[0mappend\u001b[0m\u001b[0;34m(\u001b[0m\u001b[0mname\u001b[0m\u001b[0;34m)\u001b[0m\u001b[0;34m\u001b[0m\u001b[0;34m\u001b[0m\u001b[0m\n\u001b[0;32m--> 392\u001b[0;31m     \u001b[0mvariable_stats\u001b[0m \u001b[0;34m=\u001b[0m \u001b[0mpd\u001b[0m\u001b[0;34m.\u001b[0m\u001b[0mconcat\u001b[0m\u001b[0;34m(\u001b[0m\u001b[0mldesc\u001b[0m\u001b[0;34m,\u001b[0m \u001b[0mjoin_axes\u001b[0m\u001b[0;34m=\u001b[0m\u001b[0mpd\u001b[0m\u001b[0;34m.\u001b[0m\u001b[0mIndex\u001b[0m\u001b[0;34m(\u001b[0m\u001b[0;34m[\u001b[0m\u001b[0mnames\u001b[0m\u001b[0;34m]\u001b[0m\u001b[0;34m)\u001b[0m\u001b[0;34m,\u001b[0m \u001b[0maxis\u001b[0m\u001b[0;34m=\u001b[0m\u001b[0;36m1\u001b[0m\u001b[0;34m)\u001b[0m\u001b[0;34m\u001b[0m\u001b[0;34m\u001b[0m\u001b[0m\n\u001b[0m\u001b[1;32m    393\u001b[0m     \u001b[0mvariable_stats\u001b[0m\u001b[0;34m.\u001b[0m\u001b[0mcolumns\u001b[0m\u001b[0;34m.\u001b[0m\u001b[0mnames\u001b[0m \u001b[0;34m=\u001b[0m \u001b[0mdf\u001b[0m\u001b[0;34m.\u001b[0m\u001b[0mcolumns\u001b[0m\u001b[0;34m.\u001b[0m\u001b[0mnames\u001b[0m\u001b[0;34m\u001b[0m\u001b[0;34m\u001b[0m\u001b[0m\n\u001b[1;32m    394\u001b[0m \u001b[0;34m\u001b[0m\u001b[0m\n",
            "\u001b[0;32m/usr/local/lib/python3.7/dist-packages/pandas/util/_decorators.py\u001b[0m in \u001b[0;36mwrapper\u001b[0;34m(*args, **kwargs)\u001b[0m\n\u001b[1;32m    309\u001b[0m                     \u001b[0mstacklevel\u001b[0m\u001b[0;34m=\u001b[0m\u001b[0mstacklevel\u001b[0m\u001b[0;34m,\u001b[0m\u001b[0;34m\u001b[0m\u001b[0;34m\u001b[0m\u001b[0m\n\u001b[1;32m    310\u001b[0m                 )\n\u001b[0;32m--> 311\u001b[0;31m             \u001b[0;32mreturn\u001b[0m \u001b[0mfunc\u001b[0m\u001b[0;34m(\u001b[0m\u001b[0;34m*\u001b[0m\u001b[0margs\u001b[0m\u001b[0;34m,\u001b[0m \u001b[0;34m**\u001b[0m\u001b[0mkwargs\u001b[0m\u001b[0;34m)\u001b[0m\u001b[0;34m\u001b[0m\u001b[0;34m\u001b[0m\u001b[0m\n\u001b[0m\u001b[1;32m    312\u001b[0m \u001b[0;34m\u001b[0m\u001b[0m\n\u001b[1;32m    313\u001b[0m         \u001b[0;32mreturn\u001b[0m \u001b[0mwrapper\u001b[0m\u001b[0;34m\u001b[0m\u001b[0;34m\u001b[0m\u001b[0m\n",
            "\u001b[0;31mTypeError\u001b[0m: concat() got an unexpected keyword argument 'join_axes'"
          ]
        }
      ]
    },
    {
      "cell_type": "markdown",
      "source": [
        "#**Step 2: Data cleansing**"
      ],
      "metadata": {
        "id": "RUMHLR-CMgmR"
      }
    },
    {
      "cell_type": "code",
      "source": [
        "df_health.info()"
      ],
      "metadata": {
        "id": "ADWBb_MOKW7H",
        "colab": {
          "base_uri": "https://localhost:8080/"
        },
        "outputId": "76de1574-f047-4dad-cb52-7ba66b3a864c"
      },
      "execution_count": 7,
      "outputs": [
        {
          "output_type": "stream",
          "name": "stdout",
          "text": [
            "<class 'pandas.core.frame.DataFrame'>\n",
            "RangeIndex: 425 entries, 0 to 424\n",
            "Data columns (total 11 columns):\n",
            " #   Column                    Non-Null Count  Dtype \n",
            "---  ------                    --------------  ----- \n",
            " 0   Unnamed: 0                425 non-null    int64 \n",
            " 1   Data                      425 non-null    object\n",
            " 2   Countries                 425 non-null    object\n",
            " 3   Local                     425 non-null    object\n",
            " 4   Industry Sector           425 non-null    object\n",
            " 5   Accident Level            425 non-null    object\n",
            " 6   Potential Accident Level  425 non-null    object\n",
            " 7   Genre                     425 non-null    object\n",
            " 8   Employee or Third Party   425 non-null    object\n",
            " 9   Critical Risk             425 non-null    object\n",
            " 10  Description               425 non-null    object\n",
            "dtypes: int64(1), object(10)\n",
            "memory usage: 36.6+ KB\n"
          ]
        }
      ]
    },
    {
      "cell_type": "code",
      "source": [
        "df_health.isnull().values.any()"
      ],
      "metadata": {
        "colab": {
          "base_uri": "https://localhost:8080/"
        },
        "id": "MHNkETVkMlVt",
        "outputId": "95470445-e195-4725-95a2-6f609416b723"
      },
      "execution_count": 8,
      "outputs": [
        {
          "output_type": "execute_result",
          "data": {
            "text/plain": [
              "False"
            ]
          },
          "metadata": {},
          "execution_count": 8
        }
      ]
    },
    {
      "cell_type": "code",
      "source": [
        "df_health.isna().values.any()"
      ],
      "metadata": {
        "colab": {
          "base_uri": "https://localhost:8080/"
        },
        "id": "Xp-_PsUmM5_t",
        "outputId": "c88c13a0-7409-4ffe-ee95-843c47c87c1a"
      },
      "execution_count": 9,
      "outputs": [
        {
          "output_type": "execute_result",
          "data": {
            "text/plain": [
              "False"
            ]
          },
          "metadata": {},
          "execution_count": 9
        }
      ]
    },
    {
      "cell_type": "code",
      "source": [
        "df_health.isnull().sum()"
      ],
      "metadata": {
        "colab": {
          "base_uri": "https://localhost:8080/"
        },
        "id": "FwsfWJCpM_nF",
        "outputId": "460974ff-a0b6-4a41-f101-150891ff9087"
      },
      "execution_count": 10,
      "outputs": [
        {
          "output_type": "execute_result",
          "data": {
            "text/plain": [
              "Unnamed: 0                  0\n",
              "Data                        0\n",
              "Countries                   0\n",
              "Local                       0\n",
              "Industry Sector             0\n",
              "Accident Level              0\n",
              "Potential Accident Level    0\n",
              "Genre                       0\n",
              "Employee or Third Party     0\n",
              "Critical Risk               0\n",
              "Description                 0\n",
              "dtype: int64"
            ]
          },
          "metadata": {},
          "execution_count": 10
        }
      ]
    },
    {
      "cell_type": "code",
      "source": [
        "df_health.isna().sum()"
      ],
      "metadata": {
        "colab": {
          "base_uri": "https://localhost:8080/"
        },
        "id": "VcsR054hNC4e",
        "outputId": "3af52fec-172c-4abd-a6ca-af96c7fe1917"
      },
      "execution_count": 11,
      "outputs": [
        {
          "output_type": "execute_result",
          "data": {
            "text/plain": [
              "Unnamed: 0                  0\n",
              "Data                        0\n",
              "Countries                   0\n",
              "Local                       0\n",
              "Industry Sector             0\n",
              "Accident Level              0\n",
              "Potential Accident Level    0\n",
              "Genre                       0\n",
              "Employee or Third Party     0\n",
              "Critical Risk               0\n",
              "Description                 0\n",
              "dtype: int64"
            ]
          },
          "metadata": {},
          "execution_count": 11
        }
      ]
    },
    {
      "cell_type": "code",
      "source": [
        "df_health.duplicated().sum()"
      ],
      "metadata": {
        "colab": {
          "base_uri": "https://localhost:8080/"
        },
        "id": "jGOU2Kg-NJy1",
        "outputId": "8a860ae6-3060-44da-8f10-6c6ed533a204"
      },
      "execution_count": 12,
      "outputs": [
        {
          "output_type": "execute_result",
          "data": {
            "text/plain": [
              "0"
            ]
          },
          "metadata": {},
          "execution_count": 12
        }
      ]
    },
    {
      "cell_type": "code",
      "source": [
        "df_health.describe(include=['object'])"
      ],
      "metadata": {
        "colab": {
          "base_uri": "https://localhost:8080/",
          "height": 254
        },
        "id": "jclfUAyWNR0K",
        "outputId": "8f3498a9-8937-4dcd-9575-95264359bc95"
      },
      "execution_count": 13,
      "outputs": [
        {
          "output_type": "execute_result",
          "data": {
            "text/plain": [
              "                       Data   Countries     Local Industry Sector  \\\n",
              "count                   425         425       425             425   \n",
              "unique                  287           3        12               3   \n",
              "top     2017-02-08 00:00:00  Country_01  Local_03          Mining   \n",
              "freq                      6         251        90             241   \n",
              "\n",
              "       Accident Level Potential Accident Level Genre Employee or Third Party  \\\n",
              "count             425                      425   425                     425   \n",
              "unique              5                        6     2                       3   \n",
              "top                 I                       IV  Male             Third Party   \n",
              "freq              316                      143   403                     189   \n",
              "\n",
              "       Critical Risk                                        Description  \n",
              "count            425                                                425  \n",
              "unique            33                                                411  \n",
              "top           Others  During the activity of chuteo of ore in hopper...  \n",
              "freq             232                                                  3  "
            ],
            "text/html": [
              "\n",
              "  <div id=\"df-0cdcb585-c829-4319-84a3-27107a749181\">\n",
              "    <div class=\"colab-df-container\">\n",
              "      <div>\n",
              "<style scoped>\n",
              "    .dataframe tbody tr th:only-of-type {\n",
              "        vertical-align: middle;\n",
              "    }\n",
              "\n",
              "    .dataframe tbody tr th {\n",
              "        vertical-align: top;\n",
              "    }\n",
              "\n",
              "    .dataframe thead th {\n",
              "        text-align: right;\n",
              "    }\n",
              "</style>\n",
              "<table border=\"1\" class=\"dataframe\">\n",
              "  <thead>\n",
              "    <tr style=\"text-align: right;\">\n",
              "      <th></th>\n",
              "      <th>Data</th>\n",
              "      <th>Countries</th>\n",
              "      <th>Local</th>\n",
              "      <th>Industry Sector</th>\n",
              "      <th>Accident Level</th>\n",
              "      <th>Potential Accident Level</th>\n",
              "      <th>Genre</th>\n",
              "      <th>Employee or Third Party</th>\n",
              "      <th>Critical Risk</th>\n",
              "      <th>Description</th>\n",
              "    </tr>\n",
              "  </thead>\n",
              "  <tbody>\n",
              "    <tr>\n",
              "      <th>count</th>\n",
              "      <td>425</td>\n",
              "      <td>425</td>\n",
              "      <td>425</td>\n",
              "      <td>425</td>\n",
              "      <td>425</td>\n",
              "      <td>425</td>\n",
              "      <td>425</td>\n",
              "      <td>425</td>\n",
              "      <td>425</td>\n",
              "      <td>425</td>\n",
              "    </tr>\n",
              "    <tr>\n",
              "      <th>unique</th>\n",
              "      <td>287</td>\n",
              "      <td>3</td>\n",
              "      <td>12</td>\n",
              "      <td>3</td>\n",
              "      <td>5</td>\n",
              "      <td>6</td>\n",
              "      <td>2</td>\n",
              "      <td>3</td>\n",
              "      <td>33</td>\n",
              "      <td>411</td>\n",
              "    </tr>\n",
              "    <tr>\n",
              "      <th>top</th>\n",
              "      <td>2017-02-08 00:00:00</td>\n",
              "      <td>Country_01</td>\n",
              "      <td>Local_03</td>\n",
              "      <td>Mining</td>\n",
              "      <td>I</td>\n",
              "      <td>IV</td>\n",
              "      <td>Male</td>\n",
              "      <td>Third Party</td>\n",
              "      <td>Others</td>\n",
              "      <td>During the activity of chuteo of ore in hopper...</td>\n",
              "    </tr>\n",
              "    <tr>\n",
              "      <th>freq</th>\n",
              "      <td>6</td>\n",
              "      <td>251</td>\n",
              "      <td>90</td>\n",
              "      <td>241</td>\n",
              "      <td>316</td>\n",
              "      <td>143</td>\n",
              "      <td>403</td>\n",
              "      <td>189</td>\n",
              "      <td>232</td>\n",
              "      <td>3</td>\n",
              "    </tr>\n",
              "  </tbody>\n",
              "</table>\n",
              "</div>\n",
              "      <button class=\"colab-df-convert\" onclick=\"convertToInteractive('df-0cdcb585-c829-4319-84a3-27107a749181')\"\n",
              "              title=\"Convert this dataframe to an interactive table.\"\n",
              "              style=\"display:none;\">\n",
              "        \n",
              "  <svg xmlns=\"http://www.w3.org/2000/svg\" height=\"24px\"viewBox=\"0 0 24 24\"\n",
              "       width=\"24px\">\n",
              "    <path d=\"M0 0h24v24H0V0z\" fill=\"none\"/>\n",
              "    <path d=\"M18.56 5.44l.94 2.06.94-2.06 2.06-.94-2.06-.94-.94-2.06-.94 2.06-2.06.94zm-11 1L8.5 8.5l.94-2.06 2.06-.94-2.06-.94L8.5 2.5l-.94 2.06-2.06.94zm10 10l.94 2.06.94-2.06 2.06-.94-2.06-.94-.94-2.06-.94 2.06-2.06.94z\"/><path d=\"M17.41 7.96l-1.37-1.37c-.4-.4-.92-.59-1.43-.59-.52 0-1.04.2-1.43.59L10.3 9.45l-7.72 7.72c-.78.78-.78 2.05 0 2.83L4 21.41c.39.39.9.59 1.41.59.51 0 1.02-.2 1.41-.59l7.78-7.78 2.81-2.81c.8-.78.8-2.07 0-2.86zM5.41 20L4 18.59l7.72-7.72 1.47 1.35L5.41 20z\"/>\n",
              "  </svg>\n",
              "      </button>\n",
              "      \n",
              "  <style>\n",
              "    .colab-df-container {\n",
              "      display:flex;\n",
              "      flex-wrap:wrap;\n",
              "      gap: 12px;\n",
              "    }\n",
              "\n",
              "    .colab-df-convert {\n",
              "      background-color: #E8F0FE;\n",
              "      border: none;\n",
              "      border-radius: 50%;\n",
              "      cursor: pointer;\n",
              "      display: none;\n",
              "      fill: #1967D2;\n",
              "      height: 32px;\n",
              "      padding: 0 0 0 0;\n",
              "      width: 32px;\n",
              "    }\n",
              "\n",
              "    .colab-df-convert:hover {\n",
              "      background-color: #E2EBFA;\n",
              "      box-shadow: 0px 1px 2px rgba(60, 64, 67, 0.3), 0px 1px 3px 1px rgba(60, 64, 67, 0.15);\n",
              "      fill: #174EA6;\n",
              "    }\n",
              "\n",
              "    [theme=dark] .colab-df-convert {\n",
              "      background-color: #3B4455;\n",
              "      fill: #D2E3FC;\n",
              "    }\n",
              "\n",
              "    [theme=dark] .colab-df-convert:hover {\n",
              "      background-color: #434B5C;\n",
              "      box-shadow: 0px 1px 3px 1px rgba(0, 0, 0, 0.15);\n",
              "      filter: drop-shadow(0px 1px 2px rgba(0, 0, 0, 0.3));\n",
              "      fill: #FFFFFF;\n",
              "    }\n",
              "  </style>\n",
              "\n",
              "      <script>\n",
              "        const buttonEl =\n",
              "          document.querySelector('#df-0cdcb585-c829-4319-84a3-27107a749181 button.colab-df-convert');\n",
              "        buttonEl.style.display =\n",
              "          google.colab.kernel.accessAllowed ? 'block' : 'none';\n",
              "\n",
              "        async function convertToInteractive(key) {\n",
              "          const element = document.querySelector('#df-0cdcb585-c829-4319-84a3-27107a749181');\n",
              "          const dataTable =\n",
              "            await google.colab.kernel.invokeFunction('convertToInteractive',\n",
              "                                                     [key], {});\n",
              "          if (!dataTable) return;\n",
              "\n",
              "          const docLinkHtml = 'Like what you see? Visit the ' +\n",
              "            '<a target=\"_blank\" href=https://colab.research.google.com/notebooks/data_table.ipynb>data table notebook</a>'\n",
              "            + ' to learn more about interactive tables.';\n",
              "          element.innerHTML = '';\n",
              "          dataTable['output_type'] = 'display_data';\n",
              "          await google.colab.output.renderOutput(dataTable, element);\n",
              "          const docLink = document.createElement('div');\n",
              "          docLink.innerHTML = docLinkHtml;\n",
              "          element.appendChild(docLink);\n",
              "        }\n",
              "      </script>\n",
              "    </div>\n",
              "  </div>\n",
              "  "
            ]
          },
          "metadata": {},
          "execution_count": 13
        }
      ]
    },
    {
      "cell_type": "code",
      "source": [
        "#Dropping this column as it will be 1-1 mapping and not usefule while training or testing the model\n",
        "df_health=df_health.drop('Unnamed: 0',axis=1)\n",
        "df_health.head()"
      ],
      "metadata": {
        "colab": {
          "base_uri": "https://localhost:8080/",
          "height": 354
        },
        "id": "J5Mlyz3PNga1",
        "outputId": "fa87c157-6a09-4a06-9675-205080065dda"
      },
      "execution_count": 14,
      "outputs": [
        {
          "output_type": "execute_result",
          "data": {
            "text/plain": [
              "                  Data   Countries     Local Industry Sector Accident Level  \\\n",
              "0  2016-01-01 00:00:00  Country_01  Local_01          Mining              I   \n",
              "1  2016-01-02 00:00:00  Country_02  Local_02          Mining              I   \n",
              "2  2016-01-06 00:00:00  Country_01  Local_03          Mining              I   \n",
              "3  2016-01-08 00:00:00  Country_01  Local_04          Mining              I   \n",
              "4  2016-01-10 00:00:00  Country_01  Local_04          Mining             IV   \n",
              "\n",
              "  Potential Accident Level Genre Employee or Third Party        Critical Risk  \\\n",
              "0                       IV  Male             Third Party              Pressed   \n",
              "1                       IV  Male                Employee  Pressurized Systems   \n",
              "2                      III  Male    Third Party (Remote)         Manual Tools   \n",
              "3                        I  Male             Third Party               Others   \n",
              "4                       IV  Male             Third Party               Others   \n",
              "\n",
              "                                         Description  \n",
              "0  While removing the drill rod of the Jumbo 08 f...  \n",
              "1  During the activation of a sodium sulphide pum...  \n",
              "2  In the sub-station MILPO located at level +170...  \n",
              "3  Being 9:45 am. approximately in the Nv. 1880 C...  \n",
              "4  Approximately at 11:45 a.m. in circumstances t...  "
            ],
            "text/html": [
              "\n",
              "  <div id=\"df-3b2efdcf-3a78-472e-945c-65e3bec0e8b6\">\n",
              "    <div class=\"colab-df-container\">\n",
              "      <div>\n",
              "<style scoped>\n",
              "    .dataframe tbody tr th:only-of-type {\n",
              "        vertical-align: middle;\n",
              "    }\n",
              "\n",
              "    .dataframe tbody tr th {\n",
              "        vertical-align: top;\n",
              "    }\n",
              "\n",
              "    .dataframe thead th {\n",
              "        text-align: right;\n",
              "    }\n",
              "</style>\n",
              "<table border=\"1\" class=\"dataframe\">\n",
              "  <thead>\n",
              "    <tr style=\"text-align: right;\">\n",
              "      <th></th>\n",
              "      <th>Data</th>\n",
              "      <th>Countries</th>\n",
              "      <th>Local</th>\n",
              "      <th>Industry Sector</th>\n",
              "      <th>Accident Level</th>\n",
              "      <th>Potential Accident Level</th>\n",
              "      <th>Genre</th>\n",
              "      <th>Employee or Third Party</th>\n",
              "      <th>Critical Risk</th>\n",
              "      <th>Description</th>\n",
              "    </tr>\n",
              "  </thead>\n",
              "  <tbody>\n",
              "    <tr>\n",
              "      <th>0</th>\n",
              "      <td>2016-01-01 00:00:00</td>\n",
              "      <td>Country_01</td>\n",
              "      <td>Local_01</td>\n",
              "      <td>Mining</td>\n",
              "      <td>I</td>\n",
              "      <td>IV</td>\n",
              "      <td>Male</td>\n",
              "      <td>Third Party</td>\n",
              "      <td>Pressed</td>\n",
              "      <td>While removing the drill rod of the Jumbo 08 f...</td>\n",
              "    </tr>\n",
              "    <tr>\n",
              "      <th>1</th>\n",
              "      <td>2016-01-02 00:00:00</td>\n",
              "      <td>Country_02</td>\n",
              "      <td>Local_02</td>\n",
              "      <td>Mining</td>\n",
              "      <td>I</td>\n",
              "      <td>IV</td>\n",
              "      <td>Male</td>\n",
              "      <td>Employee</td>\n",
              "      <td>Pressurized Systems</td>\n",
              "      <td>During the activation of a sodium sulphide pum...</td>\n",
              "    </tr>\n",
              "    <tr>\n",
              "      <th>2</th>\n",
              "      <td>2016-01-06 00:00:00</td>\n",
              "      <td>Country_01</td>\n",
              "      <td>Local_03</td>\n",
              "      <td>Mining</td>\n",
              "      <td>I</td>\n",
              "      <td>III</td>\n",
              "      <td>Male</td>\n",
              "      <td>Third Party (Remote)</td>\n",
              "      <td>Manual Tools</td>\n",
              "      <td>In the sub-station MILPO located at level +170...</td>\n",
              "    </tr>\n",
              "    <tr>\n",
              "      <th>3</th>\n",
              "      <td>2016-01-08 00:00:00</td>\n",
              "      <td>Country_01</td>\n",
              "      <td>Local_04</td>\n",
              "      <td>Mining</td>\n",
              "      <td>I</td>\n",
              "      <td>I</td>\n",
              "      <td>Male</td>\n",
              "      <td>Third Party</td>\n",
              "      <td>Others</td>\n",
              "      <td>Being 9:45 am. approximately in the Nv. 1880 C...</td>\n",
              "    </tr>\n",
              "    <tr>\n",
              "      <th>4</th>\n",
              "      <td>2016-01-10 00:00:00</td>\n",
              "      <td>Country_01</td>\n",
              "      <td>Local_04</td>\n",
              "      <td>Mining</td>\n",
              "      <td>IV</td>\n",
              "      <td>IV</td>\n",
              "      <td>Male</td>\n",
              "      <td>Third Party</td>\n",
              "      <td>Others</td>\n",
              "      <td>Approximately at 11:45 a.m. in circumstances t...</td>\n",
              "    </tr>\n",
              "  </tbody>\n",
              "</table>\n",
              "</div>\n",
              "      <button class=\"colab-df-convert\" onclick=\"convertToInteractive('df-3b2efdcf-3a78-472e-945c-65e3bec0e8b6')\"\n",
              "              title=\"Convert this dataframe to an interactive table.\"\n",
              "              style=\"display:none;\">\n",
              "        \n",
              "  <svg xmlns=\"http://www.w3.org/2000/svg\" height=\"24px\"viewBox=\"0 0 24 24\"\n",
              "       width=\"24px\">\n",
              "    <path d=\"M0 0h24v24H0V0z\" fill=\"none\"/>\n",
              "    <path d=\"M18.56 5.44l.94 2.06.94-2.06 2.06-.94-2.06-.94-.94-2.06-.94 2.06-2.06.94zm-11 1L8.5 8.5l.94-2.06 2.06-.94-2.06-.94L8.5 2.5l-.94 2.06-2.06.94zm10 10l.94 2.06.94-2.06 2.06-.94-2.06-.94-.94-2.06-.94 2.06-2.06.94z\"/><path d=\"M17.41 7.96l-1.37-1.37c-.4-.4-.92-.59-1.43-.59-.52 0-1.04.2-1.43.59L10.3 9.45l-7.72 7.72c-.78.78-.78 2.05 0 2.83L4 21.41c.39.39.9.59 1.41.59.51 0 1.02-.2 1.41-.59l7.78-7.78 2.81-2.81c.8-.78.8-2.07 0-2.86zM5.41 20L4 18.59l7.72-7.72 1.47 1.35L5.41 20z\"/>\n",
              "  </svg>\n",
              "      </button>\n",
              "      \n",
              "  <style>\n",
              "    .colab-df-container {\n",
              "      display:flex;\n",
              "      flex-wrap:wrap;\n",
              "      gap: 12px;\n",
              "    }\n",
              "\n",
              "    .colab-df-convert {\n",
              "      background-color: #E8F0FE;\n",
              "      border: none;\n",
              "      border-radius: 50%;\n",
              "      cursor: pointer;\n",
              "      display: none;\n",
              "      fill: #1967D2;\n",
              "      height: 32px;\n",
              "      padding: 0 0 0 0;\n",
              "      width: 32px;\n",
              "    }\n",
              "\n",
              "    .colab-df-convert:hover {\n",
              "      background-color: #E2EBFA;\n",
              "      box-shadow: 0px 1px 2px rgba(60, 64, 67, 0.3), 0px 1px 3px 1px rgba(60, 64, 67, 0.15);\n",
              "      fill: #174EA6;\n",
              "    }\n",
              "\n",
              "    [theme=dark] .colab-df-convert {\n",
              "      background-color: #3B4455;\n",
              "      fill: #D2E3FC;\n",
              "    }\n",
              "\n",
              "    [theme=dark] .colab-df-convert:hover {\n",
              "      background-color: #434B5C;\n",
              "      box-shadow: 0px 1px 3px 1px rgba(0, 0, 0, 0.15);\n",
              "      filter: drop-shadow(0px 1px 2px rgba(0, 0, 0, 0.3));\n",
              "      fill: #FFFFFF;\n",
              "    }\n",
              "  </style>\n",
              "\n",
              "      <script>\n",
              "        const buttonEl =\n",
              "          document.querySelector('#df-3b2efdcf-3a78-472e-945c-65e3bec0e8b6 button.colab-df-convert');\n",
              "        buttonEl.style.display =\n",
              "          google.colab.kernel.accessAllowed ? 'block' : 'none';\n",
              "\n",
              "        async function convertToInteractive(key) {\n",
              "          const element = document.querySelector('#df-3b2efdcf-3a78-472e-945c-65e3bec0e8b6');\n",
              "          const dataTable =\n",
              "            await google.colab.kernel.invokeFunction('convertToInteractive',\n",
              "                                                     [key], {});\n",
              "          if (!dataTable) return;\n",
              "\n",
              "          const docLinkHtml = 'Like what you see? Visit the ' +\n",
              "            '<a target=\"_blank\" href=https://colab.research.google.com/notebooks/data_table.ipynb>data table notebook</a>'\n",
              "            + ' to learn more about interactive tables.';\n",
              "          element.innerHTML = '';\n",
              "          dataTable['output_type'] = 'display_data';\n",
              "          await google.colab.output.renderOutput(dataTable, element);\n",
              "          const docLink = document.createElement('div');\n",
              "          docLink.innerHTML = docLinkHtml;\n",
              "          element.appendChild(docLink);\n",
              "        }\n",
              "      </script>\n",
              "    </div>\n",
              "  </div>\n",
              "  "
            ]
          },
          "metadata": {},
          "execution_count": 14
        }
      ]
    },
    {
      "cell_type": "code",
      "source": [
        "# Rename 'Data', 'Countries', 'Genre', 'Employee or Third Party' columns in Data frame\n",
        "df_health.rename(columns={'Data':'Date','Countries':'Country','Genre':'Gender','Employee or Third Party':'Employee Type'},inplace=True)\n",
        "df_health.head()"
      ],
      "metadata": {
        "colab": {
          "base_uri": "https://localhost:8080/",
          "height": 354
        },
        "id": "Smv0K2NxNzTO",
        "outputId": "851413b7-7cfc-4480-de96-fb542ddd7573"
      },
      "execution_count": 15,
      "outputs": [
        {
          "output_type": "execute_result",
          "data": {
            "text/plain": [
              "                  Date     Country     Local Industry Sector Accident Level  \\\n",
              "0  2016-01-01 00:00:00  Country_01  Local_01          Mining              I   \n",
              "1  2016-01-02 00:00:00  Country_02  Local_02          Mining              I   \n",
              "2  2016-01-06 00:00:00  Country_01  Local_03          Mining              I   \n",
              "3  2016-01-08 00:00:00  Country_01  Local_04          Mining              I   \n",
              "4  2016-01-10 00:00:00  Country_01  Local_04          Mining             IV   \n",
              "\n",
              "  Potential Accident Level Gender         Employee Type        Critical Risk  \\\n",
              "0                       IV   Male           Third Party              Pressed   \n",
              "1                       IV   Male              Employee  Pressurized Systems   \n",
              "2                      III   Male  Third Party (Remote)         Manual Tools   \n",
              "3                        I   Male           Third Party               Others   \n",
              "4                       IV   Male           Third Party               Others   \n",
              "\n",
              "                                         Description  \n",
              "0  While removing the drill rod of the Jumbo 08 f...  \n",
              "1  During the activation of a sodium sulphide pum...  \n",
              "2  In the sub-station MILPO located at level +170...  \n",
              "3  Being 9:45 am. approximately in the Nv. 1880 C...  \n",
              "4  Approximately at 11:45 a.m. in circumstances t...  "
            ],
            "text/html": [
              "\n",
              "  <div id=\"df-e39fe3ed-34e8-4846-aed8-11431cc64ffc\">\n",
              "    <div class=\"colab-df-container\">\n",
              "      <div>\n",
              "<style scoped>\n",
              "    .dataframe tbody tr th:only-of-type {\n",
              "        vertical-align: middle;\n",
              "    }\n",
              "\n",
              "    .dataframe tbody tr th {\n",
              "        vertical-align: top;\n",
              "    }\n",
              "\n",
              "    .dataframe thead th {\n",
              "        text-align: right;\n",
              "    }\n",
              "</style>\n",
              "<table border=\"1\" class=\"dataframe\">\n",
              "  <thead>\n",
              "    <tr style=\"text-align: right;\">\n",
              "      <th></th>\n",
              "      <th>Date</th>\n",
              "      <th>Country</th>\n",
              "      <th>Local</th>\n",
              "      <th>Industry Sector</th>\n",
              "      <th>Accident Level</th>\n",
              "      <th>Potential Accident Level</th>\n",
              "      <th>Gender</th>\n",
              "      <th>Employee Type</th>\n",
              "      <th>Critical Risk</th>\n",
              "      <th>Description</th>\n",
              "    </tr>\n",
              "  </thead>\n",
              "  <tbody>\n",
              "    <tr>\n",
              "      <th>0</th>\n",
              "      <td>2016-01-01 00:00:00</td>\n",
              "      <td>Country_01</td>\n",
              "      <td>Local_01</td>\n",
              "      <td>Mining</td>\n",
              "      <td>I</td>\n",
              "      <td>IV</td>\n",
              "      <td>Male</td>\n",
              "      <td>Third Party</td>\n",
              "      <td>Pressed</td>\n",
              "      <td>While removing the drill rod of the Jumbo 08 f...</td>\n",
              "    </tr>\n",
              "    <tr>\n",
              "      <th>1</th>\n",
              "      <td>2016-01-02 00:00:00</td>\n",
              "      <td>Country_02</td>\n",
              "      <td>Local_02</td>\n",
              "      <td>Mining</td>\n",
              "      <td>I</td>\n",
              "      <td>IV</td>\n",
              "      <td>Male</td>\n",
              "      <td>Employee</td>\n",
              "      <td>Pressurized Systems</td>\n",
              "      <td>During the activation of a sodium sulphide pum...</td>\n",
              "    </tr>\n",
              "    <tr>\n",
              "      <th>2</th>\n",
              "      <td>2016-01-06 00:00:00</td>\n",
              "      <td>Country_01</td>\n",
              "      <td>Local_03</td>\n",
              "      <td>Mining</td>\n",
              "      <td>I</td>\n",
              "      <td>III</td>\n",
              "      <td>Male</td>\n",
              "      <td>Third Party (Remote)</td>\n",
              "      <td>Manual Tools</td>\n",
              "      <td>In the sub-station MILPO located at level +170...</td>\n",
              "    </tr>\n",
              "    <tr>\n",
              "      <th>3</th>\n",
              "      <td>2016-01-08 00:00:00</td>\n",
              "      <td>Country_01</td>\n",
              "      <td>Local_04</td>\n",
              "      <td>Mining</td>\n",
              "      <td>I</td>\n",
              "      <td>I</td>\n",
              "      <td>Male</td>\n",
              "      <td>Third Party</td>\n",
              "      <td>Others</td>\n",
              "      <td>Being 9:45 am. approximately in the Nv. 1880 C...</td>\n",
              "    </tr>\n",
              "    <tr>\n",
              "      <th>4</th>\n",
              "      <td>2016-01-10 00:00:00</td>\n",
              "      <td>Country_01</td>\n",
              "      <td>Local_04</td>\n",
              "      <td>Mining</td>\n",
              "      <td>IV</td>\n",
              "      <td>IV</td>\n",
              "      <td>Male</td>\n",
              "      <td>Third Party</td>\n",
              "      <td>Others</td>\n",
              "      <td>Approximately at 11:45 a.m. in circumstances t...</td>\n",
              "    </tr>\n",
              "  </tbody>\n",
              "</table>\n",
              "</div>\n",
              "      <button class=\"colab-df-convert\" onclick=\"convertToInteractive('df-e39fe3ed-34e8-4846-aed8-11431cc64ffc')\"\n",
              "              title=\"Convert this dataframe to an interactive table.\"\n",
              "              style=\"display:none;\">\n",
              "        \n",
              "  <svg xmlns=\"http://www.w3.org/2000/svg\" height=\"24px\"viewBox=\"0 0 24 24\"\n",
              "       width=\"24px\">\n",
              "    <path d=\"M0 0h24v24H0V0z\" fill=\"none\"/>\n",
              "    <path d=\"M18.56 5.44l.94 2.06.94-2.06 2.06-.94-2.06-.94-.94-2.06-.94 2.06-2.06.94zm-11 1L8.5 8.5l.94-2.06 2.06-.94-2.06-.94L8.5 2.5l-.94 2.06-2.06.94zm10 10l.94 2.06.94-2.06 2.06-.94-2.06-.94-.94-2.06-.94 2.06-2.06.94z\"/><path d=\"M17.41 7.96l-1.37-1.37c-.4-.4-.92-.59-1.43-.59-.52 0-1.04.2-1.43.59L10.3 9.45l-7.72 7.72c-.78.78-.78 2.05 0 2.83L4 21.41c.39.39.9.59 1.41.59.51 0 1.02-.2 1.41-.59l7.78-7.78 2.81-2.81c.8-.78.8-2.07 0-2.86zM5.41 20L4 18.59l7.72-7.72 1.47 1.35L5.41 20z\"/>\n",
              "  </svg>\n",
              "      </button>\n",
              "      \n",
              "  <style>\n",
              "    .colab-df-container {\n",
              "      display:flex;\n",
              "      flex-wrap:wrap;\n",
              "      gap: 12px;\n",
              "    }\n",
              "\n",
              "    .colab-df-convert {\n",
              "      background-color: #E8F0FE;\n",
              "      border: none;\n",
              "      border-radius: 50%;\n",
              "      cursor: pointer;\n",
              "      display: none;\n",
              "      fill: #1967D2;\n",
              "      height: 32px;\n",
              "      padding: 0 0 0 0;\n",
              "      width: 32px;\n",
              "    }\n",
              "\n",
              "    .colab-df-convert:hover {\n",
              "      background-color: #E2EBFA;\n",
              "      box-shadow: 0px 1px 2px rgba(60, 64, 67, 0.3), 0px 1px 3px 1px rgba(60, 64, 67, 0.15);\n",
              "      fill: #174EA6;\n",
              "    }\n",
              "\n",
              "    [theme=dark] .colab-df-convert {\n",
              "      background-color: #3B4455;\n",
              "      fill: #D2E3FC;\n",
              "    }\n",
              "\n",
              "    [theme=dark] .colab-df-convert:hover {\n",
              "      background-color: #434B5C;\n",
              "      box-shadow: 0px 1px 3px 1px rgba(0, 0, 0, 0.15);\n",
              "      filter: drop-shadow(0px 1px 2px rgba(0, 0, 0, 0.3));\n",
              "      fill: #FFFFFF;\n",
              "    }\n",
              "  </style>\n",
              "\n",
              "      <script>\n",
              "        const buttonEl =\n",
              "          document.querySelector('#df-e39fe3ed-34e8-4846-aed8-11431cc64ffc button.colab-df-convert');\n",
              "        buttonEl.style.display =\n",
              "          google.colab.kernel.accessAllowed ? 'block' : 'none';\n",
              "\n",
              "        async function convertToInteractive(key) {\n",
              "          const element = document.querySelector('#df-e39fe3ed-34e8-4846-aed8-11431cc64ffc');\n",
              "          const dataTable =\n",
              "            await google.colab.kernel.invokeFunction('convertToInteractive',\n",
              "                                                     [key], {});\n",
              "          if (!dataTable) return;\n",
              "\n",
              "          const docLinkHtml = 'Like what you see? Visit the ' +\n",
              "            '<a target=\"_blank\" href=https://colab.research.google.com/notebooks/data_table.ipynb>data table notebook</a>'\n",
              "            + ' to learn more about interactive tables.';\n",
              "          element.innerHTML = '';\n",
              "          dataTable['output_type'] = 'display_data';\n",
              "          await google.colab.output.renderOutput(dataTable, element);\n",
              "          const docLink = document.createElement('div');\n",
              "          docLink.innerHTML = docLinkHtml;\n",
              "          element.appendChild(docLink);\n",
              "        }\n",
              "      </script>\n",
              "    </div>\n",
              "  </div>\n",
              "  "
            ]
          },
          "metadata": {},
          "execution_count": 15
        }
      ]
    },
    {
      "cell_type": "markdown",
      "source": [
        " # **Step 3: Data preprocessing**"
      ],
      "metadata": {
        "id": "PR1e2wgYOfWz"
      }
    },
    {
      "cell_type": "code",
      "source": [
        "print(df_health.Date.max())\n",
        "print(df_health.Date.min())"
      ],
      "metadata": {
        "colab": {
          "base_uri": "https://localhost:8080/"
        },
        "id": "BYigVNfqOQ4w",
        "outputId": "c23142a9-ec13-488d-e0b6-1048dc22a543"
      },
      "execution_count": 16,
      "outputs": [
        {
          "output_type": "stream",
          "name": "stdout",
          "text": [
            "2017-07-09 00:00:00\n",
            "2016-01-01 00:00:00\n"
          ]
        }
      ]
    },
    {
      "cell_type": "markdown",
      "source": [
        "The whole data set is between 1st January 2016 to 9th July 2017\n"
      ],
      "metadata": {
        "id": "UFj8exgcOyCm"
      }
    },
    {
      "cell_type": "code",
      "source": [
        "df_health['Date']=pd.to_datetime(df_health['Date'])\n",
        "df_health.info()"
      ],
      "metadata": {
        "colab": {
          "base_uri": "https://localhost:8080/"
        },
        "id": "jm51eBR4OtQd",
        "outputId": "3048365c-2c95-4bde-ec99-10467a443f41"
      },
      "execution_count": 17,
      "outputs": [
        {
          "output_type": "stream",
          "name": "stdout",
          "text": [
            "<class 'pandas.core.frame.DataFrame'>\n",
            "RangeIndex: 425 entries, 0 to 424\n",
            "Data columns (total 10 columns):\n",
            " #   Column                    Non-Null Count  Dtype         \n",
            "---  ------                    --------------  -----         \n",
            " 0   Date                      425 non-null    datetime64[ns]\n",
            " 1   Country                   425 non-null    object        \n",
            " 2   Local                     425 non-null    object        \n",
            " 3   Industry Sector           425 non-null    object        \n",
            " 4   Accident Level            425 non-null    object        \n",
            " 5   Potential Accident Level  425 non-null    object        \n",
            " 6   Gender                    425 non-null    object        \n",
            " 7   Employee Type             425 non-null    object        \n",
            " 8   Critical Risk             425 non-null    object        \n",
            " 9   Description               425 non-null    object        \n",
            "dtypes: datetime64[ns](1), object(9)\n",
            "memory usage: 33.3+ KB\n"
          ]
        }
      ]
    },
    {
      "cell_type": "code",
      "source": [
        "replace_values = {'Local_01': 1, 'Local_02': 2, 'Local_03': 3, 'Local_04': 4, 'Local_05': 5, 'Local_06': 6, 'Local_07': 7, 'Local_08': 8, 'Local_09': 9, 'Local_10': 10, 'Local_11': 11, 'Local_12': 12}\n",
        "df_health['Local'] = df_health['Local'].map(replace_values)\n",
        "replace_values = {'I': 1, 'II': 2, 'III': 3, 'IV': 4, 'V': 5}\n",
        "df_health['Accident Level'] = df_health['Accident Level'].map(replace_values)\n",
        "replace_values = {'I': 1, 'II': 2, 'III': 3, 'IV': 4, 'V': 5, 'VI': 6}\n",
        "df_health['Potential Accident Level'] = df_health['Potential Accident Level'].map(replace_values)\n",
        "del replace_values"
      ],
      "metadata": {
        "id": "ZHpWnW8zO8Pi"
      },
      "execution_count": 18,
      "outputs": []
    },
    {
      "cell_type": "code",
      "source": [
        "print(f'Dataset after adjusting categorical values\\n')\n",
        "df_health.head()"
      ],
      "metadata": {
        "colab": {
          "base_uri": "https://localhost:8080/",
          "height": 286
        },
        "id": "t93wWzmBPbyn",
        "outputId": "9b8e2b85-b885-437c-b875-2d1d2455dbc0"
      },
      "execution_count": 19,
      "outputs": [
        {
          "output_type": "stream",
          "name": "stdout",
          "text": [
            "Dataset after adjusting categorical values\n",
            "\n"
          ]
        },
        {
          "output_type": "execute_result",
          "data": {
            "text/plain": [
              "        Date     Country  Local Industry Sector  Accident Level  \\\n",
              "0 2016-01-01  Country_01      1          Mining               1   \n",
              "1 2016-01-02  Country_02      2          Mining               1   \n",
              "2 2016-01-06  Country_01      3          Mining               1   \n",
              "3 2016-01-08  Country_01      4          Mining               1   \n",
              "4 2016-01-10  Country_01      4          Mining               4   \n",
              "\n",
              "   Potential Accident Level Gender         Employee Type        Critical Risk  \\\n",
              "0                         4   Male           Third Party              Pressed   \n",
              "1                         4   Male              Employee  Pressurized Systems   \n",
              "2                         3   Male  Third Party (Remote)         Manual Tools   \n",
              "3                         1   Male           Third Party               Others   \n",
              "4                         4   Male           Third Party               Others   \n",
              "\n",
              "                                         Description  \n",
              "0  While removing the drill rod of the Jumbo 08 f...  \n",
              "1  During the activation of a sodium sulphide pum...  \n",
              "2  In the sub-station MILPO located at level +170...  \n",
              "3  Being 9:45 am. approximately in the Nv. 1880 C...  \n",
              "4  Approximately at 11:45 a.m. in circumstances t...  "
            ],
            "text/html": [
              "\n",
              "  <div id=\"df-dbb839bf-870e-4c87-8001-62de20bbd0f9\">\n",
              "    <div class=\"colab-df-container\">\n",
              "      <div>\n",
              "<style scoped>\n",
              "    .dataframe tbody tr th:only-of-type {\n",
              "        vertical-align: middle;\n",
              "    }\n",
              "\n",
              "    .dataframe tbody tr th {\n",
              "        vertical-align: top;\n",
              "    }\n",
              "\n",
              "    .dataframe thead th {\n",
              "        text-align: right;\n",
              "    }\n",
              "</style>\n",
              "<table border=\"1\" class=\"dataframe\">\n",
              "  <thead>\n",
              "    <tr style=\"text-align: right;\">\n",
              "      <th></th>\n",
              "      <th>Date</th>\n",
              "      <th>Country</th>\n",
              "      <th>Local</th>\n",
              "      <th>Industry Sector</th>\n",
              "      <th>Accident Level</th>\n",
              "      <th>Potential Accident Level</th>\n",
              "      <th>Gender</th>\n",
              "      <th>Employee Type</th>\n",
              "      <th>Critical Risk</th>\n",
              "      <th>Description</th>\n",
              "    </tr>\n",
              "  </thead>\n",
              "  <tbody>\n",
              "    <tr>\n",
              "      <th>0</th>\n",
              "      <td>2016-01-01</td>\n",
              "      <td>Country_01</td>\n",
              "      <td>1</td>\n",
              "      <td>Mining</td>\n",
              "      <td>1</td>\n",
              "      <td>4</td>\n",
              "      <td>Male</td>\n",
              "      <td>Third Party</td>\n",
              "      <td>Pressed</td>\n",
              "      <td>While removing the drill rod of the Jumbo 08 f...</td>\n",
              "    </tr>\n",
              "    <tr>\n",
              "      <th>1</th>\n",
              "      <td>2016-01-02</td>\n",
              "      <td>Country_02</td>\n",
              "      <td>2</td>\n",
              "      <td>Mining</td>\n",
              "      <td>1</td>\n",
              "      <td>4</td>\n",
              "      <td>Male</td>\n",
              "      <td>Employee</td>\n",
              "      <td>Pressurized Systems</td>\n",
              "      <td>During the activation of a sodium sulphide pum...</td>\n",
              "    </tr>\n",
              "    <tr>\n",
              "      <th>2</th>\n",
              "      <td>2016-01-06</td>\n",
              "      <td>Country_01</td>\n",
              "      <td>3</td>\n",
              "      <td>Mining</td>\n",
              "      <td>1</td>\n",
              "      <td>3</td>\n",
              "      <td>Male</td>\n",
              "      <td>Third Party (Remote)</td>\n",
              "      <td>Manual Tools</td>\n",
              "      <td>In the sub-station MILPO located at level +170...</td>\n",
              "    </tr>\n",
              "    <tr>\n",
              "      <th>3</th>\n",
              "      <td>2016-01-08</td>\n",
              "      <td>Country_01</td>\n",
              "      <td>4</td>\n",
              "      <td>Mining</td>\n",
              "      <td>1</td>\n",
              "      <td>1</td>\n",
              "      <td>Male</td>\n",
              "      <td>Third Party</td>\n",
              "      <td>Others</td>\n",
              "      <td>Being 9:45 am. approximately in the Nv. 1880 C...</td>\n",
              "    </tr>\n",
              "    <tr>\n",
              "      <th>4</th>\n",
              "      <td>2016-01-10</td>\n",
              "      <td>Country_01</td>\n",
              "      <td>4</td>\n",
              "      <td>Mining</td>\n",
              "      <td>4</td>\n",
              "      <td>4</td>\n",
              "      <td>Male</td>\n",
              "      <td>Third Party</td>\n",
              "      <td>Others</td>\n",
              "      <td>Approximately at 11:45 a.m. in circumstances t...</td>\n",
              "    </tr>\n",
              "  </tbody>\n",
              "</table>\n",
              "</div>\n",
              "      <button class=\"colab-df-convert\" onclick=\"convertToInteractive('df-dbb839bf-870e-4c87-8001-62de20bbd0f9')\"\n",
              "              title=\"Convert this dataframe to an interactive table.\"\n",
              "              style=\"display:none;\">\n",
              "        \n",
              "  <svg xmlns=\"http://www.w3.org/2000/svg\" height=\"24px\"viewBox=\"0 0 24 24\"\n",
              "       width=\"24px\">\n",
              "    <path d=\"M0 0h24v24H0V0z\" fill=\"none\"/>\n",
              "    <path d=\"M18.56 5.44l.94 2.06.94-2.06 2.06-.94-2.06-.94-.94-2.06-.94 2.06-2.06.94zm-11 1L8.5 8.5l.94-2.06 2.06-.94-2.06-.94L8.5 2.5l-.94 2.06-2.06.94zm10 10l.94 2.06.94-2.06 2.06-.94-2.06-.94-.94-2.06-.94 2.06-2.06.94z\"/><path d=\"M17.41 7.96l-1.37-1.37c-.4-.4-.92-.59-1.43-.59-.52 0-1.04.2-1.43.59L10.3 9.45l-7.72 7.72c-.78.78-.78 2.05 0 2.83L4 21.41c.39.39.9.59 1.41.59.51 0 1.02-.2 1.41-.59l7.78-7.78 2.81-2.81c.8-.78.8-2.07 0-2.86zM5.41 20L4 18.59l7.72-7.72 1.47 1.35L5.41 20z\"/>\n",
              "  </svg>\n",
              "      </button>\n",
              "      \n",
              "  <style>\n",
              "    .colab-df-container {\n",
              "      display:flex;\n",
              "      flex-wrap:wrap;\n",
              "      gap: 12px;\n",
              "    }\n",
              "\n",
              "    .colab-df-convert {\n",
              "      background-color: #E8F0FE;\n",
              "      border: none;\n",
              "      border-radius: 50%;\n",
              "      cursor: pointer;\n",
              "      display: none;\n",
              "      fill: #1967D2;\n",
              "      height: 32px;\n",
              "      padding: 0 0 0 0;\n",
              "      width: 32px;\n",
              "    }\n",
              "\n",
              "    .colab-df-convert:hover {\n",
              "      background-color: #E2EBFA;\n",
              "      box-shadow: 0px 1px 2px rgba(60, 64, 67, 0.3), 0px 1px 3px 1px rgba(60, 64, 67, 0.15);\n",
              "      fill: #174EA6;\n",
              "    }\n",
              "\n",
              "    [theme=dark] .colab-df-convert {\n",
              "      background-color: #3B4455;\n",
              "      fill: #D2E3FC;\n",
              "    }\n",
              "\n",
              "    [theme=dark] .colab-df-convert:hover {\n",
              "      background-color: #434B5C;\n",
              "      box-shadow: 0px 1px 3px 1px rgba(0, 0, 0, 0.15);\n",
              "      filter: drop-shadow(0px 1px 2px rgba(0, 0, 0, 0.3));\n",
              "      fill: #FFFFFF;\n",
              "    }\n",
              "  </style>\n",
              "\n",
              "      <script>\n",
              "        const buttonEl =\n",
              "          document.querySelector('#df-dbb839bf-870e-4c87-8001-62de20bbd0f9 button.colab-df-convert');\n",
              "        buttonEl.style.display =\n",
              "          google.colab.kernel.accessAllowed ? 'block' : 'none';\n",
              "\n",
              "        async function convertToInteractive(key) {\n",
              "          const element = document.querySelector('#df-dbb839bf-870e-4c87-8001-62de20bbd0f9');\n",
              "          const dataTable =\n",
              "            await google.colab.kernel.invokeFunction('convertToInteractive',\n",
              "                                                     [key], {});\n",
              "          if (!dataTable) return;\n",
              "\n",
              "          const docLinkHtml = 'Like what you see? Visit the ' +\n",
              "            '<a target=\"_blank\" href=https://colab.research.google.com/notebooks/data_table.ipynb>data table notebook</a>'\n",
              "            + ' to learn more about interactive tables.';\n",
              "          element.innerHTML = '';\n",
              "          dataTable['output_type'] = 'display_data';\n",
              "          await google.colab.output.renderOutput(dataTable, element);\n",
              "          const docLink = document.createElement('div');\n",
              "          docLink.innerHTML = docLinkHtml;\n",
              "          element.appendChild(docLink);\n",
              "        }\n",
              "      </script>\n",
              "    </div>\n",
              "  </div>\n",
              "  "
            ]
          },
          "metadata": {},
          "execution_count": 19
        }
      ]
    },
    {
      "cell_type": "code",
      "source": [
        "df_health.isnull().sum()"
      ],
      "metadata": {
        "colab": {
          "base_uri": "https://localhost:8080/"
        },
        "id": "-bYBtVBHPeA-",
        "outputId": "bee67564-f8ce-4432-db06-6829c79d3d88"
      },
      "execution_count": 20,
      "outputs": [
        {
          "output_type": "execute_result",
          "data": {
            "text/plain": [
              "Date                        0\n",
              "Country                     0\n",
              "Local                       0\n",
              "Industry Sector             0\n",
              "Accident Level              0\n",
              "Potential Accident Level    0\n",
              "Gender                      0\n",
              "Employee Type               0\n",
              "Critical Risk               0\n",
              "Description                 0\n",
              "dtype: int64"
            ]
          },
          "metadata": {},
          "execution_count": 20
        }
      ]
    },
    {
      "cell_type": "markdown",
      "source": [
        "Accidents happen throughout the year added datetime features such as year,month and day."
      ],
      "metadata": {
        "id": "hWmAbFeaPpf_"
      }
    },
    {
      "cell_type": "code",
      "source": [
        "df_health['Date'] = pd.to_datetime(df_health['Date'])\n",
        "df_health['Year'] = df_health['Date'].apply(lambda x : x.year)\n",
        "df_health['Month'] = df_health['Date'].apply(lambda x : x.month)\n",
        "df_health['Day'] = df_health['Date'].apply(lambda x : x.day)\n",
        "df_health['Weekday'] = df_health['Date'].apply(lambda x : x.day_name())\n",
        "df_health['WeekofYear'] = df_health['Date'].apply(lambda x : x.weekofyear)\n",
        "df_health.head()"
      ],
      "metadata": {
        "colab": {
          "base_uri": "https://localhost:8080/",
          "height": 354
        },
        "id": "EKbwPmkfPlAF",
        "outputId": "1fa242bf-d459-4be7-84ba-444f6d6cc90d"
      },
      "execution_count": 21,
      "outputs": [
        {
          "output_type": "execute_result",
          "data": {
            "text/plain": [
              "        Date     Country  Local Industry Sector  Accident Level  \\\n",
              "0 2016-01-01  Country_01      1          Mining               1   \n",
              "1 2016-01-02  Country_02      2          Mining               1   \n",
              "2 2016-01-06  Country_01      3          Mining               1   \n",
              "3 2016-01-08  Country_01      4          Mining               1   \n",
              "4 2016-01-10  Country_01      4          Mining               4   \n",
              "\n",
              "   Potential Accident Level Gender         Employee Type        Critical Risk  \\\n",
              "0                         4   Male           Third Party              Pressed   \n",
              "1                         4   Male              Employee  Pressurized Systems   \n",
              "2                         3   Male  Third Party (Remote)         Manual Tools   \n",
              "3                         1   Male           Third Party               Others   \n",
              "4                         4   Male           Third Party               Others   \n",
              "\n",
              "                                         Description  Year  Month  Day  \\\n",
              "0  While removing the drill rod of the Jumbo 08 f...  2016      1    1   \n",
              "1  During the activation of a sodium sulphide pum...  2016      1    2   \n",
              "2  In the sub-station MILPO located at level +170...  2016      1    6   \n",
              "3  Being 9:45 am. approximately in the Nv. 1880 C...  2016      1    8   \n",
              "4  Approximately at 11:45 a.m. in circumstances t...  2016      1   10   \n",
              "\n",
              "     Weekday  WeekofYear  \n",
              "0     Friday          53  \n",
              "1   Saturday          53  \n",
              "2  Wednesday           1  \n",
              "3     Friday           1  \n",
              "4     Sunday           1  "
            ],
            "text/html": [
              "\n",
              "  <div id=\"df-feaa8d87-6942-49a6-a034-f33a0950beb7\">\n",
              "    <div class=\"colab-df-container\">\n",
              "      <div>\n",
              "<style scoped>\n",
              "    .dataframe tbody tr th:only-of-type {\n",
              "        vertical-align: middle;\n",
              "    }\n",
              "\n",
              "    .dataframe tbody tr th {\n",
              "        vertical-align: top;\n",
              "    }\n",
              "\n",
              "    .dataframe thead th {\n",
              "        text-align: right;\n",
              "    }\n",
              "</style>\n",
              "<table border=\"1\" class=\"dataframe\">\n",
              "  <thead>\n",
              "    <tr style=\"text-align: right;\">\n",
              "      <th></th>\n",
              "      <th>Date</th>\n",
              "      <th>Country</th>\n",
              "      <th>Local</th>\n",
              "      <th>Industry Sector</th>\n",
              "      <th>Accident Level</th>\n",
              "      <th>Potential Accident Level</th>\n",
              "      <th>Gender</th>\n",
              "      <th>Employee Type</th>\n",
              "      <th>Critical Risk</th>\n",
              "      <th>Description</th>\n",
              "      <th>Year</th>\n",
              "      <th>Month</th>\n",
              "      <th>Day</th>\n",
              "      <th>Weekday</th>\n",
              "      <th>WeekofYear</th>\n",
              "    </tr>\n",
              "  </thead>\n",
              "  <tbody>\n",
              "    <tr>\n",
              "      <th>0</th>\n",
              "      <td>2016-01-01</td>\n",
              "      <td>Country_01</td>\n",
              "      <td>1</td>\n",
              "      <td>Mining</td>\n",
              "      <td>1</td>\n",
              "      <td>4</td>\n",
              "      <td>Male</td>\n",
              "      <td>Third Party</td>\n",
              "      <td>Pressed</td>\n",
              "      <td>While removing the drill rod of the Jumbo 08 f...</td>\n",
              "      <td>2016</td>\n",
              "      <td>1</td>\n",
              "      <td>1</td>\n",
              "      <td>Friday</td>\n",
              "      <td>53</td>\n",
              "    </tr>\n",
              "    <tr>\n",
              "      <th>1</th>\n",
              "      <td>2016-01-02</td>\n",
              "      <td>Country_02</td>\n",
              "      <td>2</td>\n",
              "      <td>Mining</td>\n",
              "      <td>1</td>\n",
              "      <td>4</td>\n",
              "      <td>Male</td>\n",
              "      <td>Employee</td>\n",
              "      <td>Pressurized Systems</td>\n",
              "      <td>During the activation of a sodium sulphide pum...</td>\n",
              "      <td>2016</td>\n",
              "      <td>1</td>\n",
              "      <td>2</td>\n",
              "      <td>Saturday</td>\n",
              "      <td>53</td>\n",
              "    </tr>\n",
              "    <tr>\n",
              "      <th>2</th>\n",
              "      <td>2016-01-06</td>\n",
              "      <td>Country_01</td>\n",
              "      <td>3</td>\n",
              "      <td>Mining</td>\n",
              "      <td>1</td>\n",
              "      <td>3</td>\n",
              "      <td>Male</td>\n",
              "      <td>Third Party (Remote)</td>\n",
              "      <td>Manual Tools</td>\n",
              "      <td>In the sub-station MILPO located at level +170...</td>\n",
              "      <td>2016</td>\n",
              "      <td>1</td>\n",
              "      <td>6</td>\n",
              "      <td>Wednesday</td>\n",
              "      <td>1</td>\n",
              "    </tr>\n",
              "    <tr>\n",
              "      <th>3</th>\n",
              "      <td>2016-01-08</td>\n",
              "      <td>Country_01</td>\n",
              "      <td>4</td>\n",
              "      <td>Mining</td>\n",
              "      <td>1</td>\n",
              "      <td>1</td>\n",
              "      <td>Male</td>\n",
              "      <td>Third Party</td>\n",
              "      <td>Others</td>\n",
              "      <td>Being 9:45 am. approximately in the Nv. 1880 C...</td>\n",
              "      <td>2016</td>\n",
              "      <td>1</td>\n",
              "      <td>8</td>\n",
              "      <td>Friday</td>\n",
              "      <td>1</td>\n",
              "    </tr>\n",
              "    <tr>\n",
              "      <th>4</th>\n",
              "      <td>2016-01-10</td>\n",
              "      <td>Country_01</td>\n",
              "      <td>4</td>\n",
              "      <td>Mining</td>\n",
              "      <td>4</td>\n",
              "      <td>4</td>\n",
              "      <td>Male</td>\n",
              "      <td>Third Party</td>\n",
              "      <td>Others</td>\n",
              "      <td>Approximately at 11:45 a.m. in circumstances t...</td>\n",
              "      <td>2016</td>\n",
              "      <td>1</td>\n",
              "      <td>10</td>\n",
              "      <td>Sunday</td>\n",
              "      <td>1</td>\n",
              "    </tr>\n",
              "  </tbody>\n",
              "</table>\n",
              "</div>\n",
              "      <button class=\"colab-df-convert\" onclick=\"convertToInteractive('df-feaa8d87-6942-49a6-a034-f33a0950beb7')\"\n",
              "              title=\"Convert this dataframe to an interactive table.\"\n",
              "              style=\"display:none;\">\n",
              "        \n",
              "  <svg xmlns=\"http://www.w3.org/2000/svg\" height=\"24px\"viewBox=\"0 0 24 24\"\n",
              "       width=\"24px\">\n",
              "    <path d=\"M0 0h24v24H0V0z\" fill=\"none\"/>\n",
              "    <path d=\"M18.56 5.44l.94 2.06.94-2.06 2.06-.94-2.06-.94-.94-2.06-.94 2.06-2.06.94zm-11 1L8.5 8.5l.94-2.06 2.06-.94-2.06-.94L8.5 2.5l-.94 2.06-2.06.94zm10 10l.94 2.06.94-2.06 2.06-.94-2.06-.94-.94-2.06-.94 2.06-2.06.94z\"/><path d=\"M17.41 7.96l-1.37-1.37c-.4-.4-.92-.59-1.43-.59-.52 0-1.04.2-1.43.59L10.3 9.45l-7.72 7.72c-.78.78-.78 2.05 0 2.83L4 21.41c.39.39.9.59 1.41.59.51 0 1.02-.2 1.41-.59l7.78-7.78 2.81-2.81c.8-.78.8-2.07 0-2.86zM5.41 20L4 18.59l7.72-7.72 1.47 1.35L5.41 20z\"/>\n",
              "  </svg>\n",
              "      </button>\n",
              "      \n",
              "  <style>\n",
              "    .colab-df-container {\n",
              "      display:flex;\n",
              "      flex-wrap:wrap;\n",
              "      gap: 12px;\n",
              "    }\n",
              "\n",
              "    .colab-df-convert {\n",
              "      background-color: #E8F0FE;\n",
              "      border: none;\n",
              "      border-radius: 50%;\n",
              "      cursor: pointer;\n",
              "      display: none;\n",
              "      fill: #1967D2;\n",
              "      height: 32px;\n",
              "      padding: 0 0 0 0;\n",
              "      width: 32px;\n",
              "    }\n",
              "\n",
              "    .colab-df-convert:hover {\n",
              "      background-color: #E2EBFA;\n",
              "      box-shadow: 0px 1px 2px rgba(60, 64, 67, 0.3), 0px 1px 3px 1px rgba(60, 64, 67, 0.15);\n",
              "      fill: #174EA6;\n",
              "    }\n",
              "\n",
              "    [theme=dark] .colab-df-convert {\n",
              "      background-color: #3B4455;\n",
              "      fill: #D2E3FC;\n",
              "    }\n",
              "\n",
              "    [theme=dark] .colab-df-convert:hover {\n",
              "      background-color: #434B5C;\n",
              "      box-shadow: 0px 1px 3px 1px rgba(0, 0, 0, 0.15);\n",
              "      filter: drop-shadow(0px 1px 2px rgba(0, 0, 0, 0.3));\n",
              "      fill: #FFFFFF;\n",
              "    }\n",
              "  </style>\n",
              "\n",
              "      <script>\n",
              "        const buttonEl =\n",
              "          document.querySelector('#df-feaa8d87-6942-49a6-a034-f33a0950beb7 button.colab-df-convert');\n",
              "        buttonEl.style.display =\n",
              "          google.colab.kernel.accessAllowed ? 'block' : 'none';\n",
              "\n",
              "        async function convertToInteractive(key) {\n",
              "          const element = document.querySelector('#df-feaa8d87-6942-49a6-a034-f33a0950beb7');\n",
              "          const dataTable =\n",
              "            await google.colab.kernel.invokeFunction('convertToInteractive',\n",
              "                                                     [key], {});\n",
              "          if (!dataTable) return;\n",
              "\n",
              "          const docLinkHtml = 'Like what you see? Visit the ' +\n",
              "            '<a target=\"_blank\" href=https://colab.research.google.com/notebooks/data_table.ipynb>data table notebook</a>'\n",
              "            + ' to learn more about interactive tables.';\n",
              "          element.innerHTML = '';\n",
              "          dataTable['output_type'] = 'display_data';\n",
              "          await google.colab.output.renderOutput(dataTable, element);\n",
              "          const docLink = document.createElement('div');\n",
              "          docLink.innerHTML = docLinkHtml;\n",
              "          element.appendChild(docLink);\n",
              "        }\n",
              "      </script>\n",
              "    </div>\n",
              "  </div>\n",
              "  "
            ]
          },
          "metadata": {},
          "execution_count": 21
        }
      ]
    },
    {
      "cell_type": "markdown",
      "source": [
        "Dividing the year in quaters"
      ],
      "metadata": {
        "id": "ukoHWGIoPxpN"
      }
    },
    {
      "cell_type": "code",
      "source": [
        "def month_quarter_Conversion(x):\n",
        "    if x in [10, 11, 12]:\n",
        "        season = 'Fourth'\n",
        "    elif x in [1, 2, 3]:\n",
        "        season = 'First'\n",
        "    elif x in [4, 5, 6]:\n",
        "        season = 'Second'\n",
        "    elif x in [7, 8, 9]:\n",
        "        season = 'Third'\n",
        "    return season\n",
        "df_health['Quarter'] = df_health['Month'].apply(month_quarter_Conversion)\n",
        "df_health.head()"
      ],
      "metadata": {
        "colab": {
          "base_uri": "https://localhost:8080/",
          "height": 371
        },
        "id": "ZWjTOADPPtyf",
        "outputId": "2b43cfbe-cecc-4ef9-87ce-4784db77fe68"
      },
      "execution_count": 22,
      "outputs": [
        {
          "output_type": "execute_result",
          "data": {
            "text/plain": [
              "        Date     Country  Local Industry Sector  Accident Level  \\\n",
              "0 2016-01-01  Country_01      1          Mining               1   \n",
              "1 2016-01-02  Country_02      2          Mining               1   \n",
              "2 2016-01-06  Country_01      3          Mining               1   \n",
              "3 2016-01-08  Country_01      4          Mining               1   \n",
              "4 2016-01-10  Country_01      4          Mining               4   \n",
              "\n",
              "   Potential Accident Level Gender         Employee Type        Critical Risk  \\\n",
              "0                         4   Male           Third Party              Pressed   \n",
              "1                         4   Male              Employee  Pressurized Systems   \n",
              "2                         3   Male  Third Party (Remote)         Manual Tools   \n",
              "3                         1   Male           Third Party               Others   \n",
              "4                         4   Male           Third Party               Others   \n",
              "\n",
              "                                         Description  Year  Month  Day  \\\n",
              "0  While removing the drill rod of the Jumbo 08 f...  2016      1    1   \n",
              "1  During the activation of a sodium sulphide pum...  2016      1    2   \n",
              "2  In the sub-station MILPO located at level +170...  2016      1    6   \n",
              "3  Being 9:45 am. approximately in the Nv. 1880 C...  2016      1    8   \n",
              "4  Approximately at 11:45 a.m. in circumstances t...  2016      1   10   \n",
              "\n",
              "     Weekday  WeekofYear Quarter  \n",
              "0     Friday          53   First  \n",
              "1   Saturday          53   First  \n",
              "2  Wednesday           1   First  \n",
              "3     Friday           1   First  \n",
              "4     Sunday           1   First  "
            ],
            "text/html": [
              "\n",
              "  <div id=\"df-ffc5fcbc-99aa-41c2-a34f-bb477ae84029\">\n",
              "    <div class=\"colab-df-container\">\n",
              "      <div>\n",
              "<style scoped>\n",
              "    .dataframe tbody tr th:only-of-type {\n",
              "        vertical-align: middle;\n",
              "    }\n",
              "\n",
              "    .dataframe tbody tr th {\n",
              "        vertical-align: top;\n",
              "    }\n",
              "\n",
              "    .dataframe thead th {\n",
              "        text-align: right;\n",
              "    }\n",
              "</style>\n",
              "<table border=\"1\" class=\"dataframe\">\n",
              "  <thead>\n",
              "    <tr style=\"text-align: right;\">\n",
              "      <th></th>\n",
              "      <th>Date</th>\n",
              "      <th>Country</th>\n",
              "      <th>Local</th>\n",
              "      <th>Industry Sector</th>\n",
              "      <th>Accident Level</th>\n",
              "      <th>Potential Accident Level</th>\n",
              "      <th>Gender</th>\n",
              "      <th>Employee Type</th>\n",
              "      <th>Critical Risk</th>\n",
              "      <th>Description</th>\n",
              "      <th>Year</th>\n",
              "      <th>Month</th>\n",
              "      <th>Day</th>\n",
              "      <th>Weekday</th>\n",
              "      <th>WeekofYear</th>\n",
              "      <th>Quarter</th>\n",
              "    </tr>\n",
              "  </thead>\n",
              "  <tbody>\n",
              "    <tr>\n",
              "      <th>0</th>\n",
              "      <td>2016-01-01</td>\n",
              "      <td>Country_01</td>\n",
              "      <td>1</td>\n",
              "      <td>Mining</td>\n",
              "      <td>1</td>\n",
              "      <td>4</td>\n",
              "      <td>Male</td>\n",
              "      <td>Third Party</td>\n",
              "      <td>Pressed</td>\n",
              "      <td>While removing the drill rod of the Jumbo 08 f...</td>\n",
              "      <td>2016</td>\n",
              "      <td>1</td>\n",
              "      <td>1</td>\n",
              "      <td>Friday</td>\n",
              "      <td>53</td>\n",
              "      <td>First</td>\n",
              "    </tr>\n",
              "    <tr>\n",
              "      <th>1</th>\n",
              "      <td>2016-01-02</td>\n",
              "      <td>Country_02</td>\n",
              "      <td>2</td>\n",
              "      <td>Mining</td>\n",
              "      <td>1</td>\n",
              "      <td>4</td>\n",
              "      <td>Male</td>\n",
              "      <td>Employee</td>\n",
              "      <td>Pressurized Systems</td>\n",
              "      <td>During the activation of a sodium sulphide pum...</td>\n",
              "      <td>2016</td>\n",
              "      <td>1</td>\n",
              "      <td>2</td>\n",
              "      <td>Saturday</td>\n",
              "      <td>53</td>\n",
              "      <td>First</td>\n",
              "    </tr>\n",
              "    <tr>\n",
              "      <th>2</th>\n",
              "      <td>2016-01-06</td>\n",
              "      <td>Country_01</td>\n",
              "      <td>3</td>\n",
              "      <td>Mining</td>\n",
              "      <td>1</td>\n",
              "      <td>3</td>\n",
              "      <td>Male</td>\n",
              "      <td>Third Party (Remote)</td>\n",
              "      <td>Manual Tools</td>\n",
              "      <td>In the sub-station MILPO located at level +170...</td>\n",
              "      <td>2016</td>\n",
              "      <td>1</td>\n",
              "      <td>6</td>\n",
              "      <td>Wednesday</td>\n",
              "      <td>1</td>\n",
              "      <td>First</td>\n",
              "    </tr>\n",
              "    <tr>\n",
              "      <th>3</th>\n",
              "      <td>2016-01-08</td>\n",
              "      <td>Country_01</td>\n",
              "      <td>4</td>\n",
              "      <td>Mining</td>\n",
              "      <td>1</td>\n",
              "      <td>1</td>\n",
              "      <td>Male</td>\n",
              "      <td>Third Party</td>\n",
              "      <td>Others</td>\n",
              "      <td>Being 9:45 am. approximately in the Nv. 1880 C...</td>\n",
              "      <td>2016</td>\n",
              "      <td>1</td>\n",
              "      <td>8</td>\n",
              "      <td>Friday</td>\n",
              "      <td>1</td>\n",
              "      <td>First</td>\n",
              "    </tr>\n",
              "    <tr>\n",
              "      <th>4</th>\n",
              "      <td>2016-01-10</td>\n",
              "      <td>Country_01</td>\n",
              "      <td>4</td>\n",
              "      <td>Mining</td>\n",
              "      <td>4</td>\n",
              "      <td>4</td>\n",
              "      <td>Male</td>\n",
              "      <td>Third Party</td>\n",
              "      <td>Others</td>\n",
              "      <td>Approximately at 11:45 a.m. in circumstances t...</td>\n",
              "      <td>2016</td>\n",
              "      <td>1</td>\n",
              "      <td>10</td>\n",
              "      <td>Sunday</td>\n",
              "      <td>1</td>\n",
              "      <td>First</td>\n",
              "    </tr>\n",
              "  </tbody>\n",
              "</table>\n",
              "</div>\n",
              "      <button class=\"colab-df-convert\" onclick=\"convertToInteractive('df-ffc5fcbc-99aa-41c2-a34f-bb477ae84029')\"\n",
              "              title=\"Convert this dataframe to an interactive table.\"\n",
              "              style=\"display:none;\">\n",
              "        \n",
              "  <svg xmlns=\"http://www.w3.org/2000/svg\" height=\"24px\"viewBox=\"0 0 24 24\"\n",
              "       width=\"24px\">\n",
              "    <path d=\"M0 0h24v24H0V0z\" fill=\"none\"/>\n",
              "    <path d=\"M18.56 5.44l.94 2.06.94-2.06 2.06-.94-2.06-.94-.94-2.06-.94 2.06-2.06.94zm-11 1L8.5 8.5l.94-2.06 2.06-.94-2.06-.94L8.5 2.5l-.94 2.06-2.06.94zm10 10l.94 2.06.94-2.06 2.06-.94-2.06-.94-.94-2.06-.94 2.06-2.06.94z\"/><path d=\"M17.41 7.96l-1.37-1.37c-.4-.4-.92-.59-1.43-.59-.52 0-1.04.2-1.43.59L10.3 9.45l-7.72 7.72c-.78.78-.78 2.05 0 2.83L4 21.41c.39.39.9.59 1.41.59.51 0 1.02-.2 1.41-.59l7.78-7.78 2.81-2.81c.8-.78.8-2.07 0-2.86zM5.41 20L4 18.59l7.72-7.72 1.47 1.35L5.41 20z\"/>\n",
              "  </svg>\n",
              "      </button>\n",
              "      \n",
              "  <style>\n",
              "    .colab-df-container {\n",
              "      display:flex;\n",
              "      flex-wrap:wrap;\n",
              "      gap: 12px;\n",
              "    }\n",
              "\n",
              "    .colab-df-convert {\n",
              "      background-color: #E8F0FE;\n",
              "      border: none;\n",
              "      border-radius: 50%;\n",
              "      cursor: pointer;\n",
              "      display: none;\n",
              "      fill: #1967D2;\n",
              "      height: 32px;\n",
              "      padding: 0 0 0 0;\n",
              "      width: 32px;\n",
              "    }\n",
              "\n",
              "    .colab-df-convert:hover {\n",
              "      background-color: #E2EBFA;\n",
              "      box-shadow: 0px 1px 2px rgba(60, 64, 67, 0.3), 0px 1px 3px 1px rgba(60, 64, 67, 0.15);\n",
              "      fill: #174EA6;\n",
              "    }\n",
              "\n",
              "    [theme=dark] .colab-df-convert {\n",
              "      background-color: #3B4455;\n",
              "      fill: #D2E3FC;\n",
              "    }\n",
              "\n",
              "    [theme=dark] .colab-df-convert:hover {\n",
              "      background-color: #434B5C;\n",
              "      box-shadow: 0px 1px 3px 1px rgba(0, 0, 0, 0.15);\n",
              "      filter: drop-shadow(0px 1px 2px rgba(0, 0, 0, 0.3));\n",
              "      fill: #FFFFFF;\n",
              "    }\n",
              "  </style>\n",
              "\n",
              "      <script>\n",
              "        const buttonEl =\n",
              "          document.querySelector('#df-ffc5fcbc-99aa-41c2-a34f-bb477ae84029 button.colab-df-convert');\n",
              "        buttonEl.style.display =\n",
              "          google.colab.kernel.accessAllowed ? 'block' : 'none';\n",
              "\n",
              "        async function convertToInteractive(key) {\n",
              "          const element = document.querySelector('#df-ffc5fcbc-99aa-41c2-a34f-bb477ae84029');\n",
              "          const dataTable =\n",
              "            await google.colab.kernel.invokeFunction('convertToInteractive',\n",
              "                                                     [key], {});\n",
              "          if (!dataTable) return;\n",
              "\n",
              "          const docLinkHtml = 'Like what you see? Visit the ' +\n",
              "            '<a target=\"_blank\" href=https://colab.research.google.com/notebooks/data_table.ipynb>data table notebook</a>'\n",
              "            + ' to learn more about interactive tables.';\n",
              "          element.innerHTML = '';\n",
              "          dataTable['output_type'] = 'display_data';\n",
              "          await google.colab.output.renderOutput(dataTable, element);\n",
              "          const docLink = document.createElement('div');\n",
              "          docLink.innerHTML = docLinkHtml;\n",
              "          element.appendChild(docLink);\n",
              "        }\n",
              "      </script>\n",
              "    </div>\n",
              "  </div>\n",
              "  "
            ]
          },
          "metadata": {},
          "execution_count": 22
        }
      ]
    },
    {
      "cell_type": "code",
      "source": [
        "plt.figure(figsize=(5,4))\n",
        "plt.subplot(1,2,1)\n",
        "plt.title('Potential Accident Level')\n",
        "sns.countplot(x='Potential Accident Level',data=df_health)\n",
        "\n",
        "plt.subplot(1,2,2)\n",
        "plt.title('Accident Level')\n",
        "sns.countplot(x='Accident Level',data=df_health)"
      ],
      "metadata": {
        "colab": {
          "base_uri": "https://localhost:8080/"
        },
        "id": "YYSoKr-MP2x5",
        "outputId": "1e5b4ec6-38ac-442a-acc3-23ede22f808d"
      },
      "execution_count": 23,
      "outputs": [
        {
          "output_type": "execute_result",
          "data": {
            "text/plain": [
              "<matplotlib.axes._subplots.AxesSubplot at 0x7efbeaa5a9d0>"
            ]
          },
          "metadata": {},
          "execution_count": 23
        }
      ]
    },
    {
      "cell_type": "code",
      "source": [
        "fig=plt.figure(figsize=(5,5))\n",
        "\n",
        "ax1=fig.add_subplot(1,2,1)\n",
        "plt.pie(x=df_health['Accident Level'].value_counts(),autopct='%.2f',labels=['1','2','3','4','5'])\n",
        "plt.title('Accident Level',fontsize=14)\n",
        "\n",
        "ax1=fig.add_subplot(1,2,2)\n",
        "plt.pie(x=df_health['Potential Accident Level'].value_counts(),autopct='%.2f',labels=['1','2','3','4','5','6'])\n",
        "plt.title('Potential Accident Level',fontsize=14)"
      ],
      "metadata": {
        "colab": {
          "base_uri": "https://localhost:8080/"
        },
        "id": "p-U7lryGUAUL",
        "outputId": "755faae7-37e6-405b-9707-c4526b83b499"
      },
      "execution_count": 24,
      "outputs": [
        {
          "output_type": "execute_result",
          "data": {
            "text/plain": [
              "Text(0.5, 1.0, 'Potential Accident Level')"
            ]
          },
          "metadata": {},
          "execution_count": 24
        }
      ]
    },
    {
      "cell_type": "code",
      "source": [
        "#Dealing with categorical variable\n",
        "#check for unique values in target varibale.\n",
        "#It contains six values :\n",
        "df_health['Potential Accident Level'].unique()"
      ],
      "metadata": {
        "colab": {
          "base_uri": "https://localhost:8080/"
        },
        "id": "0nuzMZHVQsSy",
        "outputId": "9fd14b56-0609-4846-add4-2c86c33c7f88"
      },
      "execution_count": 25,
      "outputs": [
        {
          "output_type": "execute_result",
          "data": {
            "text/plain": [
              "array([4, 3, 1, 2, 5, 6])"
            ]
          },
          "metadata": {},
          "execution_count": 25
        }
      ]
    },
    {
      "cell_type": "code",
      "source": [
        "#check frequency distribution of target variable. \n",
        "#check whether data is balanced or imbalanced.\n",
        "#It has 1 severe case and 49 not severe\n",
        "df_health['Potential Accident Level'].value_counts()"
      ],
      "metadata": {
        "colab": {
          "base_uri": "https://localhost:8080/"
        },
        "id": "sDbK9dBmRfik",
        "outputId": "47851233-ed33-4e9a-8921-aa3b8f8d949d"
      },
      "execution_count": 26,
      "outputs": [
        {
          "output_type": "execute_result",
          "data": {
            "text/plain": [
              "4    143\n",
              "3    106\n",
              "2     95\n",
              "1     49\n",
              "5     31\n",
              "6      1\n",
              "Name: Potential Accident Level, dtype: int64"
            ]
          },
          "metadata": {},
          "execution_count": 26
        }
      ]
    },
    {
      "cell_type": "code",
      "source": [
        "#We can check the imbalaned data by caluclating percentage of the classes\n",
        "df_health['Potential Accident Level'].value_counts(normalize=True)"
      ],
      "metadata": {
        "colab": {
          "base_uri": "https://localhost:8080/"
        },
        "id": "UnoYkLc9RnPd",
        "outputId": "bb4f314c-4938-4a53-8f27-19b4894be5d0"
      },
      "execution_count": 27,
      "outputs": [
        {
          "output_type": "execute_result",
          "data": {
            "text/plain": [
              "4    0.336471\n",
              "3    0.249412\n",
              "2    0.223529\n",
              "1    0.115294\n",
              "5    0.072941\n",
              "6    0.002353\n",
              "Name: Potential Accident Level, dtype: float64"
            ]
          },
          "metadata": {},
          "execution_count": 27
        }
      ]
    },
    {
      "cell_type": "code",
      "source": [
        "df_health['Gender'].value_counts()"
      ],
      "metadata": {
        "colab": {
          "base_uri": "https://localhost:8080/"
        },
        "id": "8Vtpo9KGR5VW",
        "outputId": "7011127b-4ae8-42e5-a63b-fac2c5639773"
      },
      "execution_count": 28,
      "outputs": [
        {
          "output_type": "execute_result",
          "data": {
            "text/plain": [
              "Male      403\n",
              "Female     22\n",
              "Name: Gender, dtype: int64"
            ]
          },
          "metadata": {},
          "execution_count": 28
        }
      ]
    },
    {
      "cell_type": "code",
      "source": [
        "df_health['Industry Sector'].value_counts()"
      ],
      "metadata": {
        "colab": {
          "base_uri": "https://localhost:8080/"
        },
        "id": "i-JExOLXSBvF",
        "outputId": "6a42a343-7602-4a4b-8173-2ecbe7216e7b"
      },
      "execution_count": 29,
      "outputs": [
        {
          "output_type": "execute_result",
          "data": {
            "text/plain": [
              "Mining    241\n",
              "Metals    134\n",
              "Others     50\n",
              "Name: Industry Sector, dtype: int64"
            ]
          },
          "metadata": {},
          "execution_count": 29
        }
      ]
    },
    {
      "cell_type": "code",
      "source": [
        "df_health['Employee Type'].value_counts()"
      ],
      "metadata": {
        "colab": {
          "base_uri": "https://localhost:8080/"
        },
        "id": "CAT8wXfcSIMj",
        "outputId": "bc642d04-4eb4-4baa-e5a1-9f3728601081"
      },
      "execution_count": 30,
      "outputs": [
        {
          "output_type": "execute_result",
          "data": {
            "text/plain": [
              "Third Party             189\n",
              "Employee                179\n",
              "Third Party (Remote)     57\n",
              "Name: Employee Type, dtype: int64"
            ]
          },
          "metadata": {},
          "execution_count": 30
        }
      ]
    },
    {
      "cell_type": "code",
      "source": [
        "df_health['Accident Level'].value_counts()"
      ],
      "metadata": {
        "colab": {
          "base_uri": "https://localhost:8080/"
        },
        "id": "PKXvadHhSN9F",
        "outputId": "f5ee0254-abde-4275-d269-60e6d567fea6"
      },
      "execution_count": 31,
      "outputs": [
        {
          "output_type": "execute_result",
          "data": {
            "text/plain": [
              "1    316\n",
              "2     40\n",
              "3     31\n",
              "4     30\n",
              "5      8\n",
              "Name: Accident Level, dtype: int64"
            ]
          },
          "metadata": {},
          "execution_count": 31
        }
      ]
    },
    {
      "cell_type": "code",
      "source": [
        "df_health['Critical Risk'].value_counts()"
      ],
      "metadata": {
        "colab": {
          "base_uri": "https://localhost:8080/"
        },
        "id": "-ySitWCySUjp",
        "outputId": "ec813309-c3c6-4d7e-bdee-e8a943631386"
      },
      "execution_count": 32,
      "outputs": [
        {
          "output_type": "execute_result",
          "data": {
            "text/plain": [
              "Others                                       232\n",
              "Pressed                                       24\n",
              "Manual Tools                                  20\n",
              "Chemical substances                           17\n",
              "Venomous Animals                              16\n",
              "Cut                                           14\n",
              "Projection                                    13\n",
              "Bees                                          10\n",
              "Fall                                           9\n",
              "Vehicles and Mobile Equipment                  8\n",
              "Fall prevention (same level)                   7\n",
              "remains of choco                               7\n",
              "Pressurized Systems                            7\n",
              "Fall prevention                                6\n",
              "Suspended Loads                                6\n",
              "Blocking and isolation of energies             3\n",
              "Pressurized Systems / Chemical Substances      3\n",
              "Power lock                                     3\n",
              "Liquid Metal                                   3\n",
              "Projection of fragments                        2\n",
              "Machine Protection                             2\n",
              "Electrical Shock                               2\n",
              "Individual protection equipment                1\n",
              "Projection/Manual Tools                        1\n",
              "Burn                                           1\n",
              "Poll                                           1\n",
              "Projection/Choco                               1\n",
              "Projection/Burning                             1\n",
              "Plates                                         1\n",
              "Confined space                                 1\n",
              "Traffic                                        1\n",
              "\\r\\nNot applicable                             1\n",
              "Electrical installation                        1\n",
              "Name: Critical Risk, dtype: int64"
            ]
          },
          "metadata": {},
          "execution_count": 32
        }
      ]
    },
    {
      "cell_type": "code",
      "source": [
        "df_health['Country'].value_counts()"
      ],
      "metadata": {
        "colab": {
          "base_uri": "https://localhost:8080/"
        },
        "id": "cFh1H3LiSY9U",
        "outputId": "42ac261c-1cb1-45cf-8468-01e6068f89c9"
      },
      "execution_count": 33,
      "outputs": [
        {
          "output_type": "execute_result",
          "data": {
            "text/plain": [
              "Country_01    251\n",
              "Country_02    130\n",
              "Country_03     44\n",
              "Name: Country, dtype: int64"
            ]
          },
          "metadata": {},
          "execution_count": 33
        }
      ]
    },
    {
      "cell_type": "code",
      "source": [
        "df_health['Local'].value_counts()"
      ],
      "metadata": {
        "colab": {
          "base_uri": "https://localhost:8080/"
        },
        "id": "-aRXCs9lSeGq",
        "outputId": "6b4b8d67-25da-4bb3-d6aa-e95c7e17c03c"
      },
      "execution_count": 34,
      "outputs": [
        {
          "output_type": "execute_result",
          "data": {
            "text/plain": [
              "3     90\n",
              "5     59\n",
              "1     57\n",
              "4     56\n",
              "6     46\n",
              "10    44\n",
              "8     27\n",
              "2     24\n",
              "7     14\n",
              "12     4\n",
              "9      2\n",
              "11     2\n",
              "Name: Local, dtype: int64"
            ]
          },
          "metadata": {},
          "execution_count": 34
        }
      ]
    },
    {
      "cell_type": "code",
      "source": [
        "plt.figure(figsize=(20,4))\n",
        "plt.subplot(1,4,1)\n",
        "plt.title(\"Country\")\n",
        "sns.countplot(x='Country',data=df_health)\n",
        "\n",
        "plt.subplot(1,4,2)\n",
        "plt.title(\"Local\")\n",
        "sns.countplot(x='Local',data=df_health)\n",
        "\n",
        "plt.subplot(1,4,3)\n",
        "plt.title(\"Industry Sector\")\n",
        "sns.countplot(x='Industry Sector',data=df_health)\n",
        "\n",
        "plt.subplot(1,4,4)\n",
        "plt.title(\"Year\")\n",
        "sns.countplot(x='Year',data=df_health)\n",
        "\n",
        "plt.figure(figsize=(20,4))\n",
        "plt.subplot(1,4,1)\n",
        "plt.title(\"Month\")\n",
        "sns.countplot(x='Month',data=df_health)\n",
        "\n",
        "plt.subplot(1,4,2)\n",
        "plt.title(\"Gender\")\n",
        "sns.countplot(x='Gender',data=df_health)\n",
        "\n",
        "plt.subplot(1,4,3)\n",
        "plt.title(\"Employee Type\")\n",
        "sns.countplot(x='Employee Type',data=df_health)\n",
        "\n",
        "plt.subplot(1,4,4)\n",
        "plt.title(\"Critical Risk\")\n",
        "sns.countplot(x='Critical Risk',data=df_health)"
      ],
      "metadata": {
        "colab": {
          "base_uri": "https://localhost:8080/"
        },
        "id": "WecTmA-LTMGv",
        "outputId": "99af57e6-b79d-4c57-ee96-f4927a710a3a"
      },
      "execution_count": 35,
      "outputs": [
        {
          "output_type": "execute_result",
          "data": {
            "text/plain": [
              "<matplotlib.axes._subplots.AxesSubplot at 0x7efbea8c6790>"
            ]
          },
          "metadata": {},
          "execution_count": 35
        }
      ]
    },
    {
      "cell_type": "code",
      "source": [
        "fig=plt.figure(figsize=(25,15))\n",
        "\n",
        "ax1=fig.add_subplot(2,4,1)\n",
        "plt.pie(x=df_health['Country'].value_counts(),autopct=\"%.2f\",labels=df_health['Country'].value_counts().keys())\n",
        "plt.title(\"origin Distribution\",fontsize=14)\n",
        "plt.title('Country',size=14)\n",
        "\n",
        "ax2=fig.add_subplot(2,4,2)\n",
        "plt.pie(x=df_health['Local'].value_counts(),autopct=\"%.2f\",labels=df_health['Local'].value_counts().keys())\n",
        "plt.title(\"origin Distribution\",fontsize=14)\n",
        "plt.title('Local',size=14)\n",
        "\n",
        "ax3=fig.add_subplot(2,4,3)\n",
        "plt.pie(x=df_health['Industry Sector'].value_counts(),autopct=\"%.2f\",labels=df_health['Industry Sector'].value_counts().keys())\n",
        "plt.title(\"origin Distribution\",fontsize=14)\n",
        "plt.title('Industry Sector',size=14)\n",
        "\n",
        "ax4=fig.add_subplot(2,4,4)\n",
        "plt.pie(x=df_health['Gender'].value_counts(),autopct=\"%.2f\",labels=df_health['Gender'].value_counts().keys())\n",
        "plt.title(\"origin Distribution\",fontsize=14)\n",
        "plt.title('Gender',size=14)\n",
        "\n",
        "ax5=fig.add_subplot(2,4,5)\n",
        "plt.pie(x=df_health['Employee Type'].value_counts(),autopct=\"%.2f\",labels=df_health['Employee Type'].value_counts().keys())\n",
        "plt.title(\"origin Distribution\",fontsize=14)\n",
        "plt.title(\"Employee Type\",fontsize=14)\n",
        "\n",
        "ax6=fig.add_subplot(2,4,6)\n",
        "plt.pie(x=df_health['Year'].value_counts(),autopct=\"%.2f\",labels=df_health['Year'].value_counts().keys())\n",
        "plt.title(\"origin Distribution\",fontsize=14)\n",
        "plt.title('Year',size=14)\n",
        "\n",
        "ax7=fig.add_subplot(2,4,7)\n",
        "plt.pie(x=df_health['Month'].value_counts(),autopct=\"%.2f\",labels=df_health['Month'].value_counts().keys())\n",
        "plt.title(\"origin Distribution\",fontsize=14)\n",
        "plt.title('Month',size=14)\n",
        "\n",
        "plt.show()"
      ],
      "metadata": {
        "id": "qcxFSPprTYsE"
      },
      "execution_count": 36,
      "outputs": []
    },
    {
      "cell_type": "markdown",
      "source": [
        "# Multivariate Analysis"
      ],
      "metadata": {
        "id": "2rN_tqPLW5Lk"
      }
    },
    {
      "cell_type": "code",
      "source": [
        "sns.catplot(data=df_health, x=\"Potential Accident Level\",col=\"Accident Level\",kind=\"count\")"
      ],
      "metadata": {
        "colab": {
          "base_uri": "https://localhost:8080/"
        },
        "id": "cULFS_BWWKqm",
        "outputId": "50a8d989-7f7a-44ca-ec9c-7c17b54a0a90"
      },
      "execution_count": 37,
      "outputs": [
        {
          "output_type": "execute_result",
          "data": {
            "text/plain": [
              "<seaborn.axisgrid.FacetGrid at 0x7efbea413550>"
            ]
          },
          "metadata": {},
          "execution_count": 37
        }
      ]
    },
    {
      "cell_type": "code",
      "source": [
        "fig2 = plt.figure(figsize = (15, 7.2))\n",
        "ax1 = fig2.add_subplot(122)\n",
        "sns.countplot(x = \"Accident Level\", data = df_health, ax = ax1, orient = 'v',hue = 'Potential Accident Level').set_title(\"Accident Level\".capitalize() +' count plot by Potential Accident Level',fontsize = 13)\n",
        "plt.legend(labels = df_health['Potential Accident Level'].unique())\n",
        "plt.xticks(rotation = 90)"
      ],
      "metadata": {
        "colab": {
          "base_uri": "https://localhost:8080/"
        },
        "id": "wI5dmi9tXJSI",
        "outputId": "ef3a055e-f621-413a-f44b-8dd1ff91e1b8"
      },
      "execution_count": 38,
      "outputs": [
        {
          "output_type": "execute_result",
          "data": {
            "text/plain": [
              "(array([0, 1, 2, 3, 4]), <a list of 5 Text major ticklabel objects>)"
            ]
          },
          "metadata": {},
          "execution_count": 38
        }
      ]
    },
    {
      "cell_type": "code",
      "source": [
        "sns.catplot(data=df_health, x=\"Accident Level\",col=\"Quarter\",kind=\"count\")"
      ],
      "metadata": {
        "colab": {
          "base_uri": "https://localhost:8080/",
          "height": 348
        },
        "id": "SBzjoyHIXOAd",
        "outputId": "a5760fc1-8d98-42d1-b8f0-9da465370c86"
      },
      "execution_count": null,
      "outputs": [
        {
          "output_type": "execute_result",
          "data": {
            "text/plain": [
              "<seaborn.axisgrid.FacetGrid at 0x7fd90b0bef90>"
            ]
          },
          "metadata": {},
          "execution_count": 54
        },
        {
          "output_type": "display_data",
          "data": {
            "text/plain": [
              "<Figure size 1440x360 with 4 Axes>"
            ],
            "image/png": "[encoded data removed]"
          },
          "metadata": {
            "needs_background": "light"
          }
        }
      ]
    },
    {
      "cell_type": "code",
      "source": [
        "\n",
        "fig=sns.FacetGrid(df_health,aspect=1.5,palette=\"winter\", hue='Gender',col='Industry Sector', legend_out=True)\n",
        "fig.map(sns.histplot, 'Accident Level')\n",
        "fig.add_legend()"
      ],
      "metadata": {
        "colab": {
          "base_uri": "https://localhost:8080/"
        },
        "id": "v6HOxYehXSe7",
        "outputId": "b35c4caa-db2d-406b-8713-a2655810084c"
      },
      "execution_count": 39,
      "outputs": [
        {
          "output_type": "execute_result",
          "data": {
            "text/plain": [
              "<seaborn.axisgrid.FacetGrid at 0x7efbe7e8a590>"
            ]
          },
          "metadata": {},
          "execution_count": 39
        }
      ]
    },
    {
      "cell_type": "code",
      "source": [
        "# Define a common function to plot multivariate countplot\n",
        "def plot_multi(df, col1, hue):\n",
        "    fig = plt.figure(figsize = (8, 4))\n",
        "    ax = fig.add_subplot(121)\n",
        "    sns.countplot(x = col1, data = df, ax = ax, orient = 'v',\n",
        "                  hue = hue).set_title(col1.capitalize() +' count plot by '+ hue, \n",
        "                                                                      fontsize = 13)\n",
        "    plt.legend(labels = df[hue].unique())\n",
        "    #plt.xticks(rotation = 90)\n",
        "    \n",
        "    return plt.show()"
      ],
      "metadata": {
        "id": "87Yi3CQAXWUX"
      },
      "execution_count": 40,
      "outputs": []
    },
    {
      "cell_type": "code",
      "source": [
        "plot_multi(df_health, 'Quarter', 'Accident Level')"
      ],
      "metadata": {
        "id": "52Pkc8lLXcA9"
      },
      "execution_count": 41,
      "outputs": []
    },
    {
      "cell_type": "markdown",
      "source": [
        "1.   Q2 had the highest Accident Level of severity-I. \n",
        "2.   No accidents have happened in the Q4"
      ],
      "metadata": {
        "id": "_PgGTbkHXj6u"
      }
    },
    {
      "cell_type": "code",
      "source": [
        "plot_multi(df_health, 'Potential Accident Level', 'Accident Level')"
      ],
      "metadata": {
        "id": "N0wrUvrpXd-W"
      },
      "execution_count": 42,
      "outputs": []
    },
    {
      "cell_type": "markdown",
      "source": [
        "Always the actual Accident Level has been less than the potential one. So looks like there have been mitigation steps have been taken"
      ],
      "metadata": {
        "id": "UMQJdNg9XyOn"
      }
    },
    {
      "cell_type": "markdown",
      "source": [
        "#Analysis of Gender with Accident/ Potential Accident Level\n",
        "\n"
      ],
      "metadata": {
        "id": "TBKoWNTUX38N"
      }
    },
    {
      "cell_type": "code",
      "source": [
        "plot_multi(df_health,  \"Accident Level\",  'Gender')\n",
        "# Looking at the graph below more male candidates are prone to accidents compared to females"
      ],
      "metadata": {
        "id": "SaZ9pGIuXu5k"
      },
      "execution_count": 43,
      "outputs": []
    },
    {
      "cell_type": "code",
      "source": [
        "plot_multi(df_health,  \"Potential Accident Level\",  'Gender')\n",
        "#Compared to graph below more male have higher potential accident levels compared to females"
      ],
      "metadata": {
        "id": "67pVwVuVX8Ac"
      },
      "execution_count": 44,
      "outputs": []
    },
    {
      "cell_type": "markdown",
      "source": [
        "# Employee type vs Accident and Potential Accident Level analysis"
      ],
      "metadata": {
        "id": "S8fdRERhYDGQ"
      }
    },
    {
      "cell_type": "code",
      "source": [
        "plot_multi(df_health,  \"Potential Accident Level\",  'Employee Type')\n",
        "# Third Party(Onsite) working employees are more prone to potential accidents compared other two. \n",
        "# Third Party (Remote) working employees are less prone to potential accidents"
      ],
      "metadata": {
        "id": "Gt7k36dyX_n9"
      },
      "execution_count": 45,
      "outputs": []
    },
    {
      "cell_type": "code",
      "source": [
        "plot_multi(df_health,  \"Accident Level\",  'Employee Type')\n",
        "# Employees (Full time) are more prone to accidents compared other two in Accident Severity level I (0).\n",
        "# For rest of the Accident Severity levels, Third Party employees have hit into accidents, more than rest of the two employee categories on an average.\n",
        "# Third Party (Remote) working employees are less prone to accidents"
      ],
      "metadata": {
        "id": "wPm_mdWvYF-Q"
      },
      "execution_count": 46,
      "outputs": []
    },
    {
      "cell_type": "markdown",
      "source": [
        "# Industry Sector vs Accident and Potential Accident Level analysis"
      ],
      "metadata": {
        "id": "dvPIxyQrYNAS"
      }
    },
    {
      "cell_type": "code",
      "source": [
        "plot_multi(df_health,  \"Accident Level\",  'Industry Sector')\n",
        "# Mining industry seems to have more accidents amongst all the other idustries\n",
        "# Most critical severity incidents seems to have happened in Mining and Metal industries only"
      ],
      "metadata": {
        "id": "usoafCvvYJux"
      },
      "execution_count": 47,
      "outputs": []
    },
    {
      "cell_type": "code",
      "source": [
        "plot_multi(df_health,  \"Potential Accident Level\",  'Industry Sector')\n",
        "# Mining industry seems to have more potential for Severity 4 accidents"
      ],
      "metadata": {
        "id": "DTi8omePYQ0X"
      },
      "execution_count": 48,
      "outputs": []
    },
    {
      "cell_type": "markdown",
      "source": [
        "# Country vs Accident Level analysis"
      ],
      "metadata": {
        "id": "QVe0MF2cYXsi"
      }
    },
    {
      "cell_type": "code",
      "source": [
        "plot_multi(df_health,  \"Accident Level\",  'Country')\n",
        "# Country 1 has highest levels of accidents that has happened in the past\n",
        "#\tThe most fatal accidents have happened in Country 1 only.\n",
        "#\tCountry 1 and 2 share the same number of Sev2 accidents\n"
      ],
      "metadata": {
        "id": "giKkPIw8YTh3"
      },
      "execution_count": 49,
      "outputs": []
    },
    {
      "cell_type": "code",
      "source": [
        "plot_multi(df_health,  \"Potential Accident Level\",  'Country')"
      ],
      "metadata": {
        "id": "4dg0P2umYafg"
      },
      "execution_count": 50,
      "outputs": []
    },
    {
      "cell_type": "markdown",
      "source": [
        "# Accident's monthwise analysis"
      ],
      "metadata": {
        "id": "3VUzFnsvYioe"
      }
    },
    {
      "cell_type": "code",
      "source": [
        "plot_multi(df_health,  \"Month\",  'Accident Level')\n",
        "#•\tMost of the accidents have happened in the initial 6 months. From July onwards the number and the severity has been reduced\n",
        "#•\tHence this is an important field to influence the potential accident level\n",
        "#•\tNone of the fatal accidents have happened from August onwards."
      ],
      "metadata": {
        "colab": {
          "base_uri": "https://localhost:8080/",
          "height": 295
        },
        "id": "sKBErjT7YeTH",
        "outputId": "ad446a75-8024-451d-9657-9a646a6bd4e7"
      },
      "execution_count": null,
      "outputs": [
        {
          "output_type": "display_data",
          "data": {
            "text/plain": [
              "<Figure size 576x288 with 1 Axes>"
            ],
            "image/png": "[encoded data removed]"
          },
          "metadata": {
            "needs_background": "light"
          }
        }
      ]
    },
    {
      "cell_type": "code",
      "source": [
        "plot_multi(df_health,  \"Month\",  'Potential Accident Level')\n",
        "#\tSimilarly , the potentials of accidents is higher in the first 6 months of the year.\n",
        "#\tMonth of Feb shows the highest number of Sev 2 category accident’s potential.\n",
        "#\tMonth plays an important role in Potential Accident target level prediction"
      ],
      "metadata": {
        "id": "wAfp_tfMYmi2"
      },
      "execution_count": 51,
      "outputs": []
    },
    {
      "cell_type": "markdown",
      "source": [
        "# Accident's weekday wise analysis"
      ],
      "metadata": {
        "id": "nvSVOUljYvOR"
      }
    },
    {
      "cell_type": "code",
      "source": [
        "def plot_multi_big(df, col1, hue):\n",
        "    fig = plt.figure(figsize = (10, 8))\n",
        "    ax = fig.add_subplot()\n",
        "    sns.countplot(x = col1, data = df, ax = ax, orient = 'v',\n",
        "                  hue = hue).set_title(col1.capitalize() +' count plot by '+ hue, \n",
        "                                                                      fontsize = 13)\n",
        "    plt.legend(labels = df[hue].unique())\n",
        "    plt.xticks(rotation = 90)\n",
        "    \n",
        "    return plt.show()"
      ],
      "metadata": {
        "id": "4bfNkVFmYqJN"
      },
      "execution_count": 52,
      "outputs": []
    },
    {
      "cell_type": "code",
      "source": [
        "plot_multi_big(df_health,  \"Weekday\",  'Potential Accident Level')\n",
        "#\tThere is less potential of Sev 5 accidents on Monday and Sunday.\n",
        "#\tThe most fatal accidents can happen only on Wednesday. (Looking back at the data – there is only one record in the data sheet on 25th Jan 2017 i.e. Wednesday on which the Potential of accident severity was 5 \n",
        "plot_multi_big(df_health,  \"WeekofYear\",  'Potential Accident Level')"
      ],
      "metadata": {
        "id": "KLcLQoQnYx6I"
      },
      "execution_count": 53,
      "outputs": []
    },
    {
      "cell_type": "markdown",
      "source": [
        "# Country vs Employee type analysis"
      ],
      "metadata": {
        "id": "iuuTLDqcY_nJ"
      }
    },
    {
      "cell_type": "code",
      "source": [
        "sns.countplot(x=\"Country\", data=df_health, hue='Employee Type')\n",
        "#Country 1 has most third party contractors\n",
        "#Country 3 has very less full time employees and no third party remote workers\n",
        "# Country 2 has very less Thirdparty workers working on site. Most number of full time employees "
      ],
      "metadata": {
        "colab": {
          "base_uri": "https://localhost:8080/"
        },
        "id": "i7bhzoQcY1ot",
        "outputId": "8924654d-2e38-4d35-addb-da5f78a76764"
      },
      "execution_count": 54,
      "outputs": [
        {
          "output_type": "execute_result",
          "data": {
            "text/plain": [
              "<matplotlib.axes._subplots.AxesSubplot at 0x7efbe73c01d0>"
            ]
          },
          "metadata": {},
          "execution_count": 54
        }
      ]
    },
    {
      "cell_type": "markdown",
      "source": [
        "# Analyze Country and Industry Sector"
      ],
      "metadata": {
        "id": "XHJWAbpiZFYz"
      }
    },
    {
      "cell_type": "code",
      "source": [
        "\n",
        "\n",
        "sns.countplot(x=\"Country\", data=df_health, hue='Industry Sector')\n",
        "#\tCountry 1 has the highest Mining industries compared to others. Also Mining industry has 56 % of accidents reported from the report. Thus no wonder if Country 1 has the highest number of incidents reported\n",
        "#\tCountry 3 has no Mining and Metal industries. Other industries have 11 % of accidents. Country 3 has 10 % of accidents from the reported ones."
      ],
      "metadata": {
        "colab": {
          "base_uri": "https://localhost:8080/"
        },
        "id": "w0iJfLCXZB_b",
        "outputId": "36b1a4c6-38fa-49b7-edeb-634dc9f99009"
      },
      "execution_count": 55,
      "outputs": [
        {
          "output_type": "execute_result",
          "data": {
            "text/plain": [
              "<matplotlib.axes._subplots.AxesSubplot at 0x7efbe73c01d0>"
            ]
          },
          "metadata": {},
          "execution_count": 55
        }
      ]
    },
    {
      "cell_type": "code",
      "source": [
        "sns.countplot(x=\"Country\", data=df_health,hue=\"Gender\")\n",
        "# In all the countries male workers are the most. Hence no wonder if the accidents are happening more for Males\n",
        "#\tCountry 3 does not have any female worker belonging to the given industries"
      ],
      "metadata": {
        "colab": {
          "base_uri": "https://localhost:8080/"
        },
        "id": "kpovks8aZKZQ",
        "outputId": "b10b7161-3b82-4bfb-d785-b5f2b7e613b8"
      },
      "execution_count": 56,
      "outputs": [
        {
          "output_type": "execute_result",
          "data": {
            "text/plain": [
              "<matplotlib.axes._subplots.AxesSubplot at 0x7efbe73c01d0>"
            ]
          },
          "metadata": {},
          "execution_count": 56
        }
      ]
    },
    {
      "cell_type": "markdown",
      "source": [
        "# Analyze Employee Type and Gender\n",
        "\n",
        "> Indented block\n",
        "\n"
      ],
      "metadata": {
        "id": "ZER_NqjIZQ9l"
      }
    },
    {
      "cell_type": "code",
      "source": [
        "sns.countplot(x=\"Employee Type\", data=df_health,hue=\"Gender\")\n",
        "#\tIn all the three employment categories there are more males and those are the most affected ones during these accidents"
      ],
      "metadata": {
        "colab": {
          "base_uri": "https://localhost:8080/"
        },
        "id": "piBxd3uKZN2d",
        "outputId": "b40f4453-0132-4f1b-8c24-d882ddce739d"
      },
      "execution_count": 57,
      "outputs": [
        {
          "output_type": "execute_result",
          "data": {
            "text/plain": [
              "<matplotlib.axes._subplots.AxesSubplot at 0x7efbe73c01d0>"
            ]
          },
          "metadata": {},
          "execution_count": 57
        }
      ]
    },
    {
      "cell_type": "markdown",
      "source": [
        "# Analyze the year , industry and more.."
      ],
      "metadata": {
        "id": "f_LhXZGlZWv3"
      }
    },
    {
      "cell_type": "code",
      "source": [
        "fig,axs = plt.subplots(nrows=2,ncols=2,figsize=(15,10))\n",
        "sns.countplot(x=df_health['Year'],hue='Industry Sector',data=df_health,ax=axs[0][0])\n",
        "sns.countplot(x=df_health['Year'],hue='Accident Level',data=df_health,ax=axs[0][1])\n",
        "sns.countplot(x=df_health['Industry Sector'],hue='Accident Level',data=df_health,ax=axs[1][0])\n",
        "sns.countplot(x=df_health['Accident Level'],hue='Industry Sector',data=df_health,ax=axs[1][1])"
      ],
      "metadata": {
        "colab": {
          "base_uri": "https://localhost:8080/"
        },
        "id": "K_b0PAPrZTxe",
        "outputId": "163d1b8a-95f3-4580-e661-bbb5ecf9279b"
      },
      "execution_count": 58,
      "outputs": [
        {
          "output_type": "execute_result",
          "data": {
            "text/plain": [
              "<matplotlib.axes._subplots.AxesSubplot at 0x7efbe6d13450>"
            ]
          },
          "metadata": {},
          "execution_count": 58
        }
      ]
    },
    {
      "cell_type": "code",
      "source": [
        "sns.pairplot(df_health,diag_kind='kde')"
      ],
      "metadata": {
        "colab": {
          "base_uri": "https://localhost:8080/"
        },
        "id": "sL8-0h5qpwem",
        "outputId": "15b4ac11-36f3-4ec1-af23-4054a5be5453"
      },
      "execution_count": 59,
      "outputs": [
        {
          "output_type": "execute_result",
          "data": {
            "text/plain": [
              "<seaborn.axisgrid.PairGrid at 0x7efbe6b2fc50>"
            ]
          },
          "metadata": {},
          "execution_count": 59
        }
      ]
    },
    {
      "cell_type": "markdown",
      "source": [
        "Observations:\n",
        "    1. From above pair plots,we can see that many columns are correlated among them, this leads to multi-collinearity and many columns have long tail so that is the indication of outliers. "
      ],
      "metadata": {
        "id": "XfD6nQ9cqHbj"
      }
    },
    {
      "cell_type": "code",
      "source": [
        "fig=plt.subplots(figsize=(20,10))\n",
        "sns.heatmap(df_health.corr(),annot=True,linewidth=0.2)"
      ],
      "metadata": {
        "colab": {
          "base_uri": "https://localhost:8080/"
        },
        "id": "W74YiNQVqoJO",
        "outputId": "25541cc9-ea6a-435c-f252-756f670e5173"
      },
      "execution_count": 60,
      "outputs": [
        {
          "output_type": "execute_result",
          "data": {
            "text/plain": [
              "<matplotlib.axes._subplots.AxesSubplot at 0x7efbe574ad90>"
            ]
          },
          "metadata": {},
          "execution_count": 60
        }
      ]
    },
    {
      "cell_type": "code",
      "source": [
        "corre_values_target=df_health.corr()['Potential Accident Level']\n",
        "pd.DataFrame(corre_values_target.sort_values(ascending=False))"
      ],
      "metadata": {
        "colab": {
          "base_uri": "https://localhost:8080/",
          "height": 269
        },
        "id": "3PmvQ1DKq9Jj",
        "outputId": "0c3c5b15-72bd-4a1c-f9f2-400869072714"
      },
      "execution_count": 61,
      "outputs": [
        {
          "output_type": "execute_result",
          "data": {
            "text/plain": [
              "                          Potential Accident Level\n",
              "Potential Accident Level                  1.000000\n",
              "Accident Level                            0.502704\n",
              "Day                                       0.005721\n",
              "Year                                     -0.004081\n",
              "WeekofYear                               -0.033401\n",
              "Month                                    -0.047853\n",
              "Local                                    -0.441603"
            ],
            "text/html": [
              "\n",
              "  <div id=\"df-4b062892-4dcc-4df4-a02a-76aea3740f5e\">\n",
              "    <div class=\"colab-df-container\">\n",
              "      <div>\n",
              "<style scoped>\n",
              "    .dataframe tbody tr th:only-of-type {\n",
              "        vertical-align: middle;\n",
              "    }\n",
              "\n",
              "    .dataframe tbody tr th {\n",
              "        vertical-align: top;\n",
              "    }\n",
              "\n",
              "    .dataframe thead th {\n",
              "        text-align: right;\n",
              "    }\n",
              "</style>\n",
              "<table border=\"1\" class=\"dataframe\">\n",
              "  <thead>\n",
              "    <tr style=\"text-align: right;\">\n",
              "      <th></th>\n",
              "      <th>Potential Accident Level</th>\n",
              "    </tr>\n",
              "  </thead>\n",
              "  <tbody>\n",
              "    <tr>\n",
              "      <th>Potential Accident Level</th>\n",
              "      <td>1.000000</td>\n",
              "    </tr>\n",
              "    <tr>\n",
              "      <th>Accident Level</th>\n",
              "      <td>0.502704</td>\n",
              "    </tr>\n",
              "    <tr>\n",
              "      <th>Day</th>\n",
              "      <td>0.005721</td>\n",
              "    </tr>\n",
              "    <tr>\n",
              "      <th>Year</th>\n",
              "      <td>-0.004081</td>\n",
              "    </tr>\n",
              "    <tr>\n",
              "      <th>WeekofYear</th>\n",
              "      <td>-0.033401</td>\n",
              "    </tr>\n",
              "    <tr>\n",
              "      <th>Month</th>\n",
              "      <td>-0.047853</td>\n",
              "    </tr>\n",
              "    <tr>\n",
              "      <th>Local</th>\n",
              "      <td>-0.441603</td>\n",
              "    </tr>\n",
              "  </tbody>\n",
              "</table>\n",
              "</div>\n",
              "      <button class=\"colab-df-convert\" onclick=\"convertToInteractive('df-4b062892-4dcc-4df4-a02a-76aea3740f5e')\"\n",
              "              title=\"Convert this dataframe to an interactive table.\"\n",
              "              style=\"display:none;\">\n",
              "        \n",
              "  <svg xmlns=\"http://www.w3.org/2000/svg\" height=\"24px\"viewBox=\"0 0 24 24\"\n",
              "       width=\"24px\">\n",
              "    <path d=\"M0 0h24v24H0V0z\" fill=\"none\"/>\n",
              "    <path d=\"M18.56 5.44l.94 2.06.94-2.06 2.06-.94-2.06-.94-.94-2.06-.94 2.06-2.06.94zm-11 1L8.5 8.5l.94-2.06 2.06-.94-2.06-.94L8.5 2.5l-.94 2.06-2.06.94zm10 10l.94 2.06.94-2.06 2.06-.94-2.06-.94-.94-2.06-.94 2.06-2.06.94z\"/><path d=\"M17.41 7.96l-1.37-1.37c-.4-.4-.92-.59-1.43-.59-.52 0-1.04.2-1.43.59L10.3 9.45l-7.72 7.72c-.78.78-.78 2.05 0 2.83L4 21.41c.39.39.9.59 1.41.59.51 0 1.02-.2 1.41-.59l7.78-7.78 2.81-2.81c.8-.78.8-2.07 0-2.86zM5.41 20L4 18.59l7.72-7.72 1.47 1.35L5.41 20z\"/>\n",
              "  </svg>\n",
              "      </button>\n",
              "      \n",
              "  <style>\n",
              "    .colab-df-container {\n",
              "      display:flex;\n",
              "      flex-wrap:wrap;\n",
              "      gap: 12px;\n",
              "    }\n",
              "\n",
              "    .colab-df-convert {\n",
              "      background-color: #E8F0FE;\n",
              "      border: none;\n",
              "      border-radius: 50%;\n",
              "      cursor: pointer;\n",
              "      display: none;\n",
              "      fill: #1967D2;\n",
              "      height: 32px;\n",
              "      padding: 0 0 0 0;\n",
              "      width: 32px;\n",
              "    }\n",
              "\n",
              "    .colab-df-convert:hover {\n",
              "      background-color: #E2EBFA;\n",
              "      box-shadow: 0px 1px 2px rgba(60, 64, 67, 0.3), 0px 1px 3px 1px rgba(60, 64, 67, 0.15);\n",
              "      fill: #174EA6;\n",
              "    }\n",
              "\n",
              "    [theme=dark] .colab-df-convert {\n",
              "      background-color: #3B4455;\n",
              "      fill: #D2E3FC;\n",
              "    }\n",
              "\n",
              "    [theme=dark] .colab-df-convert:hover {\n",
              "      background-color: #434B5C;\n",
              "      box-shadow: 0px 1px 3px 1px rgba(0, 0, 0, 0.15);\n",
              "      filter: drop-shadow(0px 1px 2px rgba(0, 0, 0, 0.3));\n",
              "      fill: #FFFFFF;\n",
              "    }\n",
              "  </style>\n",
              "\n",
              "      <script>\n",
              "        const buttonEl =\n",
              "          document.querySelector('#df-4b062892-4dcc-4df4-a02a-76aea3740f5e button.colab-df-convert');\n",
              "        buttonEl.style.display =\n",
              "          google.colab.kernel.accessAllowed ? 'block' : 'none';\n",
              "\n",
              "        async function convertToInteractive(key) {\n",
              "          const element = document.querySelector('#df-4b062892-4dcc-4df4-a02a-76aea3740f5e');\n",
              "          const dataTable =\n",
              "            await google.colab.kernel.invokeFunction('convertToInteractive',\n",
              "                                                     [key], {});\n",
              "          if (!dataTable) return;\n",
              "\n",
              "          const docLinkHtml = 'Like what you see? Visit the ' +\n",
              "            '<a target=\"_blank\" href=https://colab.research.google.com/notebooks/data_table.ipynb>data table notebook</a>'\n",
              "            + ' to learn more about interactive tables.';\n",
              "          element.innerHTML = '';\n",
              "          dataTable['output_type'] = 'display_data';\n",
              "          await google.colab.output.renderOutput(dataTable, element);\n",
              "          const docLink = document.createElement('div');\n",
              "          docLink.innerHTML = docLinkHtml;\n",
              "          element.appendChild(docLink);\n",
              "        }\n",
              "      </script>\n",
              "    </div>\n",
              "  </div>\n",
              "  "
            ]
          },
          "metadata": {},
          "execution_count": 61
        }
      ]
    },
    {
      "cell_type": "markdown",
      "source": [
        "# Analyze the description data"
      ],
      "metadata": {
        "id": "M_iAhDnbZe4J"
      }
    },
    {
      "cell_type": "code",
      "source": [
        "#Number of characters present in each description sentence\n",
        "\n",
        "df_health['Description'].str.len().hist()"
      ],
      "metadata": {
        "colab": {
          "base_uri": "https://localhost:8080/"
        },
        "id": "x2nCy8hJZa-2",
        "outputId": "a7e1e365-59d6-4094-f47b-bf0b7062f1d2"
      },
      "execution_count": 62,
      "outputs": [
        {
          "output_type": "execute_result",
          "data": {
            "text/plain": [
              "<matplotlib.axes._subplots.AxesSubplot at 0x7efbe574ad90>"
            ]
          },
          "metadata": {},
          "execution_count": 62
        }
      ]
    },
    {
      "cell_type": "markdown",
      "source": [
        "Average word length is as below"
      ],
      "metadata": {
        "id": "BnPQsVLsZrl_"
      }
    },
    {
      "cell_type": "code",
      "source": [
        "df_health['Description'].str.split().apply(lambda x : [len(i) for i in x]). \\\n",
        "   map(lambda x: np.mean(x)).hist()"
      ],
      "metadata": {
        "colab": {
          "base_uri": "https://localhost:8080/"
        },
        "id": "ccItcozbZoa6",
        "outputId": "8712d751-dfdc-4eb2-dcca-10f7a6a69a00"
      },
      "execution_count": 63,
      "outputs": [
        {
          "output_type": "execute_result",
          "data": {
            "text/plain": [
              "<matplotlib.axes._subplots.AxesSubplot at 0x7efbe574ad90>"
            ]
          },
          "metadata": {},
          "execution_count": 63
        }
      ]
    },
    {
      "cell_type": "markdown",
      "source": [
        "#Stop word analysis"
      ],
      "metadata": {
        "id": "uM_O3s0QZ0op"
      }
    },
    {
      "cell_type": "code",
      "source": [
        "import matplotlib.pyplot as plt\n",
        "import numpy as np\n",
        "import nltk\n",
        "from nltk.corpus import stopwords\n",
        "nltk.download('stopwords')\n",
        "def plot_top_stopwords_barchart(text):\n",
        "    \n",
        "    stop=set(stopwords.words('english'))\n",
        "    \n",
        "    new= text.str.split()\n",
        "    new=new.values.tolist()\n",
        "    corpus=[word for i in new for word in i]\n",
        "    from collections import defaultdict\n",
        "    dic=defaultdict(int)\n",
        "    for word in corpus:\n",
        "        if word in stop:\n",
        "            dic[word]+=1\n",
        "            \n",
        "    top=sorted(dic.items(), key=lambda x:x[1],reverse=True)[:10] \n",
        "    x,y=zip(*top)\n",
        "    plt.bar(x,y)"
      ],
      "metadata": {
        "colab": {
          "base_uri": "https://localhost:8080/"
        },
        "id": "gCJ9Mtq8ZvF-",
        "outputId": "0e18ab65-8fdb-439a-81ee-0b6c9deacf89"
      },
      "execution_count": 64,
      "outputs": [
        {
          "output_type": "stream",
          "name": "stdout",
          "text": [
            "[nltk_data] Downloading package stopwords to /root/nltk_data...\n",
            "[nltk_data]   Unzipping corpora/stopwords.zip.\n"
          ]
        }
      ]
    },
    {
      "cell_type": "code",
      "source": [
        "plot_top_stopwords_barchart(df_health['Description'])  "
      ],
      "metadata": {
        "id": "P2JU7u8ZZ5o0"
      },
      "execution_count": 65,
      "outputs": []
    },
    {
      "cell_type": "code",
      "source": [
        "import re\n",
        "\n",
        "import nltk\n",
        "\n",
        "from nltk.corpus import stopwords\n",
        "from nltk.stem.porter import PorterStemmer\n",
        "from nltk.stem import WordNetLemmatizer \n",
        "from wordcloud import WordCloud, STOPWORDS\n"
      ],
      "metadata": {
        "id": "yGpvkaYSuxQ_"
      },
      "execution_count": 66,
      "outputs": []
    },
    {
      "cell_type": "code",
      "source": [
        "nltk.download('punkt')\n",
        "nltk.download('stopwords')\n",
        "nltk.download('wordnet')"
      ],
      "metadata": {
        "colab": {
          "base_uri": "https://localhost:8080/"
        },
        "id": "8rtTZ_OlwJv5",
        "outputId": "e5d05b3f-020a-49ae-be2d-826936477708"
      },
      "execution_count": 67,
      "outputs": [
        {
          "output_type": "stream",
          "name": "stdout",
          "text": [
            "[nltk_data] Downloading package punkt to /root/nltk_data...\n",
            "[nltk_data]   Unzipping tokenizers/punkt.zip.\n",
            "[nltk_data] Downloading package stopwords to /root/nltk_data...\n",
            "[nltk_data]   Package stopwords is already up-to-date!\n",
            "[nltk_data] Downloading package wordnet to /root/nltk_data...\n",
            "[nltk_data]   Unzipping corpora/wordnet.zip.\n"
          ]
        },
        {
          "output_type": "execute_result",
          "data": {
            "text/plain": [
              "True"
            ]
          },
          "metadata": {},
          "execution_count": 67
        }
      ]
    },
    {
      "cell_type": "code",
      "source": [
        "df_health['Description'][0]"
      ],
      "metadata": {
        "colab": {
          "base_uri": "https://localhost:8080/",
          "height": 72
        },
        "id": "NXNqZtpJvd1r",
        "outputId": "dfcbaaba-7f32-4abc-e5ad-12ae635c98d9"
      },
      "execution_count": 68,
      "outputs": [
        {
          "output_type": "execute_result",
          "data": {
            "text/plain": [
              "'While removing the drill rod of the Jumbo 08 for maintenance, the supervisor proceeds to loosen the support of the intermediate centralizer to facilitate the removal, seeing this the mechanic supports one end on the drill of the equipment to pull with both hands the bar and accelerate the removal from this, at this moment the bar slides from its point of support and tightens the fingers of the mechanic between the drilling bar and the beam of the jumbo.'"
            ],
            "application/vnd.google.colaboratory.intrinsic+json": {
              "type": "string"
            }
          },
          "metadata": {},
          "execution_count": 68
        }
      ]
    },
    {
      "cell_type": "code",
      "source": [
        "#Removing of stopwords and stemming\n",
        "\n",
        "ps = PorterStemmer()\n",
        "sentences = df_health['Description']\n",
        "corpus = []\n",
        "for i in range(len(sentences)):\n",
        "    sentences_1 = nltk.sent_tokenize(sentences[i])\n",
        "\n",
        "   #words =  [nltk.word_tokenize(sentence) for sentence in sentences_1]\n",
        "    # Preprocessing the data\n",
        "    review = re.sub(r'\\[[0-9]*\\]',' ',sentences[i])\n",
        "    review = re.sub('[^a-zA-Z]', ' ', review)\n",
        "\n",
        "    review = re.sub(r'\\s+',' ',review)\n",
        "    review = review.lower()\n",
        "    review = re.sub(r'\\d',' ',review)\n",
        "    review = re.sub(r'\\s+',' ',review)\n",
        "    review = review.split()\n",
        "\n",
        "    \n",
        "    review = [ps.stem(word) for word in review if not word in set(stopwords.words('english'))]\n",
        "    review = ' '.join(review)\n",
        "    corpus.append(review)\n",
        "\n"
      ],
      "metadata": {
        "id": "W55jc5uWuwsn"
      },
      "execution_count": 69,
      "outputs": []
    },
    {
      "cell_type": "code",
      "source": [
        "print(corpus[0])\n",
        "#Look at stemming words e.g remov , mainten , proce etc are not making sense in this use case. Since this is chat bot application , we need more semantical  words"
      ],
      "metadata": {
        "colab": {
          "base_uri": "https://localhost:8080/"
        },
        "id": "V8WjYn1zxYBU",
        "outputId": "e3ddd4a4-100d-4cca-d53b-70a4d178d716"
      },
      "execution_count": 70,
      "outputs": [
        {
          "output_type": "stream",
          "name": "stdout",
          "text": [
            "remov drill rod jumbo mainten supervisor proce loosen support intermedi central facilit remov see mechan support one end drill equip pull hand bar acceler remov moment bar slide point support tighten finger mechan drill bar beam jumbo\n"
          ]
        }
      ]
    },
    {
      "cell_type": "code",
      "source": [
        "#Removing of stopwords and lemmatization\n",
        "\n",
        "ps = PorterStemmer()\n",
        "wordnet=WordNetLemmatizer()\n",
        "sentences = df_health['Description']\n",
        "corpus = []\n",
        "for i in range(len(sentences)):\n",
        "    # Preprocessing the data\n",
        "    review = re.sub(r'\\[[0-9]*\\]',' ',sentences[i])\n",
        "    review = re.sub('[^a-zA-Z]', ' ', review)\n",
        "\n",
        "    review = re.sub(r'\\s+',' ',review)\n",
        "    review = review.lower()\n",
        "    review = re.sub(r'\\d',' ',review)\n",
        "    review = re.sub(r'\\s+',' ',review)\n",
        "    review = review.split()\n",
        "\n",
        "    review = [wordnet.lemmatize(word) for word in review if not word in set(stopwords.words('english'))]\n",
        "    review = ' '.join(review)\n",
        "    corpus.append(review)\n",
        "\n",
        "# To reconsider not removing few key stopewords e.g. Not , in etc.\n",
        "\n",
        "wordcloud = WordCloud(\n",
        "        background_color='white',\n",
        "        stopwords=set(STOPWORDS),\n",
        "        max_words=100,\n",
        "        max_font_size=30, \n",
        "        scale=3,\n",
        "        random_state=1)\n",
        "    \n",
        "wordcloud=wordcloud.generate(str(corpus))\n",
        "\n",
        "fig = plt.figure(1, figsize=(12, 12))\n",
        "plt.axis('off')\n",
        " \n",
        "plt.imshow(wordcloud)\n",
        "plt.show()"
      ],
      "metadata": {
        "id": "cF-nb1AcxuDg"
      },
      "execution_count": 71,
      "outputs": []
    },
    {
      "cell_type": "code",
      "source": [
        "print(corpus)\n",
        "#Look at lemmatized words e.g removing , maintenance , proceeds  etc are  making more sense now compared to stemming example above."
      ],
      "metadata": {
        "colab": {
          "base_uri": "https://localhost:8080/"
        },
        "id": "Cqvm2wzux-84",
        "outputId": "f238c248-5cd6-45db-9ad1-8d8614b2bab4"
      },
      "execution_count": 72,
      "outputs": [
        {
          "output_type": "stream",
          "name": "stdout",
          "text": [
            "['removing drill rod jumbo maintenance supervisor proceeds loosen support intermediate centralizer facilitate removal seeing mechanic support one end drill equipment pull hand bar accelerate removal moment bar slide point support tightens finger mechanic drilling bar beam jumbo', 'activation sodium sulphide pump piping uncoupled sulfide solution designed area reach maid immediately made use emergency shower directed ambulatory doctor later hospital note sulphide solution gram liter', 'sub station milpo located level collaborator excavation work pick hand tool hitting rock flat part beak bounce hitting steel tip safety shoe metatarsal area left foot collaborator causing injury', 'approximately nv cx ob personnel begin task unlocking soquet bolt bhb machine penultimate bolt identified hexagonal head worn proceeding mr crist bal auxiliary assistant climb platform exert pressure hand dado key prevent coming bolt moment two collaborator rotate lever anti clockwise direction leaving key bolt hitting palm left hand causing injury', 'approximately circumstance mechanic anthony group leader eduardo eric fern ndez injured three company impromec performed removal pulley motor pump zaf marcy cm length cm weight kg locked proceed heating pulley loosen come fall distance meter high hit instep right foot worker causing injury described', 'unloading operation ustulado bag need unclog discharge mouth silo truck performing procedure maneuver unhooking hose without total depressurisation mouth projecting ustulado powder collaborator caused irritation eye', 'collaborator report street holding left hand volumetric balloon slipped placing hand ground volumetric balloon ended breaking caused small wound left hand', 'approximately p mechanic technician jos tecnomin verified transmission belt hm pump acid plant proceeded turn pulley manually unexpectedly instant electrician supervisor miguel eka mining grab transmission belt verify tension point finger trap', 'employee sitting resting area level raise bore suffered sudden illness falling suffering excoriation face', 'moment forklift operator went manipulate big bag bioxide section front ladder lead area manual displacement splashed spent height forehead fissure pipe g subsequently spilling left eye collaborator went nearby eyewash cleaning immediately medical center', 'installing segment polyurethane pulley protective lyner x x cm weighing kg head pulley ore winch pulley rotated compress lyner inside channel fall housing rubbing right side worker hip generating injury described', 'preparing rice lunch day moving pot kg weight including content evacuate residual water cooking rice positioning pot jaba tilt backwards spilling ml hot water cook leg cook immediately event applies first aid pouring cold water area injury go medical post evaluation', 'collaborator report working ustulaci n realized cyclone duct obstructed opened door try unclog material detached projected towards employee causing small burn right heel', 'moment operator jumbo tried energize equipment proceed installation split set intersection nv remove lock opening electric board v lifting thermomagnetic key make phase ground phase contact panel shell producing flash reach operator causing injury described', 'due accumulation waelz conveyor trailer filter fi employee performed cleaning shutter using air lance surprised fall product door passing neck collar aramid jacket causing burn neck shoulder', 'employee working thermal shock caused splash zinc direction employee despite using indicated ppe hit small spatter passed facila hood small burn face region', 'rp level circumstance worker company performing task diamond drilling assistant jhonatan injured nilton preparing increase hq perforation pipe located scaffolding mr jhonatan lift one end tube support pulley equipment frame end working scaffolding moment mr nilton lift end hq pipe scaffolding position frame upper part pipe come pulley falling striking right hand worker jhonatan bolt lateral part frame causing injury described', 'due overheating bar row cell spark produced projected manages reach chief guard corridor producing first degree burn neck', 'auxiliary wheel cathode crane g changed area bearing heated hit hammer chisel one end bearing track detachment bearing piece occurred impacting thigh right leg producing cut ambulance called transferred clinic', 'worker manuel making disconnection power cable gate intersection manco street cajamarquilla order remove circumstance mr jos worker company removing rope tied body gate yield fall pulling warning post hit helmet mr standing side', 'operator samuel open container subsequent loading silver concentrate opened first gate afterwards try open second door product opening latter first one open impact handle safety lens generates injury left cheekbone face operator', 'raise chamber operator assistant removed drilling bar r drilling machine weight approx kg holding top tm stroke assisted jib move horizontally operator jib bottom slide moving top drill bar causing assistant bar enforce assistant hand bar piston equipment', 'aligning right bracket tower n releasing tension applied tirford tn pushing lever towards tension release point return mechanical effect overcoming resistance lineman operator reshaping hand assistant beating assistant frontal region', 'loosening truck steering cylinder bolt using power cable socket force exerted favor equipment bolt suddenly retired employee hit hand structure equipment causing injury', 'operator g deslaminadora section unlocking sheet zinc stuck enter slide stacking table requires support mr mollares help hold sheet place entry chute slide moment releasing blade tilted brushed mr mollares left leg collaborator went nearby eyewash cleaning immediately medical center', 'operator willing manually displace zinc sheet adhered aluminum cathode moment blade detached blade released cathode bending grazing collaborator right hand producing small cut knuckle finger worker made use glove leather worker transferred medical unit first aid', 'end lunch enabled place side winche control room get short walk slip sits floor making contact left knee taking importance rest guard guard finished go safety communicates fact reason derived natclar attention', 'end rock break intersection ramp opening access ventilation chimney master loader identifies rock mesh proceeding unload end decides verify still remains positioning line fire time fragment rock fall x x cm gr cocada mesh impacting lens helmet causing injury', 'worker carried work level stop placed metal mesh basket soil half scissor mesh fall hit back right hand', 'using griff wrench unscrew rod probe key came move pressing employee finger probe', 'plant operator semi kneeling lifting lid gate kg distributor box secondary mill right knee slip due presence debris spilled platform floor grating gave extra effort left leg generating muscle contracture', 'level access time engineer trainee planamieto entered verify amount split set placed scissor support holding notebook pen left hand inspecting roof work lost balance stepping rock holding right hand rock floor causing injury worker time accident wore glove use made difficult take note', 'worker yaranga working barretilla stop level unloading metal mesh basket ampoloader operator juan barretilla embedded safety boot reacting immediately worker removing limb force managing release foot producing wound right foot', 'approximately p circumstance shotcrete launched nv bp ob b finishing launch first mixkret assistant alpha mr albertico asks operator mixkret mr jhony move mixkret access finding cockpit mixkret operator launcher team mr danon asks come team started noticed mr danon injured imprisoned team height left rear rim hastial de la labor', 'employee clearing pipe tapped right thumb flange causing little trauma', 'replacing telescopic expansion joint hdpe pipe storm drainage pumping system report piece involuntarily moved positioned holder pressing finger holder causing wound right chemo', 'withdrawal kelly bar conductive bar kg length cm diameter equipment perforation part two worker one positioned low part tie bar injured one position upper part hold bar positioning bar platform lose control bar moving cm nd finger right hand pulley frame time accident worker wearing safety glove drill rig blocked', 'starting activity removing coil electric cable warehouse help forklift truck operator notice beehive due movement coil bee excited realizing fact operator turned equipment left area people passing stung', 'starting activity removing coil electric cable warehouse help forklift truck operator notice beehive due movement coil bee excited realizing fact operator turned equipment left area people passing stung', 'pre use inspection jumbo check list equipment operator equipment find behind seat plastic bottle filled liquid apparently mineral water without label labeling take bottle take small sip liquid expelling immediately noticing water immediately proceeds wash enough water transferred medical center attention liquid contact esengrasante product equipment machinery low toxicity', 'maintenance flyght pump rotor oil pressure lubrication chamber caused chamber cover projected towards employee face striking superficially forehead causing injury', 'approx leakage sulfur dioxide section due water seal blowing due overpressure acid plant moment collaborator cormei company eissa cosapi work near impacted area evacuated medical center care returned usual work', 'performing cutting mesh protruding gable work assistant loader positioned mt floor using portable ladder held base master loader time loader assistant loses balance falling held mesh hand hanging mt floor causing injury', 'operator center demag iv performing maintenance transporting hydraulic cylinder help another operator official unbalanced coming cylinder carried press finger left thumb pillar support oven specified figure', 'start neutral leaching process employee jhonatan proceeds open air valve tank airlift circumstance process solution return chimney solution coming contact arm right foot', 'time two assistant carrying bag cement weighing kg lamp loader suspended cm floor left foot one assistant slid hit edge baton', 'operator cleaned spatula spear one window boiler time force action hit window frame causing injury little finger left hand operator epp boiler cleaning', 'locomotive operated maperu personnel directed wagon loaded ore op waste bin next waste bin patrol car go back wagon moment passed change track left rear wheel patrol car leaf rail advancing locomotive leaving patrol car tilted ahead assistant motorist traveled alone patrol car remained inside structure suffered minor bruise', 'pit level radial drilling performed negative hole simba c ith equipment assistant equipment operator made change drill bit metal bar hammer released coupling rotation unit abruptly withdrawing hand hit back right hand team structure time accident team paid', 'time worker another partner preparing move oil cylinder gallon mobile platform mounted rail platform weighing approximately kg derailed leaf rail order place platform rail worker lift platform instant right hand one trapped rail platform structure held metallic tube protruding platform accident caused bruised wound index finger right hand fracture time accident wore leather type safety glove', 'operator feeding bag big bag containing scrap zn sheet lifting loaded bag released hook hoist making abrupt contact liquid zinc furnace generating explosion causing operator hit liquid zinc', 'circumstance two worker company incimmet made loading explosive using equipment anfoloader front work sustained shotcreterepentinamente right superior part crown piece rock approx kg mx mx impacting basket back helper basket suspended height moment later block rock detached wall gable approx kg mx mx impact ampoloader team part block injures operator ampoloader team standing ground equipment anfoloader cabin protection rops fop time accident worker used helmet safety boot suffered polyontusions minor scoria injury', 'circumstance two worker company incimmet fectuaban loading explosive using equipment anfoloader front work sustained shotcreterepentinamente right superior part crown piece rock approx kg mx mx impacting basket back helper basket suspended height moment later block rock detached wall gable approx kg mx mx impact ampoloader team part block injures operator ampoloader team standing ground equipment anfoloader cabin protection rops fop time accident worker used helmet safety boot suffered polyontusions minor scoria injury', 'mechanic assistant throwing wooden block support stabilizer hiab crane truck ground descending truck access ladder arriving last step jump towards ground height cm treading edge one wooden block cause injury left ankle', 'manually moving steel cabinet disposal help another employee operator finger pressed wall cabinet causing injury', 'discharge waste operator proceeds remove bag hose rolled circumstance one end hose move direction face driver projecting liquid contained impacting ear part face', 'circumstance operator going level level noticed hydraulic pump inspection cover x x kg approx fall stopped equipment activates cat climb upper part equipment moment accommodated cover slide middle finger causing injury', 'installing ripper pin tractor n ripper support arm slide pressing second third finger right hand base ripper causing injury described', 'employee report lowered cloth purification arranged cart would grab pipe pressing left hand cloth cart', 'end loading explosive work front master loader enters verify mooring blasting accessory retiring top hears sound fragment rock rolling support mesh directs gaze towards crown vertical form point small fragment rock x x cm gr pass opening mesh sustaining impact forehead time event collaborator used helmet safety lens front support top sacrifice mesh opening support mesh x', 'employee performing adjustment tightening operation cutter blade worked neglected key slip causing blade equipment hit causing blunt cut right forearm', 'approximately circumstance messrs truck crane william de la cruz culminated shipment block metal plate approximate weight kg mr william de cross rigger climb onto truck remove sling place foot stretcher supported metal plate moment central part stretcher broken result two foot imprisoned producing injury', 'placement last support mesh cloth work moment ground injured collaborator reached electrowelded mesh operator scissor bolter positioned basket pressing mesh one protruding end mesh cross leather glove causing injury right hand', 'employee checked acid leakage shipping area hit splash solution right hemiface', 'employee clearing liquid zinc pump oven stepped platform became unbalanced twist left foot', 'employee transiting toward cadmium factory near tank copper sulphate acid solution spilled direction reaching leg causing minor burn', 'carrying activity cutting electrowelded mesh work front assistant position foot one end mesh leaving end free moment assistant bend make cut shear end free mesh return inertia hitting partner safety lens', 'refurbishment work hdpe pipe diameter two worker worker secured pipe chain standing basket ampoloader raised height ground pipe slipped impacted arm right causing injury radius right arm', 'circumstance dump truck laden ore entered unload backwards curve upper part via la laquia operator notice unevenness road approximately one meter approaching edge overturning truck right side operator traveled alone truck made use safety belt helmet glass time accident unloading process two square accident site test alcohotest operator negative', 'approximately pm level cx bp circumstance worker company rock performed anchorage central pin anchoring drilling machine diamantina xrd bob cat assistant cristian injured made adjustment nut central bolt stilson key simultaneously jose control panel made movement rotation unit positioning clamp pin moment frame slid pressing thumb assistant left hand stilson key causing described injury due lack securing frame fixing bolt', 'carried mechanized support scissor heavy equipment operator pick water supply hose towards drum equipment heading towards cabin scissor way piece rock cm high approx displaces sliding right foot causing injury described', 'approximately h supervising line clamping pom roy canario returning thickener hit nose metal chute operation', 'employee performing truck unloading operation iron bundle pressed right finger injured left arm', 'loading two blown hole previous blasting use telescopic ladder master loader pull ladder detaching upper support point mt height fragment rock cm x cm x cm gr projected right end ladder hitting master loader cheekbone upper lip producing lesion described master shipper used safety glass', 'plant stop scheduled maintenance almost end change fitting hdp pipe diameter resident enters work zone bottom supervise work moment four worker anchored harness upper part manipulating accessory tie flange hdp pipe pvc diameter suddenly pvc pipe come support pipe fine material tailing weight kg fall height meter floor bounce imprisons resident engineer injured worker lower part line fire', 'parking equipment dumper maintenance workshop mechanic asks operator back equipment washing operator start reverse gear cab door fully open upon reaching washing area meter behind brake cabin door close untimely hit face causing minor injury area mechanic floor level safe place', 'circumstance two worker abratech company putty work inside conditioning tank meter deep covered platform metal grating grating upper part two employee hyt company carried maneuver transfer pump help manual tick worked hooked beam h dragging pump metal grating grating suddenly pump hooked metal grate grating trying release metal grid grating kg cm x cm fall inside tank hit diagonal channel inside tank impact right arm one worker rub helmet second worker crouching area bomb moved marked tape lookout', 'circumstance two worker abratech company putty work inside conditioning tank meter deep covered platform metal grating grating upper part two employee hyt company carried maneuver transfer pump help manual tick worked hooked beam h dragging pump metal grating grating suddenly pump hooked metal grate grating trying release metal grid grating kg cm x cm fall inside tank hit diagonal channel inside tank impact right arm one worker rub helmet second worker crouching area bomb moved marked tape lookout', 'accessing santa novo area order open chop general moving ahead team order open access manetometer came across area steep slope gravel presence certain place access employee slipped coming become unbalanced moment machete left hand came slip right leg knee causing cut cm', 'performing sleeve removal maneuver hole meter deep general da silva pressed one side locking nut rod together jack hold entire weight rod maneuver locking procedure effective weight rod secured steel wire rope probe winch moment driller pedro released brake winch inefficacy locking done one side chestnut without aid monkey caused sliding rod auxiliary prepared manual unlocking rod holding faucet key firmly probe tower composition shifted stem slid hand shifted downward causing left hand strike base probe tower structure causing cut th th quirodactyl employee taken hospital went medical care wound sutured stitch removed day activity', 'trip vehicle end work collaborator rhainer stepped object could identify thus coming pierce sole boot causing small hole sole left foot collaborator perforation possibly due stump wood since area covered collaborator pasture grazed recently near residence', 'workshop level box two mechanic manipulated steel plate cm x cm x cm kg place gutter workshop able remove scaler plate slide restricts right ring finger gable plate causing injury collaborator used glove time accident', 'open suction valve bo acid pump cable pump come loose pressing th finger employee left hand tubing causing fracture distal phalanx photo', 'worker carried disassembly scaffolding body pulpomatic thickener dismantling base scaffold located approximately one meter high floor sump rivet anchor support platform broken causing fall worker impacting right knee support anchored one horizontal scaffolding structure', 'employee report handling air conditioning pressed nd right chirodactilo causing contusion', 'parking van next cluster wooden sleeper board driver descending stepped board iron nail protruded long identify board submerged puddle water accident caused minor wound sole left foot time accident worker wearing safety boot', 'maintenance locomotive n workshop level assistant pulling locomotive chair backwards stumble ventilation grille falling platform locomotive floor workshop height generating injury time accident assistant used safety helmet chin strap', 'rb machine lifted weight tn cm floor level accidently proceeds pull rb machine key ton maximum cap lay floor advancing cm horizontally anchor bolt pig tail type diameter key hooked break transversely pulling force key projected onto injured person left shoulder causing injury injured meter key time incident assistant meter away order cleaning', 'positioning scissor bolter n east stope meter top operator assistant verify ventilation sleeve obstruct support left gable decide section sleeve direct towards main corridor injured person decides climb roof equipment cabin surface square meter carry reinstallation sectioned sleeve without noticing step empty fall equipment height meter time accident operator scissor bolter platform equipment positioned blocked perform maintenance assistant wearing safety helmet chin strap', 'cleaning vertical pipe using hydrojet equipment high pressure hose hose returned due obstruction pipe residue reaching operator actuating equipment pedal', 'bypass level worker company incimet raul operator bolter bolting team rolando assistant retired installing support helical bolt pink team mesh overhanging gable teacher tell assistant cut mesh instant assistant finished cutting mesh suddenly rise hitting face causing injury described', 'approximately luna master loader company incimet carrying loading activity front cruiser level moment tying pentacord crown trying reach fanel left side loses balance movement ladder fall floor resulting accident', 'moment worker mechanic workshop maintenance wire mining lamp hooked drill hole kg work table workshop fell impacted left foot causing minor bruise time accident collaborator used safety boot steel toecap', 'general store two store attendant removed compartment rubber mesh material classification x x kg weight lifted approx cm position edge another mesh placed floor litter slightly imprisons index finger right hand one assistant causing minor cutting wound time accident injured worker used leather glove', 'employee report attempting manually ingot zinco rotary table l ingot hit left hand angle structure ingot pressing finger ingot angle', 'moving roll electro welded mesh kg weight place hopper truck two operator pull roll mesh bring hopper truck time imprisonment left hand one operator mesh body hopper generating described injury time accident operator wearing pvc type safety glove', 'performing cleaning lhd block f level operator surprised rock block displacement side gallery reaching right leg causing superficial injury', 'workshop end welding work small bolter equipment welder proceeds clean inside metal stool impregnated thinner flammable liquid help hammer screwdriver proceeds remove oxide hitting screwdriver hammer produce flash internal base stool produce slight burn right hand welder time accident welder us glove left hand', 'pm approximately nv ob cx mr cesar operator mine service instant picking cat position one truck crane plate acl raising right hand lower part cat indexed index finger left hand body cylinder valve cat valve turntable upper part', 'employee report placed air lance tank opened manual air valve projection acid solution heated toward reaching front left thigh', 'injured woman performed cleaning cleaning sink collection room pierced finger fragment glass', 'discharging sodium hydroxide disconnecting hose employee placed next demineralization suction pump turned receiving projection pump sensor causing st degree burn', 'mr jesus operator concrete throwing team alpha n shooting shotcrete cx work nv ob applying realizes additive come mix directing lift cover passage valve cm x cm inch thickness approximately kg verifying valve open release lid hit third finger left hand base causing injury', 'employee performed return load entrance debarking machine trying align cathode pressed right hand', 'injured worker begin work presenting support mesh cloth floor making initial cut mesh section x poncho originating remaining mesh wick tip prong protruding trying make second mesh cut positioned edge remaining mesh wick prevent curling point try take shear remove right foot mesh causing mesh roll embed wick tip pole left boot causing injury time accident worker wearing safety boot', 'ddh chamber company explomin located level socorro ramp worker assistant driller dismantling fifth drill rod nq meter steel weight kg using stilson key moment operator operates rotation unit drill rod rotates pressing left hand worker base rod holder causing injury left hand time accident drilling assistant used rubber glove', 'carrying maneuver increase hq pipe line driller wilder indicates assistant gilton introduce inner pipe drill assistant introduces inner pipe place hand box pipe driller without noticing move pipe assistant hand open chuck rotation unit dropping pipe imprisoning injured person right hand causing injury', 'employee report climbing access ladder operating room ustulation surprised projection sulfuric acid', 'performing geological mapping activity necessary hammer rock analysis moment clerk held pointed fragment slipped third quirodactyl right hand causing superficial cut', 'p approximately nv cx mr kevin helper jumbo removed drill rod drilling hole instant break chain subjection table drilling machine sliding achieving rubbing index finger left hand causing injury', 'approximately nv cx mr francisco operator scoop observes polyethylene pipe thrown road proceeding lower equipment found lifting pipe hook right gable piece rock suspended lectro welded mesh impacting operator right eyebrow causing injury', 'conducting inspection evaluate activity carried pump house ustulation steam station hit sulfuric acid spill line located pump house thermal recovery boiler', 'conducting inspection evaluate activity carried pump house ustulation steam station struck sulfuric acid spill line located house thermal recovery boiler pump', 'employee sanding piece electrolysis end operation protective cap disk spun back left hand', 'die cutting feeder pead geomembrane blanket weld seam store extruder stylet blade came direction left forearm resulting blunt short injury', 'welding workshop level ex tunnel quinoa moment assistant raised wooden strut long x diameter kg weight place work table height tread another wooden strut placed floor losing balance falling level lying laterally concrete wall causing bruise left shoulder', 'sunday collaborator go medical center saying accident day ago performed internal maintenance work heat exchanger defined confined space risk burning acid leaving confined space employee remove protective glove without passed emergency shower moment skin contact occurs sulfate generating lesion', 'moment truck transport personnel company mceisa plate ajg moved nv surface missing reach mouth nv gearbox respond driver stop truck inspect along maintenance personnel time traveling truck raise cabin manually put change first continue trip culminated task driver support maintenance personnel lower cabin due weight fall hitting driver cabin hopper truck time accident employee wearing safety helmet chin strap', 'completing welding work backhoe bucket made hour used glass moon welder feel slight discomfort eye transferred medical service evaluation accident welder used facial mask welding', 'employee milpo lima visited facility level waiting personnel cage go level drop water fall ceiling height meter approximately product slight filtration crown sustained shotcrete drop enters right eye causing discomfort right eye according employee time accident lens removed clean happened visit interior mine', 'el porvenir sub station level assembling metal structure approximately kg support lifting system three operator try accommodate structure anchor base moment metallic structure slide direction injured worker right hand producing slight right hand accretion head bolt base structure causing injury time accident operator made use safety glove', 'employee performing carbon steel pipe marking activity helmet struck tube causing scalp wound due impact helmet sheepskin', 'maintenance lx p b pump projection silicate pulp reaching right leg employee', 'circumstance collaborator juveni performed washing tabolas pot washing area suffers feeling dizziness faintness causing fall level producing slight concussion head', 'transit fuel tanker level level north ramp passing level operator feel right rear tire skid operator performs defensive maneuver truck hit left gable causing injury described time accident pilot co pilot wearing safety belt safety glass helmet', 'field trip return work lunch employee wellfield company slipped loose stone place moment intention balancing tried hold onto tree falling right arm causing fracture distal end radius activity paralyzed employee referred hospital paracatu underwent medical care', 'approximately workshop mechanical maintenance surface mr orlando boltec assistant mr macedonio made cut link shorten distance chain hold injection hose resin instant saw blade leaf cutting position affecting second finger left hand causing injury', 'test soft starter engine belt collaborator igor move around site approximately pm fall trench electric cable deep found partially discovered', 'checking voltage power outlet plug socket make sure connection correct small electrical arc power cord causing slight burn right hand wrist protection system acted immediately', 'ground team coordinated prospector assistant da silva wila p prong opening access collect soil sample auxiliar came across tried divert meter right place moment diversion came across marimbondo house front giving time action since thug already agitated da silva time sting head another behind neck sting face since allergy test verified allergic reaction washed affected part returned normal activity', 'geological reconnaissance activity farm mr l zaro team composed felipe divino de morais normal activity encountered ciliary forest needed enter forest verify rock outcrop front divine realized opening access machete moment took bite neck attack allergic reaction continued work normally work completed leaving forest access divine assistant attacked snake suffered sting forehead moment moved away area verified type allergic reaction returned normal activity', 'geological reconnaissance activity farm mr l zaro team composed felipe divino de morais normal activity encountered ciliary forest needed enter forest verify rock outcrop front divine realized opening access machete moment took bite neck attack allergic reaction continued work normally work completed leaving forest access divine assistant attacked snake suffered sting forehead moment moved away area verified type allergic reaction returned normal activity', 'clerk peeling pulling sheet came another one struck th chirodactile left hand tearing pvc sleeve caused cut', 'process washing material becker tip material broken caused cut th finger right hand', 'circumstance collaborator performed cleaning ditch cm deep removing pipe hdpe material estimated weight kg together two collaborator pushing tube drain dune collaborator hit lower right side lip producing slight blow lip time event collaborator safety helmet glass glove', 'p approximately nv tecnomin winery mr chagua bodeguero alone cutting wire grinder previously removed protection guard disk inch diameter adapted disk crosscutter approximately inch originating traumatic amputation two finger left hand', 'field trip lt lajes target junior da costa official stepped wooden stump ground approximately cm pierced boot wounding sole right foot time accident employee using ppe required activity hand free employee taken hospital went medical care released return activity next day work', 'level ore hauling activity locomotive op bine time convoy traveling hopper op assistant motorist riding saddle holding pole struck weakly split set suspended hdp pipeline gable work meter floor time accident assistant wearing safety equipment wearing seatbelt time accident split set accompanied movement path convoy', 'employee work electrician management electrometallurgy suffers contusion right leg suffering slip height step staircase code ele abb furnace cat ladder immediately referred collaborator medical service treated', 'time worker technician mr orlando boltec cia wanted pas hand stacker sardinel technician pulled hydraulic arm mr pushing nail equipment reaching trench rim tied team turn forward falling technician', 'circumstance employee made connection electric cable jumbo operator feel discomfort face cleaning hand using rubber glove generating superficial laceration small wound left cheekbone', 'phase iii concentrator plant maintenance personnel carried removal transmission belt flotation cell pb cleaning moment mechanic removed belt lean left leg slide towards grating floor leaving foot two pipe generating lesion described work carried floor level time accident staff put safety equipment', 'approximately p operator eustaquio fall metal platform give access tank strong acid leaching stage suffers luxo fracture wrist left leaning floor hand operator directed first tank strong acid leaching stage tk verify entry spent taque', 'project vazante carried sediment collection current south mata target drainage serra garrote team composed member wca company r leandro jehov nio moving one collection point another inside shallow drainage saw bee carton reaction move away box quickly possible avoid sting ran meter looking safe area exit radius attack bee breno attacked consequently suffered sting belly jehovah hand verified type allergic reaction returned normal activity', 'project vazante carried sediment collection current south mata target drainage serra garrote team composed member wca company r leandro jehov nio moving one collection point another inside shallow drainage saw bee carton reaction move away box quickly possible avoid sting ran meter looking safe area exit radius attack bee breno attacked consequently suffered sting belly jehovah hand verified type allergic reaction returned normal activity', 'employee report working brushcutters near stone blade equipment collided piece metal projected toward leg causing injury left leg', 'mooring faneles detonating cord completed injured person proceeds tie detonating cord safety guide slow wick distance meter top work moment finish mooring rock bank cm x cm x cm kg front height meter fall floor close injured disintegrates several fragment one cmx cmx cm kg slide fragment rock impact left leg victim time accident operator used safety boot accompanied supervisor', 'activity construction wall stopper mortar block improve ventilation intermediate zone moment bricklayer assistant preparing complete construction high wall part wall block kg per block fall towards scaffold mason assistant jump towards accumulation sand located one side avoid hit block fall injury described occurs time accident mason assistant jump height floor work used personal safety equipment reduced impact fall', 'geologo auxiliary elismar traveled evaluate geological point following gps near drainage following state highway give access aripuan area stopped got vehicle see point identified gps renato distancing seven meter vehicle following road surprised four bite thorn face neck quickly hurried back vehicle moving away place clerk wearing girdle goggles still wearing glove would enter forest area allergic reaction', 'geologist auxiliary ademir traveled field evaluate geological point following gps near drainage following state highway give access aripuan area stopped got vehicle see point identified gps rio distancing five meter vehicle following road surprised two bite thorn face quickly hurried back vehicle moving away place clerk wearing girdle goggles still wearing glove would enter forest area allergic reaction', 'safety technical moved field inspection activity way field paused together two team order know drainage point checked safety getting vehicle struck sting weed neck quickly returned vehicle made radio communication two team distanced place clerk wearing legging glass allergic reaction', 'auxiliary geologist traveled field evaluate geological point following gps near drainage following state highway give access aripuan area stopped got vehicle see point identified gps ademir distancing five meter vehicle accompanied geologist mario surprised two bite blow neck quickly hurried back vehicle moving away place clerk wearing girdle goggles still wearing glove would enter forest area allergic reaction', 'traveling field order make geological mapping geologist manoel accompanied prospector marcos stooped deviate vegetation time received three whistling sting two face one neck allergic reaction activity followed normally event', 'moving field make geological mapping prospector marcos accompanied geologist manoel stooped deviate vegetation moment received whistling sting ring finger right hand allergic reaction activity followed normally event', 'approximately pm operator paulo operator filter informed autoclave operator via radio leak side scruber autoclave iii feed stopped control official georli renato initiated procedure closing autoclave transfer valve flash tqs soon break chicken projecting pulp hot reaching three employee inside room near equipment', 'operator scissor leaf equipment parked level acc due electrical problem maintenance personnel arrives electrician climb control platform equipment performs verification hydraulic system confirming problem coordination mechanic decide perform test diesel system moment accidentally activates body arm movement lever causing drill arm move downwards generating left hand atricion support pivot tube generating lesion described time accident electrician alone control platform mechanic ground level observing pressure diesel system pressure gauge', 'mechanical technician proceeded perform maintenance motor support tipper decided bring wooden block moved temporary storage material located tipper circumstance sought cue camera tire burst suddenly right involved thunderous sound affected right ear worker tire exploded psi pressure approximately time event stacked pneumatic second one exploded presented cut place energy released tire upper part projected tire left previous guard night shift storage area roof place event affected mechanic located distance worker area truck parked none suffered damage glass', 'level access siemag camera roof time piquero civil operator looked stilson key inside metal tool box open metal lid x x kg weight hand push lid backwards positioning right hand near base lid causing incentration fifth finger lid structure box height hinge time accident employee wore pad glove reduced consequence injury', 'handling lever move sludge employee moved making pendulum movement striking chin', 'change rim position jumbo moment mechanical technician support electrician disengaged bolt loosening fourth nut help lever metal tube diameter length weight kg bouncing effect returning initial position hitting palm left hand electrician technician causing injury employee time accident used ppe including leather glove', 'circumstance operator scooptram proceeded sit equipment closing door take right hand handrail place close door hinge closing trap part worker middle finger worker time accident made use leather safety glove', 'plant work geho pump reducer n accompanying rotation shaft reducer mixed key wrench crown hit housing geho pump attributing union area fifth fourth finger welder right hand causing injury time accident equipment blocked employee used leather glove', 'access level installation activity hydraulic filling pipe diameter installing section height reference floor master hydraulic filling accident partner suffers attrition right hand upper edge scoop lamp roof work generating injury time accident employee used rubber glove', 'mr frank support another mechanic preparing place floor metal part called rear bridge forklift moment part moving part move generating blow middle finger left hand', 'level gallery performing manual unlocking load worker prepares cut sacrificial mesh exposed previous turn shot placing inch shear cutting fifth suddenly strained wire mesh return face casion ndole injury described activity worker used safety glass', 'circumstance adjutant scissor bolter came team ladder last step slide approximate height fall sitting floor time accident person involved use helmet rock material crash site', 'moment maperu truck plate f returned city pasco unit transporting consultant meter main gate lane invaded civilian vehicle making driver turn sharply side right staff company impromec hot melt work pipe impacting two collaborator causing injury described time accident truck traveling km h according inthinc width road meter activity safety cone warning side road employee used respective epp', 'moment maperu truck plate f returned city pasco unit transporting consultant meter main gate lane invaded civilian vehicle making driver turn sharply side right staff company impromec hot melt work pipe impacting two collaborator causing injury described time accident truck traveling km h according inthinc width road meter activity safety cone warning side road employee used respective epp', 'h approx hour operator fernando opening wagon find hardened stake us bar approx remove moment press bar hit hand', 'execution drilling target bolt brjcldd made company servitecforaco probe july official josimar da silva moment maneuver fish material removing feeder water movement winch realized safety chain loose could curl rod performing chain removal movement placed left hand hose cap hydraulic plate unlocking inner tube abrupt movement chain pushing hand towards hydraulic plate causing injury ring finger hand lesion caused cut th quirodactyl need suture point close cut', 'operator paste filling plant remove floor grating x cm clean lower floor removed close water valve block vacuum two technician entering filter belt notice overflow ask operator reduce load mechanic kept walking without noticing floor one fall void impacting foot left angle cm floor grating producing injury', 'accident occurred time employee partner company sf carried unloading operation bladder bag cutting bag charging boom silo truck delivery mouth inner plastic bag surrounding content abruptly dropped large amount material fell onto cone funnel cone fell injured man stood leg pressed body guard scaffold external medical attention verified fracture', 'level entrance locomotive workshop welder proceeds inspect mining car identifies car bearing problem informs partner finding decides enter car workshop operates swing arm type mona kg weight move direction railway towards central op moment push rocker weight body right hand come contact rock producing injury described time accident worker wearing safety glove pad', 'handling sample laboratory sleeve employee coat contact nitric acid absorbing small amount came reach left forearm causing st degree burn', 'level gallery holding activity bolter equipment operator performs drilling first hole support right gable foot deep drill end drill rod break leaving thread inside drilling machine shank operator assistant decide make two empty percussion attempt free thread shank without success third attempt assistant enters corrugated iron central hole rest bar embedded shank generate pressure moment operator activates percussion generates movement shank hit palm victim left hand generating described injury worker wearing safety glove time accident end corrugated iron contact left hand shaped like cane worker time accident positioned roof supported mesh split set', 'hour collaborator warrin welder trying inspect cracking point inlet g laminator slip fall level hitting face hand immediately transferred medical service evaluation', 'employee report draining ammonia used refrigerant container water splash solution drained onto face', 'eu bio bridge sudden braking several car brake quickly collaborator car failed stop time collided rear car ahead km hour', 'torch cutting activity new evaporator treatment fixing rupture hose near torch pen causing injury', 'time mill operator proceeded remove vitaulic flange connecting suction pipe pump housing b intention de sanding system removing flange mineral pulp come pressure impact face wrist left hand generating lesion described time accident secondary mill pump b blocked maintenance work mill operator used safety glass', 'level access area operator scissor team preparing present second mesh continue support work operator pull support mesh share length equally side equipment moment roof work rock weighs approximately kg fall support mesh slide towards right side spoiler result mesh push operator kneeling floor platform generates lesion described rock falling directly impact operator squatting position operator move away area walking mean supported assistant', 'employee report upon initiating rlc front loading activity elevation aerial work platform rock fragment roof gallery dropped reaching face causing lesion', 'opened access ladder people carrying truck employee right hand pressed support bracket suffering superficial injury', 'employee partner company gr report cutting watermelon injured nd chirodactilo left hand knife', 'mincing team carrying activity city ju na coordinated mining technician felipe time mining technician last line away team bitten blackjack left side face allergic manifestation team continued work afternoon lunch employee sought medical care medicated released continue activity next day', 'time worker cleaning long hole production mesh negative removing polyethylene pipe suffers clogging inside drill product compressed air pressure released ejecting detritus fragment rock inside hole impacting worker forehead causing cut', 'removing cap wear plate warman lx bb pump left hand employee glove slipped came contact cutting part board', 'withdrawal fixed jaw wedge crusher br hoisting device hook broken causing steel cable overhead crane strike left hand employee', 'leaving company employee stumbled onto exit ladder building fell step causing twisting ankle grating cinnamon', 'ore transport work op bine filled tenth mining car ore assistant positioned platform hopper op place wooden board piston chain avoid fall fine track time fragment rock cmx cm x cm kg roll load hit distal phalanx fourth finger left hand assistant time accident wearing safety glove pad type hopper op time accident zero energy', 'circumstance drilling assistant proceeded assemble inner tube barel injured person retracts inner tube head throw manually towards top catheter inclination continue perforation moment glove left hand hooked speart point pushing left hand edge box barel originating injury time accident injured employee used rubber glove work area well lit', 'employee mr nilton made opening visit unclog moment occurred projection hot material occurring accident', 'maintaining ramp placing first cloth overlap previous mesh operator check work front return back team coordinate assistant time fragment rock weight kg non sustained area detached impact arm team reaching bounce collaborator causing injury one involved made use epps time incident assistant back team preparing support mesh', 'level access operator scissor performed support crown time piece rock cmx cmx cm g pass cocada support mesh height meter towards platform team breaking particle one reach right eye causing injury', 'level access operator scissor carried support right gable platform arranged place split set drill squat position introduced bolt moment cocada support mesh fall crown piece rock cmx cmx cm gr approximate height impacting cervical region collaborator causing lesion described time accident crown held collaborator used safety glass glove', 'employee performing cutting activity carbon steel pipe attached band saw machine due uneven weight distribution tube moved downward end projected upwards pressing thumb', 'servant would remove dish bowl sink picking set plate one broken broken edge causing injury rd chiropactyl right hand', 'time collaborator performing evacuation inchancables mine present strip phase notice piece support mesh positioned frame return belt several attempt remove mesh belt movement using metal rake support mesh yield moving direction rotation return belt hitting collaborator hand metal structure causing contusion left hand time accident employee used leather glove', 'topographic survey stp east zone victim co worker decide continue work stp west injured person walk behind co worker meter arriving loading zone intersection rpa st injured person asks sccop operator stop pas equipment stopped victim pass behind partner stuck gable trying avoid accumulation water take third step puddle injured person step false fall floor causing injury', 'employee report carrying activity area expedition remove overall contact material contaminated sleeve caused st degree burn right forearm', 'hour row cell suction partner remove suction hose untimely splash electrolyte solution left eye immediately referred medical service', 'execution area cleaning activity using hoe employee hit fixed metal structure area coming reach abdomen left', 'collaborator cleaning sink copper repulping area moment filling truck shovel project sludge towards lens soiling obstructing vision worker indicates removing lens clean mud particle enter left eye causing discomfort referred medical center corresponding attention', 'clerk cutting excess fiberglass passing box contact blade marble saw cut glove caused wound right hand', 'level unicon plant collaborator shuttering work concrete water sedimentation basin moment nailing wood supply another x inch strip feel metallic hammer loosen wooden handle fix grab hammer head hit handle vertically wood generating injury time accident employee use safety glove', 'surface dining room employee unit collaborator performed chicken habilitation lunch using kitchen knife come contact distal part second finger left hand causing injury described accident employee use specific height glove type work', 'maintenance work vertical pump zinc concentrate three mechanic performing lifting maneuver able position pump drawer instant pump becomes clogged reduced space work area order release pump place young lady lower part time released turn untimely hitting middle finger injured person right hand trellex hose', 'section row cell worker performs anode lifting correct short circuit using auxiliary hoist nylon sling time sling released anode hit back right hand causing injury worker seen medical transferred clinic external evaluation', 'check list area survey operator slipped foliage leucenas fell', 'participating general dd held outside area central locker room employee bitten bee', 'employee report performing maintenance activity pump tunnel tc pulling rotor struck piece mallet slipped hand reaching lower part left leg causing injury', 'trying release pipe hdp pipe long diameter stuck support mesh master loader assistant pull pipe release pipe released hit lateral part cheekbone eyelid worker right generating described injury', 'city conchucos ancash participating patronal feast representing company mounted horse part ceremony throwing fruit toy people attending public event noise material pyrotechnic people trying collect gift caused horse front close horse frightened kicked back hitting lower limb', 'employee removing strap chemical container projected toward reaching lower lip anterior chest strap contaminated caustic soda caused st degree burn', 'cutting vegetation open bite using sickle assistant struck vine twice liana ruptured top branch projected face auxiliary causing cut upper lip', 'september approximately pm preventive maintenance g debarking machine bearing assembly made anode cleaning roller fitting bearing final position staff used chisel pound rope position bearing worker place left hand near head chisel warp circumstance splinter embedded proximal part thumb left hand immediately collaborator communicates supervisor evacuated medical review', 'employee report monitoring existence borehole tubing thermal recovery boiler ustulation area side window struck projection heated air reached face right forearm', 'collaborator around cleaning leaf return well borehole brapdd slipped canvas edge well hitting right side back metal structure mud swathed box causing slight excoriation employee referred local hospital medicated released activity', 'employee performing maintenance blower residual water projection occurred face attempt remove ppe injured person contact contaminated glove right eye causing irritation', 'lubricating technician alfredo made oil filling reducer notice oil leak tearing connection hose reducer correcting leak work finished go lubricant workshop remove glove observes hand affected contact hot surface go medical center treated', 'maintenance access moment assistant place mini split set adapter clamp locked return initial position hitting collaborator hand causing described injury time accident team sustained area arm jumbo height floor employee wearing rubber glove', 'employee preparing rice using utensil type skimmer stir inside pressure cooker part cable broke reaching hand causing blunt cut', 'circumstance operator bolter n went ladder height resting platform floor level slip balance hitting back handrail operator door time event injured person used epp', 'technician operator heading towards zone lifting container dust zinc section us space base tranquera sardinel slipping edge rasp ndose left side thorax treated medical center local treatment returning work area', 'h september worker confipetrol carried industrial cleaning outside acid reduction tank check progress helmet mask moment hose pipe released secured pressure clamp water air impacting lip', 'approximately marco isidro torres performing pipe standardization cx cx nv moment marco lift air pipe spike seat pipe impact worker safety guard', 'approximately mechanic removing last bolt nipple pump lime feeder reactive area mechanic positioned slightly flexing leg performs upward force hand moment feel pain spume right thigh mechanic evacuated help colleague medical post', 'approximately maintenance workshop e e unicon circumstance two mechanical technician placed protective plate kg mixkret fuel tank moment attempting bolt protective plate slip hand one falling directly instep left foot causing injury described', 'n nv cx mixkret operator washing mixkret hose water pressure necessary change location right side left proceeds pull hose slip feel left foot bend', 'carrying supply operation zinc powder container using crane move employee closed lower lock container making movement push lock made excessive effort thumb right hand causing sprain', 'withdrawal cathode sample employee came press finger tool cut sample', 'intersection level main road access south ramp collaborator freed tube inch diameter gable descended holding pipe fourth step telescopic aluminum ladder approximately meter floor point another clamping point gable lifted lifting tube pull worker causing lose balance fall height meter described injury occurring', 'probe bore bapdd around hour polling assistant luciano da silva performing maneuver descending rod led rod gutter leaning suitably came escape gutter returning toward easel hand slipped little finger rod easel realizing shaft returned released immediately little finger partially hit rim rod easel resulting cut auxiliary taken hospital attended wound resulted point released administrative activity', 'office incimmet circumstance environment set place cleaning material wooden strip placed staircase structure container strip cut size accident victim coordinated partner put pressure using hammer holding right hand frame pressure placed strip pushed side container creating opening corrugated iron wall time continuing hit ribbon fall causing wall container return initial position pressing tip little finger right hand corrugated iron causing accident', 'area equipment inspection staff atenuz ee trying remove hydraulic hammer safety lock excavator mechanical lubricator hold right hand hat type chisel equipment mechanic hit chisel pound rubber bump remove safety point one blow fall edge hat type protector causing slip strike fourth finger lubricant mechanic right hand generating described injury time accident lubricator mechanic put glove type pad', 'approx hr mr eliseo secondary crushing operator retiring snack find gate chute strip open approaching close gate moment operator mr samuel upper platform coordinate operator control room start strip moment start product project particle x x cm impacting flange gate projecting towards height lens respirator mr eliseo', 'employee cleaning near area pneumatic conveyor hit drop sulfuric acid upper lip', 'employee assisted support gate tying canvas frame pressing rope canvas stretched metal structure moved coming wooden support falling striking employee face causing cut right superciliary', 'phase operator carried removal inchancanbles reciprocating feeder removing split set support rope staff support left hand structure protection falling moment another split set come together load hit distal phalanx fifth finger left hand generating described injury', 'circumstance assistant mine arranging advance hose flexible nylon diameter proceed watered shot fired positioning zone support deteriorated last blasting moment give block rock cmx cmx cm kg roof work height meter falling hit rebound left leg collaborator causing described injury', 'inside mine diamond drilling positive drill moment control tube rescued fisherman winch cable break untimely developing whiplash effect impacting left hand drilling assistant causing described injury time accident drilling assistant platform frame using hycron type safety glove', 'employee cleaned thermal recovery boiler using air boom hose loosened pipe connection drawing jet compressed air toward right ear causing impact noise', 'activity loading explosive front level gts fall rock fragment reaching right arm blaster causing cut blunt', 'circumstance mechanical technician work colleague arranged accommodate spare rollover small platform cart floor two squat collaborator decide push one side time one edge rollover imprisons third finger left hand handle cart right side causing wound third finger left hand time accident employee used respective glove', 'ore loading lt locomotive completed penultimate car derails th car presence fragment rock railway line weight car mineral ton get back track mining car victim make use metal tube length meter diameter maneuver reposition mining car moment metallic tube loses stability imprisons victim hand strut mining car collaborator time event towards use leather glove', 'time heavy equipment operator got equipment check right front headlight defective scooptram position rim position left leg slide causing heavy equipment operator fall height cm', 'alimak chimney level alimakero driller assistant positioned main cage guard head proceed perform rock untie top chimney time teacher perceives spark rock top communicates assistant prevented falling rock x x guard head fragmented one fragment fall chain rebound rub operator right hand generating described injury', 'activity placing board rack exchange fabric filter one plate inclined trying put plate correct position plate arm pressed back right hand structure easel', 'observing pulp overflow overflow reception drawer thickener filter operator approach verify operation c pump making sure stopped press keypad start pump getting start proceeds remove guard manipulates motor pump transmission strip left hand imprisoned pulley motor transmission belt', 'mr eriks completed change guide pole conveyor belt collaborator moved side belt remove tecl pass stair without getting observe moment collaborator jhon dropped inchancable weight approx kg entrance platform chute discharge height meter iron grazed forearm finally hitting left foot height instep', 'igniting furnace battery reflux hot gas reaching face employee', 'approximately mr wilmer approach c drying tower placement blanket cover entrance manhole tower moment manhole cover resting railing slide impacting right leg', 'hr cathode go pre estriping sheet detached bend cathode position operator assistant lift cathode head position tranfer moment detached sheet exerts pressure cathode hitting palm left hand operator head transfe activity paralyzed collaborator referred medical post head guard', 'worker c sar injured nilton receive order immediate supervisor rom n carry assembly activity brace length approximate weight kg structure nro belt said collaborator lift brace approach installation point leaving one end ground resting corner pedestal approximate height cm carrying planning work injured person lift end part floor turn position assembly moment end fall generating imprisonment finger left hand staff taken medical center supervisor', 'region povoado vista martin pole ce employee f bio de vieira performed soil collection activity field together auxiliary manoel da silva diassis nascimento around crossing fence glove attached wire body projected forward causing slight twist left wrist team traveled city granja employee referred hospital consultation doctor diagnose fracture prescribing remedy local pain ice pack medical evaluation employee carry activity normally', 'operator descending ladder sailor step fall floor going er step falling back hitting head worker used chin strap helmet safety element reduced injury blow treated medical center local treatment referred clinic evaluation', 'approx mr denis made mesh placed ventilation plug ladder trying wire tie suddenly imbalance due manipulation tool falling third step propici ndose blow right knee wound wrist right hand later evacuated post received first aid', 'employee report upon initiating rlc front loading activity performing emulsion preparation use displacement small rock fragment ceiling reaching left forearm', 'level dining room collaborator finished washing tabolas food container dimension cm x cm x cm proceed order pinking thumb right hand corner aluminum tabola generating lesion employee time accident safety glove', 'exchange shock bearing housing employee used sledgehammer hit pipe stage activity hammer hit stepladder close coming hand tool projected onto left hand thumb holding piece', 'welder completed welding work reinforce form deepening walked towards distant truck mt point welder stepped fragment rock cm x cm x cm approx generates foot flex generates injury worker', 'activity chuteo ore hopper op operator locomotive park equipment hopper fill first car moment blowing release load mud flow suddenly appears presence rock fragment personnel direction flow covered mud', 'activity chuteo ore hopper op operator locomotive park equipment hopper fill first car moment blowing release load mud flow suddenly appears presence rock fragment personnel direction flow covered mud', 'activity chuteo ore hopper op operator locomotive park equipment hopper fill first car moment blowing release load mud flow suddenly appears presence rock fragment personnel direction flow covered mud', 'time four mechanic performed removal tm engine positive slope using key tyrfor time st welder tightened key kg weight pulling chain eyebolt held click roof work broken transversely causing fall key hitting helmet welder mechanic causing cervical contracture tirfor used activity second protection prevent engine falling', 'time four employee lowered metal sheet mx kg towards floor height cm assembly assistant timely remove hand trapping ring finger iron loose earth causing contusion ring finger collaborator time event use maneuver glove', 'withdrawal metal form support screw inside well bolt chain holder loosened employee helper exerted force combination wrench bolt came loosen immediately pressing ring finger employee right hand support', 'hour moment mr claudio tipper operator readjusted nut rear tire right side vehicle using wheel wrench tube extension generate greater force torque mr wilber held back suffers contusion palm right hand extension partner slip hand', 'entering caustic soda containment basin place hose make suction stage steam formation striking employee right left calf', 'activity revegetation slope pit pit ii employee hitting sledgehammer rod installation lifeline hit right leg causing slight excoriation', 'performing doosan rb equipment hammer repair employee try remove suspender support pound rope moment receiving blow brace bolt cause splinter released expelling impacting lower left limb causing metal embedding collaborator notice immediately', 'employee report performed activity area ustulaci n coordination maintenance hit dust ustulado causing irritation eye region', 'december accessory coupling gun hose high pressure pump bap made clean demister cooling tower g carrying complete coupling turn bap start start test moment hose come gun hit mr emerson holding gun', 'employee report returning anode easel even bumped side easel coming swing hit right shoulder causing bruise', 'happened maintenance bolter equipment collaborator us carpenter hammer able remove link chain advance drilling machine moment hit side chain partner hit structure beam diverting path hammer causing strike left hand', 'maid walking electrolysis area stumbled fell next bathroom room b', 'circumstance operator performed lifting inch vitaulic pipe imprisoned structure railing truck instant push pipe right hand return initial position hitting middle finger employee causing bruise', 'performing movement bar make room place calibrator mr chuquillanqui push bar hand turning moment imprisoned middle finger left hand bar ahead', 'employee report performed soldering activity hit eye region dust found thermal insulation causing irritation', 'end unleashing saturated material talus crest bank rugged taut rope leave work area tension moment loose material top slope crumbles height stool projecting fragment cmx cmx cm gr rub right cheek causing injury time event area isolated collaborator epps corresponding activity', 'level geology surface master mine temporarily repair water leakage inch diameter metal distributor make cut rim chamber strip cm wide x cm long making using cutter partner stretch camera cutting force edge cutter make contact index finger left hand causing superficial cut time event worker wearing bos glove', 'mr marcelo withdrew foam ajax oven using metal spoon empty foam waste container moment splash slag residue impacting face generating surface burn worker wearing face mask', 'employee report trying remove one plate overflow system ustulador oven th finger right hand pressed tool wrench extension overflow flange ustulador oven located behind performer', 'hour mr hidalgo wanting climb starter board remove fan stand unstable reel driving fell frontally height', 'approximately p alpha operator mr ronald heading mine decides stop equipment accommodate light left side manipulating support lighthouse catching fifth finger right hand protection grid support', 'hour mr jose performed erasing earthenware section turning machine alizado ironing concrete tour abruptly imprisoning left hand command equipment metal structure causing atriction back left hand', 'volvo workshop time cutting steel plate thickness installation mt scoop lip oxicorte equipment injured feel discomfort eye time accident collaborator made use full epp soldering iron lens make full adjustment presence respirator', 'mechanized support activity level tajo lifting support mesh platform scissor equipment employee stumble feel pain heel left foot', 'preparation scaffolding activity employee loading piece designated place finger pressed metal piece moved', 'making change support vertical pump zinc two mechanic raised beam h x kg one end height injured person knee slip hand causing injury described', 'deslaminator stop untimely operator lower lock machine verify failure detecting locking sheet basket manipulator operator try arrange sheet manually pulling sheet one cut palm right hand edge sheet referred medical center attention', 'employee performed withdrawal electrical failure engine control drawer tq check exchange fuse closed door drawer energized drawer moment arc opened reaching face part employee forearm causing minor burn', 'circumstance worker hit support drill beam advance cylinder align base beam hole beam place bolt mechanical hammer slip inertia mechanic hand hit edge beam causing injury time accident employee ppe activity', 'level access scissor performed sustaining activity drilling drill install split lifting electrowelded mesh square meter x weight kg approximately team platform assistant slip feel pain inner edge right knee', 'auxiliary general service paulo e silva month day work performing activity soil collection movement equipment next point holding lever encountered piece sloping ground interlaced vegetation caused fall left side tool held rapid fall prevented employee leaning causing shock elbow ground employee continued activity another point sample collection felt arm bothering', 'reduction activity tube employee attached tube walrus hit tube hammer untied walrus reaching finger', 'activity settling concrete block ventilation plug wall cx level circumstance worker made setting union concrete block polyethylene pipe diameter pick spike hit hit top worker protector', 'level tajo area completing drilling drill loading operator remove bit jumbo arm walk towards crew cabin crown work fragment rock pass cocada mesh impact helmet rebound hit right shoulder operator generating described injury', 'upon approaching furnace process melting zn ingot struck liquid metal projection', 'routine slimming activity kiln battery employee began remove waste inside crucible aid skimmer felt pain left shoulder', 'hour mr cesar tello moinsac carrying work assembling water line climb cat ladder approximate height meter vanishes fall hitting way transferred medical center attention', 'manipulating material master drill truck operator decide make space moving radiator moment driver truck imprisoned little finger left hand bar', 'employee engaged removal material excavation well level using shovel placing bucket day material fell pipe employee boot friction boot calf caused superficial injury leg', 'employee engaged removal material excavation well level using shovel placing bucket day material fell pipe employee boot friction boot calf caused superficial injury leg', 'th block nv ob moment messrs roger injured cleaned th drill radial mesh inclined shape right gable moment detaches fragment rock x x cm impacting shoulder', 'employee transiting grs area came slip suffering twist left knee', 'activity collecting soil collaborator milton ran branch attacked maribondos bitten twice head pain swelling allergic symptom continued activity', 'process loading drill carmen pit level operator position basket anfo loader equipment height floor carry loading production drill moment stone slab x x detached front pit tilted lodged inside basket trapping right leg collaborator', 'time collaborator passing tubo pvc pipe loader uncover fifth hole obstructed piece rock operator jetanol accidentally activates air valve causing loading pipe floor rise suddenly throwing prils anfo excess pipe cheekbone eyelid right eye victim', 'circumstance tipper mv ee mceisa moved nv nv operator see congestion equipment front unit ramp distance meter access nv decides get cab turning vehicle suddenly slide second rung ground hitting right forearm region fender rung', 'moment entering mouth tunel employee move left side locomotive lt locomotive personnel transfer stationed entrance mouth without noticing protruding abutment said locomotive bottom hitting right knee metal stirrup noted operator continued duty watch without reporting happened extraction supervisor upon noticing discomfort partner knee immediately evacuated natclar reporting control center', 'assembly activity polypropylene pipe diameter employee stepped pipe flange twisted right foot', 'upon entering mine interior bodeguero located litorina n last convoy displacement litorina derails advance approximately meter operator observes event entering entrance gate paralyzes displacement convoy winemaker full epps', 'performing soil activity collaborator alex used pickaxe assist opening collection hole struck ferranta ground fragment rock projected forehead causing small cut activity paralyzed moment necessary go doctor employee continued activity normally', 'employee performing drilling activity lm probe level gps positioning needle stem came hit left hand ring finger retraction box causing superficial injury', 'p performing geological mapping activity geologist manoel da silva accompanied geologist luciano do santos dayme make crossing side fence barbed wire known region goat fence base cm height made rod interlaced horizontally upwards made little barbed wire barbed around cm jumped fence still fence managed sweep vegetation left foot even supporting foot ground stump approximately cm x cm came break sole boot cause perforation left foot height finger', 'collaborator completed misalignment nut left side chute scraper strip get turn hit head guard railing hitting lens generating injury', 'level op worker performed chuteo ore hopper second car perceived slip water mud hopper decided leave platform already second rung ladder access water increase fragment rock slide hit back worker causing fall hit right forearm left knee', 'hour approximately circumstance administrative ssomac arranged move guillotine right side towards center table make cut enmicadas page trying raise guillotine middle finger right hand rub edge guillotine blade causing cut yolk third finger right hand', 'preparation office cleaning activity employee made use stair railing contact clamp used lock signaling board', 'activity packaging cylindrical piece easel employee carried piece designated place finger pressed metal piece moved', 'injured collaborator one colleague wanted move rim scoop tire using strength threw rim floor make roll instant eyelash hit fifth finger right hand ring producing injury', 'averaging operator daniel removed cleaning accessory mobile channel line supported left hand rail motion moment crushing nd finger left hand occurs injury occurs collaborator referred medical care', 'spillway circumstance worker cleaning use absorbent cloth oil residue right edge atlas ax compressor bonnet open functioning rag fall inside ompressor attempt remove hooked fan propeller pulling worker left hand toward propeller causing injury', 'performing carpentry work collaborator hit second finger left hand hammer held right hand causing bruise height nail evaluation carried medical center unit final diagnosis contusion finger', 'preparing mount polypropylene tubing employee pulled pickup truck positioned place pressing finger tube concrete wall', 'maintenance peristaltic pump bp change internal hose rupture tubing reserve pump bp ruptured started operate designing solution heated towards employee reaching left forearm causing irritation skin', 'maintenance peristaltic pump bp change internal hose rupture tubing reserve pump bp disrupted started operate designing solution heated towards employee reaching left forearm causing burn', 'nv cx south mechanic loosens bolt intermediate cardan protector dumper protector released imprisons first finger left hand connector hydraulic steering cylinder position', 'pm performing magnetometric using gps collaborator ant nio bumped top field hat branch attacked maribondos bitten behind ear another shoulder continued activity felt pain swelling', 'averaging office ajani liliana prepares store folder warehouse go place come iglu going two step diagonally sits left foot edge second step causing foot bend left inward stabilizes quickly avoiding falling ground', 'moment extracting bolt chuck rotation unit vsd instant made hit rope lb base support bolt fragment metal structure projected impacting face mechanic freddy described injury', 'painting pumping pipe completed person involved involuntarily touch face hand glove full paint clean make use dry industrial cloth begin rub face period time second continuously finally paint face cleaned friction generates described injury', 'conclusion unloading ore amp plate tipper pit driver notice stretch support mesh stuck hopper hatch driver get equipment hopper lifted remove hand mesh generating force fine particle rock fall one impregnated eye injured time incident injured person used measuring glass surcharge', 'mr walter putting tool hopper atlas truck parked cruise level ob b mining operation van arrived driven engineer parked behind truck atlas approximately meter without placed safety block went request data drilling later assistant simba opened gate dropping bit hopper mine truck untimely vehicle moved forward pinning mechanic right leg', 'transport piece wood aid wheelbarrow employee felt prick right leg moment stopped activity removed legging shaking pant noticed small scorpion', 'mining cycle chimney starting drilling work anchor lane alimak system collaborator squat pick manual tool platform moment jackleg team loses position project towards back collaborator generating injury', 'support process circumstance assistant performs last cut transverse length mesh mesh generates movement towards operator hit face causing described injury', 'p assisting gps magnetometric collaborator gilv nio bumped top field hat branch attacked maribondos moth went towards eye due use sunglass attack region prevented insect moved side face getting caught ear back field hat making helper get two bite behind ear gilv nio allergic marimbondos bite soon activity immediately paralyzed drove car accident took medicine antiallergic already used situation work indicated another doctor avoid swelling marcelo responsible project also field mapping activity called radio immediately assistant felt good taken emergency hospital lavras sul consulted doctor took antiallergic released around', 'moment staff impromec company heading towards pique support shotcrete casting job one electrician identify lane water road right leg enters gutter depth causing injury service litorina paralyzed entrance personnel', 'employee descending ladder inspection milling cyclone give access floor behind mill platform isc mg floor gave way fell height approximately meter meter material ore platform decreasing height fall impact', 'area lloclla meter sub station nro circumstance worker preparing pick rope floor several fragment rock slide slope hill one cm fragment diameter approximately impact face worker producing aforementioned injury', 'performing cleaning activity area near tc grinding employee handling block triangular shaped rock measuring b cm x h cm x e cm movement lost balance falling rock thumb left hand injuring', 'carrying refractory brick chopping activity order place support bus bar section particle detached hitting assistant right arm one meter away work area provoking wound arm treated medical center returned usual duty', 'soil sampling region sta employee rafael danillo da silva attacked bee test rushed away place employee rafael took bite one chin one chest one neck one hand glove employee took bite one hand glove head employee danillo took bite left arm uniform first one sketched allergy swelling sting site activity stopped evaluate site verifying test remained line left site', 'soil sampling region sta employee rafael danillo da silva attacked bee test rushed away place employee rafael took bite one chin one chest one neck one hand glove employee took bite one hand glove head employee danillo took bite left arm uniform first one sketched allergy swelling sting site activity stopped evaluate site verifying test remained line left site', 'soil sampling region sta employee rafael danillo da silva attacked bee test rushed away place employee rafael took bite one chin one chest one neck one hand glove employee took bite one hand glove head employee danillo took bite left arm uniform first one sketched allergy swelling sting site activity stopped evaluate site verifying test remained line left site', 'employee hitchhiking cep truck equipment crossed central canterio track catch key wheel loader another operator stopped opposite direction upon returning truck hit arm left loader tire traveling along road passed cep right', 'pm approx collaborator mr duval sampler preparing change remove bucket pulp sample plant courier slipped fell ground supporting right hand generating lesion described', 'pm performing mag activity employee murilo da silva moving acquisition line came across small drainage approximately cm wide small gap traversed drainage employee rested right foot ravine came rest causing right ankle twist soon twisting activity paralyzed employee taken local hospital x ray taken examination made physician serious injury found small swelling released normal activity', 'level f license plate went level surface pilot trying locate radio answer call concrete plant distracted crash vehicle left gable vehicle turn right side happens copilot hit right hand fragment broken glass window right side vehicle', 'scoop heading rpa cut point cro south unloaded visualizes truck parked light engine ignited inside thrust scoop found accumulating dismount operator stop scoop get tell driver truck leave find one decides go look driver top cro south find return scoop meter visualizes light lamp shining direction gable approaching find deceased lying side scoop proceeds give immediate notice supervisory shift control center emergency center', 'employee performing maintenance filter press filtration area grs dismantled hose clamp turning motion contact burr tip one screw exposed causing cut glove wound rd quirodactilo left hand', 'nv chamber accumulation aggregate worker made cast shotcrete towards crown work p perceives discomfort fogging full face decides take chooses use safety glass comfort continue thrown shotcrete p suffers projection shotcrete rebound particle left eye', 'team vms project performed soil collection xix target member team moving one collection point another mr fabio ahead team stinging behind robson manoel da silva near collection point surprised swarm bee inside play near ground visibility wood hissing noise fabio passed stump robson manoel da silva attacked bee robson sting left arm uniform manoel da silva prick lip screen ripped tangled branch escape', 'team vms project performed soil collection xix target member team moving one collection point another mr fabio ahead team stinging behind robson manoel da silva near collection point surprised swarm bee inside play near ground visibility wood hissing noise fabio passed stump robson manoel da silva attacked bee robson sting left arm uniform manoel da silva prick lip screen ripped tangled branch escape', 'preparation solubilization activity sample chapel maid moving vial nitric acid detached doser causing projection region face upper limb', 'activity changing conveyor belt b feeding primary mill mechanic entered discharge chute x x clean material time automatic sampler x inside chute activated trapping mechanic height chest time accident mechanic alone work area', 'approximately hour change cable z power cell locked cabinet z transformer loud noise followed oscillation electrical system moment collaborator queneche company eissa found floor head inside adjoining cell z cabinet blocked assigned work received electric shock', 'mixer e c incimmet moved positive south ramp direction surface unicon concrete plant height operator observes untimely light engine go control control respond equipment start reverse meter operator jump cabin meter team hit right gable turn side left area circumstance event presence personnel equipment could affected', 'technician magnetometric survey stepped thorn reaction immediately retreat losing balance magnetometer antenna broke', 'employee report assisted maintenance activity tower electrolysis stepped grp grid polymer glass floor moving causing fall event took place stage displacement fall floor span receiving effort employee fall grp floor side gutter floor supporting structure employee fall lower level grp floor', 'employee report supervising activity ustulation near ball projection hot humped dust upper floor reached cervical neck region causing first degree burn', 'employee performed task hoisting big bag containing waelz oxide performing several hoistings employee suffered low voltage electric shock contacting hoist attaching handle big bag', 'employee moved toward structure post came step false suffering twisting left ankle', 'around h current sediment activity collaborator warley took bee sting neck using screen bee entered bottom screen sting team decided leave workplace due presence bee collaborator reaction continued work normally', 'industrial cleaning worker cristian performing cleaning activity gutter striking wall remove solid solution formed moment operator hand slide impact edge gutter causing blow little finger left hand', 'level formerly level hydraulic filling personnel performed installation diameter hdpe pipe ventilation chimney help yard scooptram held pushed end pipe pipe meter length moment pipe get stuck edge chimney causing pipe form arc height injured worker signal light lamp operator scooptram stop trying retire line fire worker loses balance light contact pipe causing fall level', 'employee perform painting floor fuel tank area needed cleaning pouring water thinner floor bucket slipped hand mixture projected onto left shoulder lower lip causing redness burning', 'execution soil sampling task potion area around pm luis wca opening machete bitten wasp back right hand using time incident epi needed activity employee evaluated technician found mild localized swelling wound employee reported feel pain could continue activity', 'tower n old kv lt disabled de energized dismantled located city pasco last profile base tower previously disassembled cut using oxyfuel equipment proingcom security supervisor foreman outside fenced area supervising activity indicate stoppage activity evacuation refuge due orange alert indicated detector storm evacuation last employee inside fenced area loud sound heard provoking fright caused staff throw floor inside area proceeded leave work area mean ladder apparently loud sound would correspond electrical discharge cable guard pass old tower', 'tower n old kv lt disabled de energized disassembled located city pasco cutting last profile base tower previously disassembled carried using oxyfuel equipment safety supervisor proingcom foreman external part fenced area supervising activity indicate paralysis activity evacuation refuge due orange alert indicated detector storm evacuation last employee inside fenced area loud sound heard provoking scare caused staff throw floor within area proceeded leave work area mean staircase apparently loud sound would correspond electrical discharge cable guard pass old tower', 'end concreting activity employee turned concrete rolling handle make return equipment warehouse bumped tip mangote inferior lip causing hematoma', 'marking management point supervision breeder enter work carry ventilation inspection surveying work stop turn fan proceed air flow measurement fan turned due pressure break fastening point toe sleeve fall floor generating chicoteo gable gable product chicoteo fragment aggregate shocrete projected face injured person producing injury', 'execution service opening pricked future work ip around employee pedro second line equipment stung wasp right portion neck beetle small size seen employee bite causing employee shock insect manifested employee used ppe required activity developed bite occurred collar shirt face shield technician responsible performing work evaluated sting together injured employee found localized swelling allergy would need paralyze activity followed normally', 'moment mr william carried inspection cut block level ob loading platform could realized instant observed drill positive radial one covered shotcreteados hears noise upper part pit detachment bank center pit mr william go back leave work metatarsal boot make contact rock floor cause lose balance stumble gable', 'employee de lima da silva composing team opening bite survey ip team consisted one mining technician three assistant moving bite touched left foot stump tucum ground covered dry leaf vegetation near drainage felt thorn piercing foot told mining technician happened teammate removed thorn pierced top boot removal spine foot washed verified injury event technician waxed activity returned city porangatu go necessary take employee health unit', 'approx pm mr victor time made visual inspection scaffolding suffered slight blow level right ear metallic extension chute conveyor chain', 'execution soil sampling task potion area around pm pablo moving bite bitten right elbow wasp sleeve uniform using time incident ppe needed activity employee evaluated team found mild injury localized swelling employee reported feel pain could continue activity', 'activity front sanitation slaughter choco scaller local underground mine level front upper jka operator performed front sanitation rock block roof hit equipment accident victim promptly rescued unit emergency brigade transported outpatient clinic received first care transferred municipal paracatu', 'performing cleaning material mineral accumulates steel plate concrete base rest shown photograph steel plate thickness order complete cleaning worker decide weld steel plate support eyelet type end fixed point fastening pin helical support way lift plate help key remove accumulated material instant pulling chain tecla injured one left hand resting concrete wall line fire product tension exerted tecle helical bolt break chain lash index finger generating injury time accident accident victim used epps including glove', 'circumstance mr efra n osorio felix mina nd entered interior pocket level activated compressed air gun installed lower part structure nozzle communicates air lung internal part pocket projecting violent flow air blow left leg worker generates stun noise produced', 'employee report performed routine activity foundry area necessary fit last zamac ingot one package point ingot slipped hit back right foot causing pain safety footwear worn employee steel toe metatarsal protector', 'employee used lever remove sealing ring front tire wheel loader lhd lever came release fulcrum ring press left ring finger loader shell causing traumatism tip said finger', 'employee report performed routine activity area electrolysis trying position one cathode sheet easel hit sleeve caused cut superficially left hand', 'employee engaged adjusting metallic shape using tether striking shape tether cable hit lifeline projecting hand metal structure shape causing superficial injury ring finger right hand', 'circumstance staff performing rhyming caving hw hw pipe suspended approximately cm floor assistant placed stilson key hw pipe fit pipe height cm base rod holder operator operates chuck slide back causing pipe slide causing tip fourth finger assistant right hand caught stilson key base rod holder time event collaborator used epps', 'employee rcio rgio performed pump pipe clearing activity fz removal suction spool flange bolt projection pulp causing injury', 'employee rcio rgio performed pump pipe clearing activity fz removal suction spool flange bolt projection pulp causing injury', 'performing shotcrete casting resane cruise nv p approximately operator placed left side equipment started release cubic meter time decided paralyze task minute due leak water roof box allow adhesion shotcrete rock setting restarting shotcrete launch operator left side moved right side equipment assistant operator mixkret see pumping went verify happened returned realized operator assume fallen chimney left job ask help immediately emergency response brigade medical service activated verify death collaborator accident investigation begin', 'maid handling pipette sample preparation chemical analysis trying place three way pear pipette came break causing superficial cut right hand', 'area machine tool maestranza mechanic injured operating bench drill drilling metal jacket x x lining install skip moment accompanied mechanic albino manipulated jacket directed maneuver right side drill mr albino tell stop drill verify depth drill luis lift chuck albino pull iron verifies everything fine communicates restart drilling hole moment victim without apparent reason cross left arm drill caught drill work clothes causing injury described', 'employee passed corner front door seeing virdro slight swelling frontal region due closing glass door', 'activity maintenance scaller breaker arm extension cylinder local underground mine level removal cylinder scaller arm releasing fixing pin cylinder came bumped tool used press hand tool structure equipment', 'hour end concentrate truck cleaning driver instructed close gate moment mr carlos back vehicle reported injury left hand transferred medical center attention later evacuation clinic', 'h mechanic duty section antonio observed activity withdrawal check pom moment impacted pulp line discharge stuck causing irritation right part neck ear mechanic referred medical center evaluation', 'moment collaborator carried inspection conveyor belt tail pulley height load polymer maslucan collaborator heard noise note belt moving towards tail pulley fragmentos mineral fragment projected towards access ramp impacting collaborator evacuated medical post', 'moment collaborator carried inspection conveyor belt tail pulley height load polymer maslucan collaborator heard noise note belt moving towards tail pulley fragmentos mineral fragment projected towards access ramp impacting collaborator evacuated medical post', 'circumstance worker walking along straight line level step rock approximately cm x cm bending right ankle caused injury described event occurred worker decided report accident feel pain p approximately begin feel discomfort walking progressive mild pain ankle moment communicates event', 'upon entering building maid slipped fell behind automatic door front entry mat floor wet slippery', 'employee report trying unlock cathodic sheet digger realize blade pressed cable projected hit face', 'level guide wire chamber preparation activity mix shocrete worker performs emptying bag cement towards bucket complete dosage moment dust generated cement enters lower part lens left eye causing irritation', 'mr emerson moving tray climbing staircase give access former dining room finding last step slip fall floor supporting body forward suffering blow right knee floor well nose metal tray carrying causing cut nose ematoma knee', 'circumstance worker prepared food electric pot ensuring lid fall head causing injury described', 'circumstance worker two partner placing killer bomb basket manitou team bomb hit index finger right hand basket', 'approx hour mr luis maintenance team mobile equipment adjusted bolt front loader j time face impacted key used activity producing slight cut surface face transferred medical service attended registered', 'circumstance driver plate truck w k e e impromec went garit plant chicrin nv entering internal mine area santa approx old dining room stop vehicle informs co pilot longer drive turn vehicle trying get van loses balance fall seat complaining intense pain lumbar area citing pain due overexertion due routine activity evacuation residual oil solid waste cylinder previously performed collaborator time event used corresponding epps', 'employee performed insertion adjustment joint blind flange tubing one wedge shifted causing movement flange causing rd th finger left hand pressed', 'convoy locomotive operated mr tito located hopper op positioning st car hopper assistant observe anything ordinary dry load presence water initiate chute hydraulic module hopper switched control slightly move hopper handle untimely flow water mud splash operator generating described injury addition collaborator meter line fire', 'master additive taken afo license plate towards launching team collaborator bonifacio robot assistant moment received bucket emptiness operator enoc feel drop drop additive right eye feeling burning sensation immediately go wash affected eye team eye collaborator evacuated natclar time accident employee glass using correctly', 'driver aeq plate dump truck ton heading loading area nv ob tj bp parking proceeding ore loading scoop ydrs moment lift first scoop towards hopper large bank fall causing tipper shake violently operator hit gear lever communicate supervisor evacuated medical center', 'injured collaborator time making hdpe pipe used hydraulic filling released causing one end pipe impact lip causing injury apparently support deconcentrates release little pipe action generates pipe presented rubber victa lica copla released generating impact previously described pipe empty without hydraulic load', 'circumstance ahk license plate empresa serf supervision cma carried field inspection upper bank unexpectedly climbing operational access positive ramp slide excavated area approximately meter high remaining position front part floor occupant vehicle made use safety belt complete epps', 'circumstance ahk license plate empresa serf supervision cma carried field inspection upper bank unexpectedly climbing operational access positive ramp slide excavated area approximately meter high remaining position front part floor occupant vehicle made use safety belt complete epps', 'surface comedor worker company c c made cut lemon time imprisoned knife generating movement impacting first finger left hand causing slight cut', 'employee report removing zinc sheet cathode take easel slipped hand fell hit left foot', 'execution task assembling box testimony box area bonsucesso around orlando research driller geosol trying fit two part trestle third piece fell hand piece held causing small trauma left thumb employee referred lucas hospital paracatu ltda attended released without leaving work soon', 'technician returning activity bite stepped loose rock sloping region released unbalancing employee stepped false twisting ankle', 'field activity amg project target luiz reconnaissance team boarding car parked window closed entered mr paulo putting seat belt inside vehicle pressed wasp shoulder neck causing sting believed possibly bee nailed clothes car properly closed', 'maintenance boltec level gts rampa xxx mechanic operator equipment performed test equipment magazine magazine carousel turned operator left middle finger pressed equipment frame', 'approximately approximately lifting kelly hq towards pulley frame align assistant marco later one struck hand frame generating injury', 'collaborator moved infrastructure office julio toilet pin right shoe hooked bra left shoe causing take step fall untimely causing injury described', 'environmental monitoring activity area employee surprised swarming swarm weevil exit place endured suffering two sting one face middle finger left hand', 'employee performed activity stripping cathode pulling cathode sheet hand hit side another cathode causing blunt cut nd finger left hand', 'assistant cleaned floor module e central camp slipped back immediately grabbed laundry table avoid falling floor suffering described injury']\n"
          ]
        }
      ]
    },
    {
      "cell_type": "code",
      "source": [
        "len(corpus)"
      ],
      "metadata": {
        "colab": {
          "base_uri": "https://localhost:8080/"
        },
        "id": "GCoEJKBRw8tq",
        "outputId": "60afd205-035e-49f8-e4bd-f6035370016e"
      },
      "execution_count": 73,
      "outputs": [
        {
          "output_type": "execute_result",
          "data": {
            "text/plain": [
              "425"
            ]
          },
          "metadata": {},
          "execution_count": 73
        }
      ]
    },
    {
      "cell_type": "markdown",
      "source": [
        "# N Gram analysis"
      ],
      "metadata": {
        "id": "ZuyK8g7MaKnH"
      }
    },
    {
      "cell_type": "code",
      "source": [
        "from sklearn.feature_extraction.text import CountVectorizer\n",
        "from collections import  Counter\n",
        "\n",
        "def plot_top_ngrams_barchart(text, n=2):\n",
        "    stop=set(stopwords.words('english'))\n",
        "\n",
        "    new= text.str.split()\n",
        "    new=new.values.tolist()\n",
        "    corpus=[word for i in new for word in i]\n",
        "\n",
        "    def _get_top_ngram(corpus, n=None):\n",
        "        vec = CountVectorizer(ngram_range=(n, n)).fit(corpus)\n",
        "        bag_of_words = vec.transform(corpus)\n",
        "        sum_words = bag_of_words.sum(axis=0) \n",
        "        words_freq = [(word, sum_words[0, idx]) \n",
        "                      for word, idx in vec.vocabulary_.items()]\n",
        "        words_freq =sorted(words_freq, key = lambda x: x[1], reverse=True)\n",
        "        return words_freq[:10]\n",
        "\n",
        "    top_n_bigrams=_get_top_ngram(text,n)[:10]\n",
        "    x,y=map(list,zip(*top_n_bigrams))\n",
        "    sns.barplot(x=y,y=x)\n",
        "    \n",
        "plot_top_ngrams_barchart(df_health['Description'],2)"
      ],
      "metadata": {
        "id": "zacR0hq6aHNG"
      },
      "execution_count": 74,
      "outputs": []
    },
    {
      "cell_type": "code",
      "source": [
        "plot_top_ngrams_barchart(df_health['Description'],3)"
      ],
      "metadata": {
        "id": "Pzj4iiLIaPCP"
      },
      "execution_count": 75,
      "outputs": []
    },
    {
      "cell_type": "markdown",
      "source": [
        "# TFIDF Feature\n",
        "\n"
      ],
      "metadata": {
        "id": "nOXg49a6azX-"
      }
    },
    {
      "cell_type": "code",
      "source": [
        "import os\n",
        "from sklearn.feature_extraction.text import TfidfVectorizer\n",
        "from nltk import tokenize,stem\n",
        "\n",
        "feature_df = pd.DataFrame()\n",
        "for i in [1,2,3]:\n",
        "    vec_tfidf = TfidfVectorizer(max_features=3000, norm='l2', stop_words='english', lowercase=True, use_idf=True, ngram_range=(i,i))\n",
        "    X = vec_tfidf.fit_transform(corpus).toarray()\n",
        "    tfs = pd.DataFrame(X, columns=[\"TFIDF_\" + n for n in vec_tfidf.get_feature_names()])\n",
        "    feature_df = pd.concat([feature_df, tfs], axis=1)\n",
        "feature_df = pd.concat([df_health, feature_df], axis=1)\n",
        "feature_df.head(3)\n",
        "X.shape"
      ],
      "metadata": {
        "colab": {
          "base_uri": "https://localhost:8080/"
        },
        "id": "kgOT80bsatlB",
        "outputId": "3337d2aa-4e5e-4314-9955-4511bd13a6fd"
      },
      "execution_count": 76,
      "outputs": [
        {
          "output_type": "execute_result",
          "data": {
            "text/plain": [
              "(425, 3000)"
            ]
          },
          "metadata": {},
          "execution_count": 76
        }
      ]
    },
    {
      "cell_type": "code",
      "source": [
        "feature_df.head(3)\n"
      ],
      "metadata": {
        "colab": {
          "base_uri": "https://localhost:8080/",
          "height": 462
        },
        "id": "ou5KoHJGtX29",
        "outputId": "0e6313d0-f10b-4fbd-db29-2210e041c256"
      },
      "execution_count": 77,
      "outputs": [
        {
          "output_type": "execute_result",
          "data": {
            "text/plain": [
              "        Date     Country  Local Industry Sector  Accident Level  \\\n",
              "0 2016-01-01  Country_01      1          Mining               1   \n",
              "1 2016-01-02  Country_02      2          Mining               1   \n",
              "2 2016-01-06  Country_01      3          Mining               1   \n",
              "\n",
              "   Potential Accident Level Gender         Employee Type        Critical Risk  \\\n",
              "0                         4   Male           Third Party              Pressed   \n",
              "1                         4   Male              Employee  Pressurized Systems   \n",
              "2                         3   Male  Third Party (Remote)         Manual Tools   \n",
              "\n",
              "                                         Description  ...  \\\n",
              "0  While removing the drill rod of the Jumbo 08 f...  ...   \n",
              "1  During the activation of a sodium sulphide pum...  ...   \n",
              "2  In the sub-station MILPO located at level +170...  ...   \n",
              "\n",
              "   TFIDF_zinc sheet adhered  TFIDF_zinc sheet cathode  TFIDF_zinc stuck enter  \\\n",
              "0                       0.0                       0.0                     0.0   \n",
              "1                       0.0                       0.0                     0.0   \n",
              "2                       0.0                       0.0                     0.0   \n",
              "\n",
              "  TFIDF_zinco rotary table  TFIDF_zn ingot struck TFIDF_zn sheet lifting  \\\n",
              "0                      0.0                    0.0                    0.0   \n",
              "1                      0.0                    0.0                    0.0   \n",
              "2                      0.0                    0.0                    0.0   \n",
              "\n",
              "   TFIDF_zone intersection rpa  TFIDF_zone lifting container  \\\n",
              "0                          0.0                           0.0   \n",
              "1                          0.0                           0.0   \n",
              "2                          0.0                           0.0   \n",
              "\n",
              "   TFIDF_zone moment bricklayer  TFIDF_zone supervise work  \n",
              "0                           0.0                        0.0  \n",
              "1                           0.0                        0.0  \n",
              "2                           0.0                        0.0  \n",
              "\n",
              "[3 rows x 8713 columns]"
            ],
            "text/html": [
              "\n",
              "  <div id=\"df-0d7f97ee-ce6c-414a-9a55-3327adbbc0b5\">\n",
              "    <div class=\"colab-df-container\">\n",
              "      <div>\n",
              "<style scoped>\n",
              "    .dataframe tbody tr th:only-of-type {\n",
              "        vertical-align: middle;\n",
              "    }\n",
              "\n",
              "    .dataframe tbody tr th {\n",
              "        vertical-align: top;\n",
              "    }\n",
              "\n",
              "    .dataframe thead th {\n",
              "        text-align: right;\n",
              "    }\n",
              "</style>\n",
              "<table border=\"1\" class=\"dataframe\">\n",
              "  <thead>\n",
              "    <tr style=\"text-align: right;\">\n",
              "      <th></th>\n",
              "      <th>Date</th>\n",
              "      <th>Country</th>\n",
              "      <th>Local</th>\n",
              "      <th>Industry Sector</th>\n",
              "      <th>Accident Level</th>\n",
              "      <th>Potential Accident Level</th>\n",
              "      <th>Gender</th>\n",
              "      <th>Employee Type</th>\n",
              "      <th>Critical Risk</th>\n",
              "      <th>Description</th>\n",
              "      <th>...</th>\n",
              "      <th>TFIDF_zinc sheet adhered</th>\n",
              "      <th>TFIDF_zinc sheet cathode</th>\n",
              "      <th>TFIDF_zinc stuck enter</th>\n",
              "      <th>TFIDF_zinco rotary table</th>\n",
              "      <th>TFIDF_zn ingot struck</th>\n",
              "      <th>TFIDF_zn sheet lifting</th>\n",
              "      <th>TFIDF_zone intersection rpa</th>\n",
              "      <th>TFIDF_zone lifting container</th>\n",
              "      <th>TFIDF_zone moment bricklayer</th>\n",
              "      <th>TFIDF_zone supervise work</th>\n",
              "    </tr>\n",
              "  </thead>\n",
              "  <tbody>\n",
              "    <tr>\n",
              "      <th>0</th>\n",
              "      <td>2016-01-01</td>\n",
              "      <td>Country_01</td>\n",
              "      <td>1</td>\n",
              "      <td>Mining</td>\n",
              "      <td>1</td>\n",
              "      <td>4</td>\n",
              "      <td>Male</td>\n",
              "      <td>Third Party</td>\n",
              "      <td>Pressed</td>\n",
              "      <td>While removing the drill rod of the Jumbo 08 f...</td>\n",
              "      <td>...</td>\n",
              "      <td>0.0</td>\n",
              "      <td>0.0</td>\n",
              "      <td>0.0</td>\n",
              "      <td>0.0</td>\n",
              "      <td>0.0</td>\n",
              "      <td>0.0</td>\n",
              "      <td>0.0</td>\n",
              "      <td>0.0</td>\n",
              "      <td>0.0</td>\n",
              "      <td>0.0</td>\n",
              "    </tr>\n",
              "    <tr>\n",
              "      <th>1</th>\n",
              "      <td>2016-01-02</td>\n",
              "      <td>Country_02</td>\n",
              "      <td>2</td>\n",
              "      <td>Mining</td>\n",
              "      <td>1</td>\n",
              "      <td>4</td>\n",
              "      <td>Male</td>\n",
              "      <td>Employee</td>\n",
              "      <td>Pressurized Systems</td>\n",
              "      <td>During the activation of a sodium sulphide pum...</td>\n",
              "      <td>...</td>\n",
              "      <td>0.0</td>\n",
              "      <td>0.0</td>\n",
              "      <td>0.0</td>\n",
              "      <td>0.0</td>\n",
              "      <td>0.0</td>\n",
              "      <td>0.0</td>\n",
              "      <td>0.0</td>\n",
              "      <td>0.0</td>\n",
              "      <td>0.0</td>\n",
              "      <td>0.0</td>\n",
              "    </tr>\n",
              "    <tr>\n",
              "      <th>2</th>\n",
              "      <td>2016-01-06</td>\n",
              "      <td>Country_01</td>\n",
              "      <td>3</td>\n",
              "      <td>Mining</td>\n",
              "      <td>1</td>\n",
              "      <td>3</td>\n",
              "      <td>Male</td>\n",
              "      <td>Third Party (Remote)</td>\n",
              "      <td>Manual Tools</td>\n",
              "      <td>In the sub-station MILPO located at level +170...</td>\n",
              "      <td>...</td>\n",
              "      <td>0.0</td>\n",
              "      <td>0.0</td>\n",
              "      <td>0.0</td>\n",
              "      <td>0.0</td>\n",
              "      <td>0.0</td>\n",
              "      <td>0.0</td>\n",
              "      <td>0.0</td>\n",
              "      <td>0.0</td>\n",
              "      <td>0.0</td>\n",
              "      <td>0.0</td>\n",
              "    </tr>\n",
              "  </tbody>\n",
              "</table>\n",
              "<p>3 rows × 8713 columns</p>\n",
              "</div>\n",
              "      <button class=\"colab-df-convert\" onclick=\"convertToInteractive('df-0d7f97ee-ce6c-414a-9a55-3327adbbc0b5')\"\n",
              "              title=\"Convert this dataframe to an interactive table.\"\n",
              "              style=\"display:none;\">\n",
              "        \n",
              "  <svg xmlns=\"http://www.w3.org/2000/svg\" height=\"24px\"viewBox=\"0 0 24 24\"\n",
              "       width=\"24px\">\n",
              "    <path d=\"M0 0h24v24H0V0z\" fill=\"none\"/>\n",
              "    <path d=\"M18.56 5.44l.94 2.06.94-2.06 2.06-.94-2.06-.94-.94-2.06-.94 2.06-2.06.94zm-11 1L8.5 8.5l.94-2.06 2.06-.94-2.06-.94L8.5 2.5l-.94 2.06-2.06.94zm10 10l.94 2.06.94-2.06 2.06-.94-2.06-.94-.94-2.06-.94 2.06-2.06.94z\"/><path d=\"M17.41 7.96l-1.37-1.37c-.4-.4-.92-.59-1.43-.59-.52 0-1.04.2-1.43.59L10.3 9.45l-7.72 7.72c-.78.78-.78 2.05 0 2.83L4 21.41c.39.39.9.59 1.41.59.51 0 1.02-.2 1.41-.59l7.78-7.78 2.81-2.81c.8-.78.8-2.07 0-2.86zM5.41 20L4 18.59l7.72-7.72 1.47 1.35L5.41 20z\"/>\n",
              "  </svg>\n",
              "      </button>\n",
              "      \n",
              "  <style>\n",
              "    .colab-df-container {\n",
              "      display:flex;\n",
              "      flex-wrap:wrap;\n",
              "      gap: 12px;\n",
              "    }\n",
              "\n",
              "    .colab-df-convert {\n",
              "      background-color: #E8F0FE;\n",
              "      border: none;\n",
              "      border-radius: 50%;\n",
              "      cursor: pointer;\n",
              "      display: none;\n",
              "      fill: #1967D2;\n",
              "      height: 32px;\n",
              "      padding: 0 0 0 0;\n",
              "      width: 32px;\n",
              "    }\n",
              "\n",
              "    .colab-df-convert:hover {\n",
              "      background-color: #E2EBFA;\n",
              "      box-shadow: 0px 1px 2px rgba(60, 64, 67, 0.3), 0px 1px 3px 1px rgba(60, 64, 67, 0.15);\n",
              "      fill: #174EA6;\n",
              "    }\n",
              "\n",
              "    [theme=dark] .colab-df-convert {\n",
              "      background-color: #3B4455;\n",
              "      fill: #D2E3FC;\n",
              "    }\n",
              "\n",
              "    [theme=dark] .colab-df-convert:hover {\n",
              "      background-color: #434B5C;\n",
              "      box-shadow: 0px 1px 3px 1px rgba(0, 0, 0, 0.15);\n",
              "      filter: drop-shadow(0px 1px 2px rgba(0, 0, 0, 0.3));\n",
              "      fill: #FFFFFF;\n",
              "    }\n",
              "  </style>\n",
              "\n",
              "      <script>\n",
              "        const buttonEl =\n",
              "          document.querySelector('#df-0d7f97ee-ce6c-414a-9a55-3327adbbc0b5 button.colab-df-convert');\n",
              "        buttonEl.style.display =\n",
              "          google.colab.kernel.accessAllowed ? 'block' : 'none';\n",
              "\n",
              "        async function convertToInteractive(key) {\n",
              "          const element = document.querySelector('#df-0d7f97ee-ce6c-414a-9a55-3327adbbc0b5');\n",
              "          const dataTable =\n",
              "            await google.colab.kernel.invokeFunction('convertToInteractive',\n",
              "                                                     [key], {});\n",
              "          if (!dataTable) return;\n",
              "\n",
              "          const docLinkHtml = 'Like what you see? Visit the ' +\n",
              "            '<a target=\"_blank\" href=https://colab.research.google.com/notebooks/data_table.ipynb>data table notebook</a>'\n",
              "            + ' to learn more about interactive tables.';\n",
              "          element.innerHTML = '';\n",
              "          dataTable['output_type'] = 'display_data';\n",
              "          await google.colab.output.renderOutput(dataTable, element);\n",
              "          const docLink = document.createElement('div');\n",
              "          docLink.innerHTML = docLinkHtml;\n",
              "          element.appendChild(docLink);\n",
              "        }\n",
              "      </script>\n",
              "    </div>\n",
              "  </div>\n",
              "  "
            ]
          },
          "metadata": {},
          "execution_count": 77
        }
      ]
    },
    {
      "cell_type": "code",
      "source": [
        "X"
      ],
      "metadata": {
        "colab": {
          "base_uri": "https://localhost:8080/"
        },
        "id": "p-vsjdnotbc0",
        "outputId": "6e55799f-0332-46ce-920e-d35d97655b2c"
      },
      "execution_count": 78,
      "outputs": [
        {
          "output_type": "execute_result",
          "data": {
            "text/plain": [
              "array([[0., 0., 0., ..., 0., 0., 0.],\n",
              "       [0., 0., 0., ..., 0., 0., 0.],\n",
              "       [0., 0., 0., ..., 0., 0., 0.],\n",
              "       ...,\n",
              "       [0., 0., 0., ..., 0., 0., 0.],\n",
              "       [0., 0., 0., ..., 0., 0., 0.],\n",
              "       [0., 0., 0., ..., 0., 0., 0.]])"
            ]
          },
          "metadata": {},
          "execution_count": 78
        }
      ]
    },
    {
      "cell_type": "code",
      "source": [
        "from sklearn.model_selection import train_test_split\n",
        "from sklearn.preprocessing import LabelEncoder\n",
        "from sklearn.metrics import accuracy_score, f1_score, roc_auc_score\n",
        "\n",
        "\n",
        "feature_df['Country'] = LabelEncoder().fit_transform(feature_df['Country']).astype(np.int8)\n",
        "feature_df['Local'] = LabelEncoder().fit_transform(feature_df['Local']).astype(np.int8)\n",
        "feature_df['Industry Sector'] = LabelEncoder().fit_transform(feature_df['Industry Sector']).astype(np.int8)\n",
        "feature_df['Accident Level'] = LabelEncoder().fit_transform(feature_df['Accident Level']).astype(np.int8)\n",
        "feature_df['Potential Accident Level'] = LabelEncoder().fit_transform(feature_df['Potential Accident Level']).astype(np.int8)\n",
        "feature_df['Gender'] = LabelEncoder().fit_transform(feature_df['Gender']).astype(np.int8)\n",
        "feature_df['Employee Type'] = LabelEncoder().fit_transform(feature_df['Employee Type']).astype(np.int8)\n",
        "feature_df['Critical Risk'] = LabelEncoder().fit_transform(feature_df['Critical Risk']).astype(np.int8)\n",
        "feature_df['Weekday'] = LabelEncoder().fit_transform(feature_df['Weekday']).astype(np.int8)\n",
        "feature_df['Quarter'] = LabelEncoder().fit_transform(feature_df['Quarter']).astype(np.int8)\n",
        "feature_df.drop(['Date','Description', 'Description'],axis=1,inplace=True)\n",
        "feature_df.head(3)"
      ],
      "metadata": {
        "colab": {
          "base_uri": "https://localhost:8080/",
          "height": 271
        },
        "id": "HfOokebBa12a",
        "outputId": "753f9bcf-29df-4b74-f4d7-8208e04f5fe9"
      },
      "execution_count": 79,
      "outputs": [
        {
          "output_type": "execute_result",
          "data": {
            "text/plain": [
              "   Country  Local  Industry Sector  Accident Level  Potential Accident Level  \\\n",
              "0        0      0                1               0                         3   \n",
              "1        1      1                1               0                         3   \n",
              "2        0      2                1               0                         2   \n",
              "\n",
              "   Gender  Employee Type  Critical Risk  Year  Month  ...  \\\n",
              "0       1              1             20  2016      1  ...   \n",
              "1       1              0             21  2016      1  ...   \n",
              "2       1              2             15  2016      1  ...   \n",
              "\n",
              "   TFIDF_zinc sheet adhered  TFIDF_zinc sheet cathode  TFIDF_zinc stuck enter  \\\n",
              "0                       0.0                       0.0                     0.0   \n",
              "1                       0.0                       0.0                     0.0   \n",
              "2                       0.0                       0.0                     0.0   \n",
              "\n",
              "   TFIDF_zinco rotary table  TFIDF_zn ingot struck  TFIDF_zn sheet lifting  \\\n",
              "0                       0.0                    0.0                     0.0   \n",
              "1                       0.0                    0.0                     0.0   \n",
              "2                       0.0                    0.0                     0.0   \n",
              "\n",
              "   TFIDF_zone intersection rpa  TFIDF_zone lifting container  \\\n",
              "0                          0.0                           0.0   \n",
              "1                          0.0                           0.0   \n",
              "2                          0.0                           0.0   \n",
              "\n",
              "   TFIDF_zone moment bricklayer  TFIDF_zone supervise work  \n",
              "0                           0.0                        0.0  \n",
              "1                           0.0                        0.0  \n",
              "2                           0.0                        0.0  \n",
              "\n",
              "[3 rows x 8711 columns]"
            ],
            "text/html": [
              "\n",
              "  <div id=\"df-ab48c238-47a7-4ca9-9ac2-a950b7d16d50\">\n",
              "    <div class=\"colab-df-container\">\n",
              "      <div>\n",
              "<style scoped>\n",
              "    .dataframe tbody tr th:only-of-type {\n",
              "        vertical-align: middle;\n",
              "    }\n",
              "\n",
              "    .dataframe tbody tr th {\n",
              "        vertical-align: top;\n",
              "    }\n",
              "\n",
              "    .dataframe thead th {\n",
              "        text-align: right;\n",
              "    }\n",
              "</style>\n",
              "<table border=\"1\" class=\"dataframe\">\n",
              "  <thead>\n",
              "    <tr style=\"text-align: right;\">\n",
              "      <th></th>\n",
              "      <th>Country</th>\n",
              "      <th>Local</th>\n",
              "      <th>Industry Sector</th>\n",
              "      <th>Accident Level</th>\n",
              "      <th>Potential Accident Level</th>\n",
              "      <th>Gender</th>\n",
              "      <th>Employee Type</th>\n",
              "      <th>Critical Risk</th>\n",
              "      <th>Year</th>\n",
              "      <th>Month</th>\n",
              "      <th>...</th>\n",
              "      <th>TFIDF_zinc sheet adhered</th>\n",
              "      <th>TFIDF_zinc sheet cathode</th>\n",
              "      <th>TFIDF_zinc stuck enter</th>\n",
              "      <th>TFIDF_zinco rotary table</th>\n",
              "      <th>TFIDF_zn ingot struck</th>\n",
              "      <th>TFIDF_zn sheet lifting</th>\n",
              "      <th>TFIDF_zone intersection rpa</th>\n",
              "      <th>TFIDF_zone lifting container</th>\n",
              "      <th>TFIDF_zone moment bricklayer</th>\n",
              "      <th>TFIDF_zone supervise work</th>\n",
              "    </tr>\n",
              "  </thead>\n",
              "  <tbody>\n",
              "    <tr>\n",
              "      <th>0</th>\n",
              "      <td>0</td>\n",
              "      <td>0</td>\n",
              "      <td>1</td>\n",
              "      <td>0</td>\n",
              "      <td>3</td>\n",
              "      <td>1</td>\n",
              "      <td>1</td>\n",
              "      <td>20</td>\n",
              "      <td>2016</td>\n",
              "      <td>1</td>\n",
              "      <td>...</td>\n",
              "      <td>0.0</td>\n",
              "      <td>0.0</td>\n",
              "      <td>0.0</td>\n",
              "      <td>0.0</td>\n",
              "      <td>0.0</td>\n",
              "      <td>0.0</td>\n",
              "      <td>0.0</td>\n",
              "      <td>0.0</td>\n",
              "      <td>0.0</td>\n",
              "      <td>0.0</td>\n",
              "    </tr>\n",
              "    <tr>\n",
              "      <th>1</th>\n",
              "      <td>1</td>\n",
              "      <td>1</td>\n",
              "      <td>1</td>\n",
              "      <td>0</td>\n",
              "      <td>3</td>\n",
              "      <td>1</td>\n",
              "      <td>0</td>\n",
              "      <td>21</td>\n",
              "      <td>2016</td>\n",
              "      <td>1</td>\n",
              "      <td>...</td>\n",
              "      <td>0.0</td>\n",
              "      <td>0.0</td>\n",
              "      <td>0.0</td>\n",
              "      <td>0.0</td>\n",
              "      <td>0.0</td>\n",
              "      <td>0.0</td>\n",
              "      <td>0.0</td>\n",
              "      <td>0.0</td>\n",
              "      <td>0.0</td>\n",
              "      <td>0.0</td>\n",
              "    </tr>\n",
              "    <tr>\n",
              "      <th>2</th>\n",
              "      <td>0</td>\n",
              "      <td>2</td>\n",
              "      <td>1</td>\n",
              "      <td>0</td>\n",
              "      <td>2</td>\n",
              "      <td>1</td>\n",
              "      <td>2</td>\n",
              "      <td>15</td>\n",
              "      <td>2016</td>\n",
              "      <td>1</td>\n",
              "      <td>...</td>\n",
              "      <td>0.0</td>\n",
              "      <td>0.0</td>\n",
              "      <td>0.0</td>\n",
              "      <td>0.0</td>\n",
              "      <td>0.0</td>\n",
              "      <td>0.0</td>\n",
              "      <td>0.0</td>\n",
              "      <td>0.0</td>\n",
              "      <td>0.0</td>\n",
              "      <td>0.0</td>\n",
              "    </tr>\n",
              "  </tbody>\n",
              "</table>\n",
              "<p>3 rows × 8711 columns</p>\n",
              "</div>\n",
              "      <button class=\"colab-df-convert\" onclick=\"convertToInteractive('df-ab48c238-47a7-4ca9-9ac2-a950b7d16d50')\"\n",
              "              title=\"Convert this dataframe to an interactive table.\"\n",
              "              style=\"display:none;\">\n",
              "        \n",
              "  <svg xmlns=\"http://www.w3.org/2000/svg\" height=\"24px\"viewBox=\"0 0 24 24\"\n",
              "       width=\"24px\">\n",
              "    <path d=\"M0 0h24v24H0V0z\" fill=\"none\"/>\n",
              "    <path d=\"M18.56 5.44l.94 2.06.94-2.06 2.06-.94-2.06-.94-.94-2.06-.94 2.06-2.06.94zm-11 1L8.5 8.5l.94-2.06 2.06-.94-2.06-.94L8.5 2.5l-.94 2.06-2.06.94zm10 10l.94 2.06.94-2.06 2.06-.94-2.06-.94-.94-2.06-.94 2.06-2.06.94z\"/><path d=\"M17.41 7.96l-1.37-1.37c-.4-.4-.92-.59-1.43-.59-.52 0-1.04.2-1.43.59L10.3 9.45l-7.72 7.72c-.78.78-.78 2.05 0 2.83L4 21.41c.39.39.9.59 1.41.59.51 0 1.02-.2 1.41-.59l7.78-7.78 2.81-2.81c.8-.78.8-2.07 0-2.86zM5.41 20L4 18.59l7.72-7.72 1.47 1.35L5.41 20z\"/>\n",
              "  </svg>\n",
              "      </button>\n",
              "      \n",
              "  <style>\n",
              "    .colab-df-container {\n",
              "      display:flex;\n",
              "      flex-wrap:wrap;\n",
              "      gap: 12px;\n",
              "    }\n",
              "\n",
              "    .colab-df-convert {\n",
              "      background-color: #E8F0FE;\n",
              "      border: none;\n",
              "      border-radius: 50%;\n",
              "      cursor: pointer;\n",
              "      display: none;\n",
              "      fill: #1967D2;\n",
              "      height: 32px;\n",
              "      padding: 0 0 0 0;\n",
              "      width: 32px;\n",
              "    }\n",
              "\n",
              "    .colab-df-convert:hover {\n",
              "      background-color: #E2EBFA;\n",
              "      box-shadow: 0px 1px 2px rgba(60, 64, 67, 0.3), 0px 1px 3px 1px rgba(60, 64, 67, 0.15);\n",
              "      fill: #174EA6;\n",
              "    }\n",
              "\n",
              "    [theme=dark] .colab-df-convert {\n",
              "      background-color: #3B4455;\n",
              "      fill: #D2E3FC;\n",
              "    }\n",
              "\n",
              "    [theme=dark] .colab-df-convert:hover {\n",
              "      background-color: #434B5C;\n",
              "      box-shadow: 0px 1px 3px 1px rgba(0, 0, 0, 0.15);\n",
              "      filter: drop-shadow(0px 1px 2px rgba(0, 0, 0, 0.3));\n",
              "      fill: #FFFFFF;\n",
              "    }\n",
              "  </style>\n",
              "\n",
              "      <script>\n",
              "        const buttonEl =\n",
              "          document.querySelector('#df-ab48c238-47a7-4ca9-9ac2-a950b7d16d50 button.colab-df-convert');\n",
              "        buttonEl.style.display =\n",
              "          google.colab.kernel.accessAllowed ? 'block' : 'none';\n",
              "\n",
              "        async function convertToInteractive(key) {\n",
              "          const element = document.querySelector('#df-ab48c238-47a7-4ca9-9ac2-a950b7d16d50');\n",
              "          const dataTable =\n",
              "            await google.colab.kernel.invokeFunction('convertToInteractive',\n",
              "                                                     [key], {});\n",
              "          if (!dataTable) return;\n",
              "\n",
              "          const docLinkHtml = 'Like what you see? Visit the ' +\n",
              "            '<a target=\"_blank\" href=https://colab.research.google.com/notebooks/data_table.ipynb>data table notebook</a>'\n",
              "            + ' to learn more about interactive tables.';\n",
              "          element.innerHTML = '';\n",
              "          dataTable['output_type'] = 'display_data';\n",
              "          await google.colab.output.renderOutput(dataTable, element);\n",
              "          const docLink = document.createElement('div');\n",
              "          docLink.innerHTML = docLinkHtml;\n",
              "          element.appendChild(docLink);\n",
              "        }\n",
              "      </script>\n",
              "    </div>\n",
              "  </div>\n",
              "  "
            ]
          },
          "metadata": {},
          "execution_count": 79
        }
      ]
    },
    {
      "cell_type": "code",
      "source": [
        "corre_values_target=feature_df.corr()['Potential Accident Level']\n",
        "TFIDF = pd.DataFrame(corre_values_target.sort_values(ascending=False))\n"
      ],
      "metadata": {
        "id": "PAd-KI1Vsg8t"
      },
      "execution_count": 80,
      "outputs": []
    },
    {
      "cell_type": "code",
      "source": [
        "print(TFIDF)"
      ],
      "metadata": {
        "colab": {
          "base_uri": "https://localhost:8080/"
        },
        "id": "mbANN_SnuuWx",
        "outputId": "7b6891fb-e877-402d-89a6-130633ae4129"
      },
      "execution_count": 81,
      "outputs": [
        {
          "output_type": "stream",
          "name": "stdout",
          "text": [
            "                          Potential Accident Level\n",
            "Potential Accident Level                  1.000000\n",
            "Accident Level                            0.502704\n",
            "TFIDF_operator                            0.236865\n",
            "TFIDF_block                               0.175690\n",
            "TFIDF_height                              0.174325\n",
            "...                                            ...\n",
            "TFIDF_reaction                           -0.303132\n",
            "TFIDF_allergic                           -0.311660\n",
            "TFIDF_sting                              -0.319689\n",
            "Country                                  -0.400094\n",
            "Local                                    -0.441603\n",
            "\n",
            "[8711 rows x 1 columns]\n"
          ]
        }
      ]
    },
    {
      "cell_type": "markdown",
      "source": [
        "#Model training"
      ],
      "metadata": {
        "id": "s2PIbYSrvHV4"
      }
    },
    {
      "cell_type": "markdown",
      "source": [
        "##**• Perform train-test split**"
      ],
      "metadata": {
        "id": "TMiq_fvv_ERB"
      }
    },
    {
      "cell_type": "code",
      "source": [
        "X = feature_df.drop(['Accident Level','Potential Accident Level'], axis = 1) # Considering all Predictors\n",
        "y = feature_df['Potential Accident Level']"
      ],
      "metadata": {
        "id": "6pAYLHtyirLm"
      },
      "execution_count": 82,
      "outputs": []
    },
    {
      "cell_type": "code",
      "source": [
        "#y=y.iloc[:1].values"
      ],
      "metadata": {
        "id": "vXXipbH2xWP5"
      },
      "execution_count": null,
      "outputs": []
    },
    {
      "cell_type": "code",
      "source": [
        "X_train, X_test, y_train, y_test = train_test_split(X, y, test_size = 0.20, random_state = 1)"
      ],
      "metadata": {
        "id": "9IqJJzXuvZC_"
      },
      "execution_count": 83,
      "outputs": []
    },
    {
      "cell_type": "markdown",
      "source": [
        "Following is the shape of Features(X) and Labels(y) for Training and Testing"
      ],
      "metadata": {
        "id": "N9G2v9za-plv"
      }
    },
    {
      "cell_type": "code",
      "source": [
        "print(X_train.shape)\n",
        "print(y_train.shape)"
      ],
      "metadata": {
        "colab": {
          "base_uri": "https://localhost:8080/"
        },
        "id": "Fj9KruUln11_",
        "outputId": "e690ad2b-a8bb-41be-9bdc-c2df03dadbff"
      },
      "execution_count": 84,
      "outputs": [
        {
          "output_type": "stream",
          "name": "stdout",
          "text": [
            "(340, 8709)\n",
            "(340,)\n"
          ]
        }
      ]
    },
    {
      "cell_type": "code",
      "source": [
        "print(X_test.shape)\n",
        "print(y_test.shape)"
      ],
      "metadata": {
        "colab": {
          "base_uri": "https://localhost:8080/"
        },
        "id": "HMqqxEmmn1_y",
        "outputId": "6c26a197-efb0-4cef-c955-d3e92ef399df"
      },
      "execution_count": 85,
      "outputs": [
        {
          "output_type": "stream",
          "name": "stdout",
          "text": [
            "(85, 8709)\n",
            "(85,)\n"
          ]
        }
      ]
    },
    {
      "cell_type": "markdown",
      "source": [
        "#**Model 1:Naive Bayes**"
      ],
      "metadata": {
        "id": "YEpfe_4yflnr"
      }
    },
    {
      "cell_type": "code",
      "source": [
        "mnb = MultinomialNB()\n",
        "NB_model = mnb.fit(X_train,y_train)\n",
        "nb_y_pred=NB_model.predict(X_test)"
      ],
      "metadata": {
        "id": "NOO6QktCw9HL"
      },
      "execution_count": 86,
      "outputs": []
    },
    {
      "cell_type": "code",
      "source": [
        "NB_train_score=NB_model.score(X_train,y_train)\n",
        "print(NB_train_score)\n",
        "NB_test_score=NB_model.score(X_test,y_test)\n",
        "print(NB_test_score)"
      ],
      "metadata": {
        "colab": {
          "base_uri": "https://localhost:8080/"
        },
        "id": "6kUncwD9ejZP",
        "outputId": "30bccea1-a3bf-494f-a517-7ddb6ff7e7b4"
      },
      "execution_count": 87,
      "outputs": [
        {
          "output_type": "stream",
          "name": "stdout",
          "text": [
            "0.3235294117647059\n",
            "0.38823529411764707\n"
          ]
        }
      ]
    },
    {
      "cell_type": "code",
      "source": [
        "NBacc=round(accuracy_score(y_test,nb_y_pred)*100,2)\n",
        "print('Test Accuracy Score : % :',NBacc)\n",
        "precNB=precision_score(y_test,nb_y_pred,average='micro')\n",
        "print('Precision Score',precNB)\n",
        "f1NB=f1_score(y_test,nb_y_pred,average='micro')\n",
        "print('F1 Score :',f1NB)\n",
        "recallNB=recall_score(y_test,nb_y_pred,average='micro')\n",
        "print('Recall Score:',recallNB)"
      ],
      "metadata": {
        "id": "ONXJj3CkyRwb",
        "colab": {
          "base_uri": "https://localhost:8080/"
        },
        "outputId": "52b4c2cf-aa04-40d7-ce97-0123eea896e0"
      },
      "execution_count": 88,
      "outputs": [
        {
          "output_type": "stream",
          "name": "stdout",
          "text": [
            "Test Accuracy Score : % : 38.82\n",
            "Precision Score 0.38823529411764707\n",
            "F1 Score : 0.38823529411764707\n",
            "Recall Score: 0.38823529411764707\n"
          ]
        }
      ]
    },
    {
      "cell_type": "code",
      "source": [
        "print(classification_report(y_test,nb_y_pred))"
      ],
      "metadata": {
        "colab": {
          "base_uri": "https://localhost:8080/"
        },
        "id": "mI_6pWxUYXQo",
        "outputId": "5d741601-cb96-4e73-b3c5-2c26999537be"
      },
      "execution_count": 89,
      "outputs": [
        {
          "output_type": "stream",
          "name": "stdout",
          "text": [
            "              precision    recall  f1-score   support\n",
            "\n",
            "           0       0.00      0.00      0.00        10\n",
            "           1       0.00      0.00      0.00        25\n",
            "           2       0.00      0.00      0.00        14\n",
            "           3       0.39      1.00      0.56        33\n",
            "           4       0.00      0.00      0.00         3\n",
            "\n",
            "    accuracy                           0.39        85\n",
            "   macro avg       0.08      0.20      0.11        85\n",
            "weighted avg       0.15      0.39      0.22        85\n",
            "\n"
          ]
        }
      ]
    },
    {
      "cell_type": "code",
      "source": [
        "confusn_m_NB= confusion_matrix(y_test,nb_y_pred)\n",
        "print(confusn_m_NB)"
      ],
      "metadata": {
        "id": "cdkUtZlWyYL1",
        "colab": {
          "base_uri": "https://localhost:8080/"
        },
        "outputId": "c4dd08c6-27ca-407c-8764-1d2e585f4b28"
      },
      "execution_count": 90,
      "outputs": [
        {
          "output_type": "stream",
          "name": "stdout",
          "text": [
            "[[ 0  0  0 10  0]\n",
            " [ 0  0  0 25  0]\n",
            " [ 0  0  0 14  0]\n",
            " [ 0  0  0 33  0]\n",
            " [ 0  0  0  3  0]]\n"
          ]
        }
      ]
    },
    {
      "cell_type": "markdown",
      "source": [
        "#**Model 2: Logistic Regression**"
      ],
      "metadata": {
        "id": "TIP6x9V_y99m"
      }
    },
    {
      "cell_type": "code",
      "source": [
        "LoR1=LogisticRegression(solver='liblinear')\n",
        "LoR1.fit(X_train,y_train)\n",
        "y_pred_LoR1=LoR1.predict(X_test)"
      ],
      "metadata": {
        "id": "8GIUf5CkzEXO"
      },
      "execution_count": 91,
      "outputs": []
    },
    {
      "cell_type": "code",
      "source": [
        "#Model score or accuracy of logistic regression model\n",
        "LoR_train_score=LoR1.score(X_train,y_train)\n",
        "print(LoR_train_score)\n",
        "\n",
        "LoR_test_score=LoR1.score(X_test,y_test)\n",
        "print(LoR_test_score)"
      ],
      "metadata": {
        "colab": {
          "base_uri": "https://localhost:8080/"
        },
        "id": "Uyyy7gRCzEZz",
        "outputId": "d659bc32-f628-447d-d933-def8e085c34c"
      },
      "execution_count": 92,
      "outputs": [
        {
          "output_type": "stream",
          "name": "stdout",
          "text": [
            "0.9647058823529412\n",
            "0.5764705882352941\n"
          ]
        }
      ]
    },
    {
      "cell_type": "code",
      "source": [
        "LRacc=round(accuracy_score(y_test,y_pred_LoR1)*100,2)\n",
        "print('Test Accuracy Score : % :',LRacc)\n",
        "precLR=precision_score(y_test,y_pred_LoR1,average='micro')\n",
        "print('Precision Score',precLR)\n",
        "f1LR=f1_score(y_test,y_pred_LoR1,average='micro')\n",
        "print('F1 Score :',f1LR)\n",
        "recallLR=recall_score(y_test,y_pred_LoR1,average='micro')\n",
        "print('Recall Score:',recallLR)"
      ],
      "metadata": {
        "colab": {
          "base_uri": "https://localhost:8080/"
        },
        "id": "n3MPleKx2Oev",
        "outputId": "1252a106-f047-4530-cd35-9b9b8922b8ba"
      },
      "execution_count": 93,
      "outputs": [
        {
          "output_type": "stream",
          "name": "stdout",
          "text": [
            "Test Accuracy Score : % : 57.65\n",
            "Precision Score 0.5764705882352941\n",
            "F1 Score : 0.5764705882352941\n",
            "Recall Score: 0.5764705882352941\n"
          ]
        }
      ]
    },
    {
      "cell_type": "code",
      "source": [
        "print(classification_report(y_test,y_pred_LoR1))"
      ],
      "metadata": {
        "colab": {
          "base_uri": "https://localhost:8080/"
        },
        "id": "lVR8tVff2Ohj",
        "outputId": "8826584e-5f4b-42b8-f8ed-273a37648570"
      },
      "execution_count": 94,
      "outputs": [
        {
          "output_type": "stream",
          "name": "stdout",
          "text": [
            "              precision    recall  f1-score   support\n",
            "\n",
            "           0       0.62      0.80      0.70        10\n",
            "           1       0.75      0.36      0.49        25\n",
            "           2       0.38      0.57      0.46        14\n",
            "           3       0.62      0.73      0.67        33\n",
            "           4       0.00      0.00      0.00         3\n",
            "\n",
            "    accuracy                           0.58        85\n",
            "   macro avg       0.47      0.49      0.46        85\n",
            "weighted avg       0.59      0.58      0.56        85\n",
            "\n"
          ]
        }
      ]
    },
    {
      "cell_type": "code",
      "source": [
        "confusn_m_LR = confusion_matrix(y_test,y_pred_LoR1)\n",
        "print(confusn_m_LR)"
      ],
      "metadata": {
        "colab": {
          "base_uri": "https://localhost:8080/"
        },
        "id": "o_JvKGPH2Okh",
        "outputId": "10af4188-b0f4-4a70-d460-91aede60645c"
      },
      "execution_count": 95,
      "outputs": [
        {
          "output_type": "stream",
          "name": "stdout",
          "text": [
            "[[ 8  0  1  1  0]\n",
            " [ 3  9  7  6  0]\n",
            " [ 0  0  8  6  0]\n",
            " [ 2  2  5 24  0]\n",
            " [ 0  1  0  2  0]]\n"
          ]
        }
      ]
    },
    {
      "cell_type": "markdown",
      "source": [
        "#**Model 3:Random Forest**"
      ],
      "metadata": {
        "id": "rs9jksqI28sh"
      }
    },
    {
      "cell_type": "code",
      "source": [
        "RF_model=RandomForestClassifier()\n",
        "RF_model.fit(X_train,y_train)\n",
        "RF_pred=RF_model.predict(X_test)"
      ],
      "metadata": {
        "id": "rZPgKlbrV2q6"
      },
      "execution_count": 96,
      "outputs": []
    },
    {
      "cell_type": "code",
      "source": [
        "RF_train_score=RF_model.score(X_train,y_train)\n",
        "print(RF_train_score)\n",
        "RF_test_score=RF_model.score(X_test,y_test)\n",
        "print(RF_test_score)"
      ],
      "metadata": {
        "colab": {
          "base_uri": "https://localhost:8080/"
        },
        "id": "VW9HJ8d4fxVT",
        "outputId": "841a521a-26d5-4e95-a782-4460256cc64a"
      },
      "execution_count": 97,
      "outputs": [
        {
          "output_type": "stream",
          "name": "stdout",
          "text": [
            "0.9970588235294118\n",
            "0.49411764705882355\n"
          ]
        }
      ]
    },
    {
      "cell_type": "code",
      "source": [
        "RFacc=round(accuracy_score(y_test,RF_pred)*100,2)\n",
        "print('Test Accuracy Score : % :',RFacc)\n",
        "RFpre=precision_score(y_test,RF_pred,average='micro')\n",
        "print('Precision Score',RFpre)\n",
        "RF_f1=f1_score(y_test,RF_pred,average='micro')\n",
        "print('F1 Score :',RF_f1)\n",
        "RFrecall=recall_score(y_test,RF_pred,average='micro')\n",
        "print('Recall Score:',RFrecall)"
      ],
      "metadata": {
        "colab": {
          "base_uri": "https://localhost:8080/"
        },
        "id": "EUdO_DPQYJLy",
        "outputId": "6653e801-64b0-4451-b1b5-3bce6d014f2f"
      },
      "execution_count": 98,
      "outputs": [
        {
          "output_type": "stream",
          "name": "stdout",
          "text": [
            "Test Accuracy Score : % : 49.41\n",
            "Precision Score 0.49411764705882355\n",
            "F1 Score : 0.49411764705882355\n",
            "Recall Score: 0.49411764705882355\n"
          ]
        }
      ]
    },
    {
      "cell_type": "code",
      "source": [
        "print(classification_report(y_test,RF_pred))"
      ],
      "metadata": {
        "colab": {
          "base_uri": "https://localhost:8080/"
        },
        "id": "PT7fRSEWYM_V",
        "outputId": "f47b5ee1-565f-4e8c-83fd-89fc064a99ff"
      },
      "execution_count": 99,
      "outputs": [
        {
          "output_type": "stream",
          "name": "stdout",
          "text": [
            "              precision    recall  f1-score   support\n",
            "\n",
            "           0       0.67      0.40      0.50        10\n",
            "           1       0.80      0.16      0.27        25\n",
            "           2       0.32      0.43      0.36        14\n",
            "           3       0.51      0.85      0.64        33\n",
            "           4       0.00      0.00      0.00         3\n",
            "\n",
            "    accuracy                           0.49        85\n",
            "   macro avg       0.46      0.37      0.35        85\n",
            "weighted avg       0.56      0.49      0.44        85\n",
            "\n"
          ]
        }
      ]
    },
    {
      "cell_type": "code",
      "source": [
        "confusn_m_RF = confusion_matrix(y_test,RF_pred)\n",
        "print(confusn_m_RF)"
      ],
      "metadata": {
        "colab": {
          "base_uri": "https://localhost:8080/"
        },
        "id": "zCBkAcyGcx__",
        "outputId": "baa5bfae-b489-47d8-96e3-8a4fa377b4c7"
      },
      "execution_count": 100,
      "outputs": [
        {
          "output_type": "stream",
          "name": "stdout",
          "text": [
            "[[ 4  1  0  5  0]\n",
            " [ 1  4  9 11  0]\n",
            " [ 0  0  6  8  0]\n",
            " [ 1  0  4 28  0]\n",
            " [ 0  0  0  3  0]]\n"
          ]
        }
      ]
    },
    {
      "cell_type": "markdown",
      "source": [
        "Overfitting Problem"
      ],
      "metadata": {
        "id": "ZqG_Vh5Gi8-q"
      }
    },
    {
      "cell_type": "markdown",
      "source": [
        "#**Model 4: Random Forest with MinMaxScaler**"
      ],
      "metadata": {
        "id": "Y_ZZfS9xhMpU"
      }
    },
    {
      "cell_type": "code",
      "source": [
        "from sklearn.preprocessing import MinMaxScaler\n",
        "scaler=MinMaxScaler().fit(X_train)\n",
        "X_train_MinMax=scaler.transform(X_train)\n",
        "X_test_MinMax=scaler.transform(X_test)"
      ],
      "metadata": {
        "id": "lTjD1ldqjvGj"
      },
      "execution_count": 101,
      "outputs": []
    },
    {
      "cell_type": "code",
      "source": [
        "RF2_SS_model=RandomForestClassifier()\n",
        "RF2_SS_model.fit(X_train_MinMax,y_train)\n",
        "RF2_minmax_pred=RF2_SS_model.predict(X_test_MinMax)"
      ],
      "metadata": {
        "id": "ugHeJdI2jvJ6"
      },
      "execution_count": 103,
      "outputs": []
    },
    {
      "cell_type": "code",
      "source": [
        "modelRF_SSTrain_Score=RF2_SS_model.score(X_train_MinMax,y_train)\n",
        "modelRF_SSTest_Score=RF2_SS_model.score(X_test_MinMax,y_test)\n",
        "print(modelRF_SSTrain_Score)\n",
        "print(modelRF_SSTest_Score)"
      ],
      "metadata": {
        "colab": {
          "base_uri": "https://localhost:8080/"
        },
        "id": "2f_Gup9Fkczk",
        "outputId": "799ef69d-39b3-470b-be3b-53daf44779e4"
      },
      "execution_count": 104,
      "outputs": [
        {
          "output_type": "stream",
          "name": "stdout",
          "text": [
            "0.9970588235294118\n",
            "0.47058823529411764\n"
          ]
        }
      ]
    },
    {
      "cell_type": "code",
      "source": [
        "RF2_acc=round(accuracy_score(y_test,RF2_minmax_pred)*100,2)\n",
        "print('Test Accuracy Score : % :',RF2_acc)\n",
        "RF2_prec=precision_score(y_test,RF2_minmax_pred,average='micro')\n",
        "print('Precision Score',RF2_prec)\n",
        "RF2_f1=f1_score(y_test,RF2_minmax_pred,average='micro')\n",
        "print('F1 Score :',RF2_f1)\n",
        "RF2recall=recall_score(y_test,RF2_minmax_pred,average='micro')\n",
        "print('Recall Score:',RF2recall)"
      ],
      "metadata": {
        "colab": {
          "base_uri": "https://localhost:8080/"
        },
        "id": "4mUUn8Mekc17",
        "outputId": "68035be4-0934-4f25-defd-51446cddc95c"
      },
      "execution_count": 105,
      "outputs": [
        {
          "output_type": "stream",
          "name": "stdout",
          "text": [
            "Test Accuracy Score : % : 47.06\n",
            "Precision Score 0.47058823529411764\n",
            "F1 Score : 0.47058823529411764\n",
            "Recall Score: 0.47058823529411764\n"
          ]
        }
      ]
    },
    {
      "cell_type": "code",
      "source": [
        "print(classification_report(y_test,RF2_minmax_pred))"
      ],
      "metadata": {
        "colab": {
          "base_uri": "https://localhost:8080/"
        },
        "id": "fvPMz3OKkc5j",
        "outputId": "7d294548-986b-42b4-a14e-7db7fa02683f"
      },
      "execution_count": 106,
      "outputs": [
        {
          "output_type": "stream",
          "name": "stdout",
          "text": [
            "              precision    recall  f1-score   support\n",
            "\n",
            "           0       0.80      0.40      0.53        10\n",
            "           1       0.67      0.24      0.35        25\n",
            "           2       0.15      0.14      0.15        14\n",
            "           3       0.48      0.85      0.62        33\n",
            "           4       0.00      0.00      0.00         3\n",
            "\n",
            "    accuracy                           0.47        85\n",
            "   macro avg       0.42      0.33      0.33        85\n",
            "weighted avg       0.50      0.47      0.43        85\n",
            "\n"
          ]
        }
      ]
    },
    {
      "cell_type": "code",
      "source": [
        "confusn_m_RFwithScaling = confusion_matrix(y_test,RF2_minmax_pred)\n",
        "print(confusn_m_RFwithScaling)"
      ],
      "metadata": {
        "colab": {
          "base_uri": "https://localhost:8080/"
        },
        "id": "Izd9ZeM1m-JZ",
        "outputId": "6f7b85c9-b9c5-4598-c185-23f23c6b3c6c"
      },
      "execution_count": 107,
      "outputs": [
        {
          "output_type": "stream",
          "name": "stdout",
          "text": [
            "[[ 4  0  0  6  0]\n",
            " [ 0  6  8 11  0]\n",
            " [ 0  2  2 10  0]\n",
            " [ 1  1  3 28  0]\n",
            " [ 0  0  0  3  0]]\n"
          ]
        }
      ]
    },
    {
      "cell_type": "markdown",
      "source": [
        "#**Model 5: NN model- Sequential with Batchnormalisation**"
      ],
      "metadata": {
        "id": "sDPAkPGrnQei"
      }
    },
    {
      "cell_type": "code",
      "source": [
        "def create_batchnor_model():\n",
        "    model_nn=tf.keras.models.Sequential()\n",
        "\n",
        "    model_nn.add(Dense(50,input_shape=(8709,)))\n",
        "    model_nn.add(tf.keras.layers.BatchNormalization())\n",
        "    model_nn.add(Activation('relu'))\n",
        "\n",
        "    model_nn.add(Dense(50))\n",
        "    model_nn.add(tf.keras.layers.BatchNormalization())\n",
        "    model_nn.add(Activation('relu'))\n",
        "\n",
        "    model_nn.add(Dense(50))\n",
        "    model_nn.add(tf.keras.layers.BatchNormalization())\n",
        "    model_nn.add(Activation('relu'))\n",
        "\n",
        "    model_nn.add(Dense(50))\n",
        "    model_nn.add(tf.keras.layers.BatchNormalization())\n",
        "    model_nn.add(Activation('relu'))\n",
        "\n",
        "    model_nn.add(Dense(1))\n",
        "    model_nn.add(Activation('softmax'))\n",
        "\n",
        "    sgd=optimizers.SGD(lr=0.001)\n",
        "    model_nn.compile(optimizer=sgd,loss='categorical_crossentropy',metrics=['accuracy'])\n",
        "\n",
        "    return model_nn"
      ],
      "metadata": {
        "id": "5o9Y_r68wb9i"
      },
      "execution_count": 108,
      "outputs": []
    },
    {
      "cell_type": "code",
      "source": [
        "model_nn=create_batchnor_model()\n",
        "history_nn=model_nn.fit(X_train,y_train,batch_size=100,epochs=5,verbose=0)"
      ],
      "metadata": {
        "id": "HHG0buvKx2Ms"
      },
      "execution_count": 109,
      "outputs": []
    },
    {
      "cell_type": "code",
      "source": [
        "train_result_nn=model_nn.evaluate(X_train,y_train)\n",
        "print('Train loss:',train_result_nn[0])\n",
        "print('Train Accuracy:',train_result_nn[1])"
      ],
      "metadata": {
        "colab": {
          "base_uri": "https://localhost:8080/"
        },
        "id": "phBp3Eh3x2PS",
        "outputId": "89ec91b8-c9db-4bb1-8ae3-6425aeed7a53"
      },
      "execution_count": 110,
      "outputs": [
        {
          "output_type": "stream",
          "name": "stdout",
          "text": [
            "11/11 [==============================] - 0s 6ms/step - loss: 0.0000e+00 - accuracy: 0.2059\n",
            "Train loss: 0.0\n",
            "Train Accuracy: 0.20588235557079315\n"
          ]
        }
      ]
    },
    {
      "cell_type": "code",
      "source": [
        "test_result_nn=model_nn.evaluate(X_test,y_test)\n",
        "print('Train loss:',test_result_nn[0])\n",
        "print('Train Accuracy:',test_result_nn[1])"
      ],
      "metadata": {
        "colab": {
          "base_uri": "https://localhost:8080/"
        },
        "id": "XOdI5eaVx2So",
        "outputId": "c3b87acc-cde5-44bb-c96e-35651e6470de"
      },
      "execution_count": 111,
      "outputs": [
        {
          "output_type": "stream",
          "name": "stdout",
          "text": [
            "3/3 [==============================] - 0s 6ms/step - loss: 0.0000e+00 - accuracy: 0.2941\n",
            "Train loss: 0.0\n",
            "Train Accuracy: 0.29411765933036804\n"
          ]
        }
      ]
    },
    {
      "cell_type": "code",
      "source": [
        "y_pred_nn=model_nn.predict(X_test)"
      ],
      "metadata": {
        "id": "m32x_ehB6d1S"
      },
      "execution_count": 112,
      "outputs": []
    },
    {
      "cell_type": "code",
      "source": [
        "NN_acc=round(accuracy_score(y_test,y_pred_nn)*100,2)\n",
        "print('Test Accuracy Score : % :',NN_acc)\n",
        "NN_prec=precision_score(y_test,y_pred_nn,average='micro')\n",
        "print('Precision Score',NN_prec)\n",
        "NN_f1=f1_score(y_test,y_pred_nn,average='micro')\n",
        "print('F1 Score :',NN_f1)\n",
        "NNrecall=recall_score(y_test,y_pred_nn,average='micro')\n",
        "print('Recall Score:',NNrecall)"
      ],
      "metadata": {
        "colab": {
          "base_uri": "https://localhost:8080/"
        },
        "id": "zjKW81L_6d5K",
        "outputId": "dce818ac-ea8f-48df-ea34-8faad5e822c8"
      },
      "execution_count": 113,
      "outputs": [
        {
          "output_type": "stream",
          "name": "stdout",
          "text": [
            "Test Accuracy Score : % : 29.41\n",
            "Precision Score 0.29411764705882354\n",
            "F1 Score : 0.29411764705882354\n",
            "Recall Score: 0.29411764705882354\n"
          ]
        }
      ]
    },
    {
      "cell_type": "code",
      "source": [
        "print(classification_report(y_test,y_pred_nn))"
      ],
      "metadata": {
        "colab": {
          "base_uri": "https://localhost:8080/"
        },
        "id": "IE_3_AGh7SWJ",
        "outputId": "1c1ce877-ec20-4399-e09a-f279b0b07bda"
      },
      "execution_count": 114,
      "outputs": [
        {
          "output_type": "stream",
          "name": "stdout",
          "text": [
            "              precision    recall  f1-score   support\n",
            "\n",
            "           0       0.00      0.00      0.00        10\n",
            "           1       0.29      1.00      0.45        25\n",
            "           2       0.00      0.00      0.00        14\n",
            "           3       0.00      0.00      0.00        33\n",
            "           4       0.00      0.00      0.00         3\n",
            "\n",
            "    accuracy                           0.29        85\n",
            "   macro avg       0.06      0.20      0.09        85\n",
            "weighted avg       0.09      0.29      0.13        85\n",
            "\n"
          ]
        }
      ]
    },
    {
      "cell_type": "code",
      "source": [
        "confusn_m_NN= confusion_matrix(y_test,y_pred_nn)\n",
        "print(confusn_m_NN)"
      ],
      "metadata": {
        "colab": {
          "base_uri": "https://localhost:8080/"
        },
        "id": "LFk5mADi7SZe",
        "outputId": "f3599418-b865-43ea-999e-cdef2c29a751"
      },
      "execution_count": 115,
      "outputs": [
        {
          "output_type": "stream",
          "name": "stdout",
          "text": [
            "[[ 0 10  0  0  0]\n",
            " [ 0 25  0  0  0]\n",
            " [ 0 14  0  0  0]\n",
            " [ 0 33  0  0  0]\n",
            " [ 0  3  0  0  0]]\n"
          ]
        }
      ]
    },
    {
      "cell_type": "code",
      "source": [
        "model_nn.summary()"
      ],
      "metadata": {
        "colab": {
          "base_uri": "https://localhost:8080/"
        },
        "id": "m1kAThGZyzKw",
        "outputId": "5242befa-46d0-4dc3-935f-68125382cde8"
      },
      "execution_count": 116,
      "outputs": [
        {
          "output_type": "stream",
          "name": "stdout",
          "text": [
            "Model: \"sequential\"\n",
            "_________________________________________________________________\n",
            " Layer (type)                Output Shape              Param #   \n",
            "=================================================================\n",
            " dense (Dense)               (None, 50)                435500    \n",
            "                                                                 \n",
            " batch_normalization (BatchN  (None, 50)               200       \n",
            " ormalization)                                                   \n",
            "                                                                 \n",
            " activation (Activation)     (None, 50)                0         \n",
            "                                                                 \n",
            " dense_1 (Dense)             (None, 50)                2550      \n",
            "                                                                 \n",
            " batch_normalization_1 (Batc  (None, 50)               200       \n",
            " hNormalization)                                                 \n",
            "                                                                 \n",
            " activation_1 (Activation)   (None, 50)                0         \n",
            "                                                                 \n",
            " dense_2 (Dense)             (None, 50)                2550      \n",
            "                                                                 \n",
            " batch_normalization_2 (Batc  (None, 50)               200       \n",
            " hNormalization)                                                 \n",
            "                                                                 \n",
            " activation_2 (Activation)   (None, 50)                0         \n",
            "                                                                 \n",
            " dense_3 (Dense)             (None, 50)                2550      \n",
            "                                                                 \n",
            " batch_normalization_3 (Batc  (None, 50)               200       \n",
            " hNormalization)                                                 \n",
            "                                                                 \n",
            " activation_3 (Activation)   (None, 50)                0         \n",
            "                                                                 \n",
            " dense_4 (Dense)             (None, 1)                 51        \n",
            "                                                                 \n",
            " activation_4 (Activation)   (None, 1)                 0         \n",
            "                                                                 \n",
            "=================================================================\n",
            "Total params: 444,001\n",
            "Trainable params: 443,601\n",
            "Non-trainable params: 400\n",
            "_________________________________________________________________\n"
          ]
        }
      ]
    },
    {
      "cell_type": "code",
      "source": [
        "models=pd.DataFrame({'Model':['Naive Bayes','Logistic Regression','Random Forest','Random Forest with MinMaxScaler','NN-Sequential'],\n",
        "                   'Training Accuracy Score':[NB_train_score,LoR_train_score,RF_train_score,modelRF_SSTrain_Score,train_result_nn[1]],\n",
        "                    'Testing Accuracy Score':[NB_test_score,LoR_test_score,RF_test_score,modelRF_SSTest_Score,test_result_nn[1]],\n",
        "                    'Test Prediction Score':[NBacc,LRacc,RFacc,RF2_acc,NN_acc]})\n",
        "models.sort_index()"
      ],
      "metadata": {
        "colab": {
          "base_uri": "https://localhost:8080/",
          "height": 206
        },
        "id": "b6d7AS7E05pJ",
        "outputId": "a2da7e4e-8970-4872-c12e-4f524b2114b3"
      },
      "execution_count": 117,
      "outputs": [
        {
          "output_type": "execute_result",
          "data": {
            "text/plain": [
              "                             Model  Training Accuracy Score  \\\n",
              "0                      Naive Bayes                 0.323529   \n",
              "1              Logistic Regression                 0.964706   \n",
              "2                    Random Forest                 0.997059   \n",
              "3  Random Forest with MinMaxScaler                 0.997059   \n",
              "4                    NN-Sequential                 0.205882   \n",
              "\n",
              "   Testing Accuracy Score  Test Prediction Score  \n",
              "0                0.388235                  38.82  \n",
              "1                0.576471                  57.65  \n",
              "2                0.494118                  49.41  \n",
              "3                0.470588                  47.06  \n",
              "4                0.294118                  29.41  "
            ],
            "text/html": [
              "\n",
              "  <div id=\"df-b2b495e4-5b44-41a1-ae27-1141e71a95ca\">\n",
              "    <div class=\"colab-df-container\">\n",
              "      <div>\n",
              "<style scoped>\n",
              "    .dataframe tbody tr th:only-of-type {\n",
              "        vertical-align: middle;\n",
              "    }\n",
              "\n",
              "    .dataframe tbody tr th {\n",
              "        vertical-align: top;\n",
              "    }\n",
              "\n",
              "    .dataframe thead th {\n",
              "        text-align: right;\n",
              "    }\n",
              "</style>\n",
              "<table border=\"1\" class=\"dataframe\">\n",
              "  <thead>\n",
              "    <tr style=\"text-align: right;\">\n",
              "      <th></th>\n",
              "      <th>Model</th>\n",
              "      <th>Training Accuracy Score</th>\n",
              "      <th>Testing Accuracy Score</th>\n",
              "      <th>Test Prediction Score</th>\n",
              "    </tr>\n",
              "  </thead>\n",
              "  <tbody>\n",
              "    <tr>\n",
              "      <th>0</th>\n",
              "      <td>Naive Bayes</td>\n",
              "      <td>0.323529</td>\n",
              "      <td>0.388235</td>\n",
              "      <td>38.82</td>\n",
              "    </tr>\n",
              "    <tr>\n",
              "      <th>1</th>\n",
              "      <td>Logistic Regression</td>\n",
              "      <td>0.964706</td>\n",
              "      <td>0.576471</td>\n",
              "      <td>57.65</td>\n",
              "    </tr>\n",
              "    <tr>\n",
              "      <th>2</th>\n",
              "      <td>Random Forest</td>\n",
              "      <td>0.997059</td>\n",
              "      <td>0.494118</td>\n",
              "      <td>49.41</td>\n",
              "    </tr>\n",
              "    <tr>\n",
              "      <th>3</th>\n",
              "      <td>Random Forest with MinMaxScaler</td>\n",
              "      <td>0.997059</td>\n",
              "      <td>0.470588</td>\n",
              "      <td>47.06</td>\n",
              "    </tr>\n",
              "    <tr>\n",
              "      <th>4</th>\n",
              "      <td>NN-Sequential</td>\n",
              "      <td>0.205882</td>\n",
              "      <td>0.294118</td>\n",
              "      <td>29.41</td>\n",
              "    </tr>\n",
              "  </tbody>\n",
              "</table>\n",
              "</div>\n",
              "      <button class=\"colab-df-convert\" onclick=\"convertToInteractive('df-b2b495e4-5b44-41a1-ae27-1141e71a95ca')\"\n",
              "              title=\"Convert this dataframe to an interactive table.\"\n",
              "              style=\"display:none;\">\n",
              "        \n",
              "  <svg xmlns=\"http://www.w3.org/2000/svg\" height=\"24px\"viewBox=\"0 0 24 24\"\n",
              "       width=\"24px\">\n",
              "    <path d=\"M0 0h24v24H0V0z\" fill=\"none\"/>\n",
              "    <path d=\"M18.56 5.44l.94 2.06.94-2.06 2.06-.94-2.06-.94-.94-2.06-.94 2.06-2.06.94zm-11 1L8.5 8.5l.94-2.06 2.06-.94-2.06-.94L8.5 2.5l-.94 2.06-2.06.94zm10 10l.94 2.06.94-2.06 2.06-.94-2.06-.94-.94-2.06-.94 2.06-2.06.94z\"/><path d=\"M17.41 7.96l-1.37-1.37c-.4-.4-.92-.59-1.43-.59-.52 0-1.04.2-1.43.59L10.3 9.45l-7.72 7.72c-.78.78-.78 2.05 0 2.83L4 21.41c.39.39.9.59 1.41.59.51 0 1.02-.2 1.41-.59l7.78-7.78 2.81-2.81c.8-.78.8-2.07 0-2.86zM5.41 20L4 18.59l7.72-7.72 1.47 1.35L5.41 20z\"/>\n",
              "  </svg>\n",
              "      </button>\n",
              "      \n",
              "  <style>\n",
              "    .colab-df-container {\n",
              "      display:flex;\n",
              "      flex-wrap:wrap;\n",
              "      gap: 12px;\n",
              "    }\n",
              "\n",
              "    .colab-df-convert {\n",
              "      background-color: #E8F0FE;\n",
              "      border: none;\n",
              "      border-radius: 50%;\n",
              "      cursor: pointer;\n",
              "      display: none;\n",
              "      fill: #1967D2;\n",
              "      height: 32px;\n",
              "      padding: 0 0 0 0;\n",
              "      width: 32px;\n",
              "    }\n",
              "\n",
              "    .colab-df-convert:hover {\n",
              "      background-color: #E2EBFA;\n",
              "      box-shadow: 0px 1px 2px rgba(60, 64, 67, 0.3), 0px 1px 3px 1px rgba(60, 64, 67, 0.15);\n",
              "      fill: #174EA6;\n",
              "    }\n",
              "\n",
              "    [theme=dark] .colab-df-convert {\n",
              "      background-color: #3B4455;\n",
              "      fill: #D2E3FC;\n",
              "    }\n",
              "\n",
              "    [theme=dark] .colab-df-convert:hover {\n",
              "      background-color: #434B5C;\n",
              "      box-shadow: 0px 1px 3px 1px rgba(0, 0, 0, 0.15);\n",
              "      filter: drop-shadow(0px 1px 2px rgba(0, 0, 0, 0.3));\n",
              "      fill: #FFFFFF;\n",
              "    }\n",
              "  </style>\n",
              "\n",
              "      <script>\n",
              "        const buttonEl =\n",
              "          document.querySelector('#df-b2b495e4-5b44-41a1-ae27-1141e71a95ca button.colab-df-convert');\n",
              "        buttonEl.style.display =\n",
              "          google.colab.kernel.accessAllowed ? 'block' : 'none';\n",
              "\n",
              "        async function convertToInteractive(key) {\n",
              "          const element = document.querySelector('#df-b2b495e4-5b44-41a1-ae27-1141e71a95ca');\n",
              "          const dataTable =\n",
              "            await google.colab.kernel.invokeFunction('convertToInteractive',\n",
              "                                                     [key], {});\n",
              "          if (!dataTable) return;\n",
              "\n",
              "          const docLinkHtml = 'Like what you see? Visit the ' +\n",
              "            '<a target=\"_blank\" href=https://colab.research.google.com/notebooks/data_table.ipynb>data table notebook</a>'\n",
              "            + ' to learn more about interactive tables.';\n",
              "          element.innerHTML = '';\n",
              "          dataTable['output_type'] = 'display_data';\n",
              "          await google.colab.output.renderOutput(dataTable, element);\n",
              "          const docLink = document.createElement('div');\n",
              "          docLink.innerHTML = docLinkHtml;\n",
              "          element.appendChild(docLink);\n",
              "        }\n",
              "      </script>\n",
              "    </div>\n",
              "  </div>\n",
              "  "
            ]
          },
          "metadata": {},
          "execution_count": 117
        }
      ]
    },
    {
      "cell_type": "markdown",
      "source": [
        "Summary Observations needto be addded###################"
      ],
      "metadata": {
        "id": "8gRpKP3o32_y"
      }
    },
    {
      "cell_type": "code",
      "source": [
        "models=pd.DataFrame({'Model':['Naive Bayes','Logistic Regression','Random Forest','Random Forest with MinMaxScaler','NN-Sequential'],\n",
        "                   'Confusion Matrix':[confusn_m_NB,confusn_m_LR,confusn_m_RF,confusn_m_RFwithScaling,confusn_m_NN]})\n",
        "models.sort_index()"
      ],
      "metadata": {
        "colab": {
          "base_uri": "https://localhost:8080/",
          "height": 206
        },
        "id": "TP1pyPxT-JOD",
        "outputId": "7f910d56-25aa-4450-fc4f-a61b6296d234"
      },
      "execution_count": 118,
      "outputs": [
        {
          "output_type": "execute_result",
          "data": {
            "text/plain": [
              "                             Model  \\\n",
              "0                      Naive Bayes   \n",
              "1              Logistic Regression   \n",
              "2                    Random Forest   \n",
              "3  Random Forest with MinMaxScaler   \n",
              "4                    NN-Sequential   \n",
              "\n",
              "                                    Confusion Matrix  \n",
              "0  [[0, 0, 0, 10, 0], [0, 0, 0, 25, 0], [0, 0, 0,...  \n",
              "1  [[8, 0, 1, 1, 0], [3, 9, 7, 6, 0], [0, 0, 8, 6...  \n",
              "2  [[4, 1, 0, 5, 0], [1, 4, 9, 11, 0], [0, 0, 6, ...  \n",
              "3  [[4, 0, 0, 6, 0], [0, 6, 8, 11, 0], [0, 2, 2, ...  \n",
              "4  [[0, 10, 0, 0, 0], [0, 25, 0, 0, 0], [0, 14, 0...  "
            ],
            "text/html": [
              "\n",
              "  <div id=\"df-1f466db3-2066-4c9c-92ac-ffdc80e0fd46\">\n",
              "    <div class=\"colab-df-container\">\n",
              "      <div>\n",
              "<style scoped>\n",
              "    .dataframe tbody tr th:only-of-type {\n",
              "        vertical-align: middle;\n",
              "    }\n",
              "\n",
              "    .dataframe tbody tr th {\n",
              "        vertical-align: top;\n",
              "    }\n",
              "\n",
              "    .dataframe thead th {\n",
              "        text-align: right;\n",
              "    }\n",
              "</style>\n",
              "<table border=\"1\" class=\"dataframe\">\n",
              "  <thead>\n",
              "    <tr style=\"text-align: right;\">\n",
              "      <th></th>\n",
              "      <th>Model</th>\n",
              "      <th>Confusion Matrix</th>\n",
              "    </tr>\n",
              "  </thead>\n",
              "  <tbody>\n",
              "    <tr>\n",
              "      <th>0</th>\n",
              "      <td>Naive Bayes</td>\n",
              "      <td>[[0, 0, 0, 10, 0], [0, 0, 0, 25, 0], [0, 0, 0,...</td>\n",
              "    </tr>\n",
              "    <tr>\n",
              "      <th>1</th>\n",
              "      <td>Logistic Regression</td>\n",
              "      <td>[[8, 0, 1, 1, 0], [3, 9, 7, 6, 0], [0, 0, 8, 6...</td>\n",
              "    </tr>\n",
              "    <tr>\n",
              "      <th>2</th>\n",
              "      <td>Random Forest</td>\n",
              "      <td>[[4, 1, 0, 5, 0], [1, 4, 9, 11, 0], [0, 0, 6, ...</td>\n",
              "    </tr>\n",
              "    <tr>\n",
              "      <th>3</th>\n",
              "      <td>Random Forest with MinMaxScaler</td>\n",
              "      <td>[[4, 0, 0, 6, 0], [0, 6, 8, 11, 0], [0, 2, 2, ...</td>\n",
              "    </tr>\n",
              "    <tr>\n",
              "      <th>4</th>\n",
              "      <td>NN-Sequential</td>\n",
              "      <td>[[0, 10, 0, 0, 0], [0, 25, 0, 0, 0], [0, 14, 0...</td>\n",
              "    </tr>\n",
              "  </tbody>\n",
              "</table>\n",
              "</div>\n",
              "      <button class=\"colab-df-convert\" onclick=\"convertToInteractive('df-1f466db3-2066-4c9c-92ac-ffdc80e0fd46')\"\n",
              "              title=\"Convert this dataframe to an interactive table.\"\n",
              "              style=\"display:none;\">\n",
              "        \n",
              "  <svg xmlns=\"http://www.w3.org/2000/svg\" height=\"24px\"viewBox=\"0 0 24 24\"\n",
              "       width=\"24px\">\n",
              "    <path d=\"M0 0h24v24H0V0z\" fill=\"none\"/>\n",
              "    <path d=\"M18.56 5.44l.94 2.06.94-2.06 2.06-.94-2.06-.94-.94-2.06-.94 2.06-2.06.94zm-11 1L8.5 8.5l.94-2.06 2.06-.94-2.06-.94L8.5 2.5l-.94 2.06-2.06.94zm10 10l.94 2.06.94-2.06 2.06-.94-2.06-.94-.94-2.06-.94 2.06-2.06.94z\"/><path d=\"M17.41 7.96l-1.37-1.37c-.4-.4-.92-.59-1.43-.59-.52 0-1.04.2-1.43.59L10.3 9.45l-7.72 7.72c-.78.78-.78 2.05 0 2.83L4 21.41c.39.39.9.59 1.41.59.51 0 1.02-.2 1.41-.59l7.78-7.78 2.81-2.81c.8-.78.8-2.07 0-2.86zM5.41 20L4 18.59l7.72-7.72 1.47 1.35L5.41 20z\"/>\n",
              "  </svg>\n",
              "      </button>\n",
              "      \n",
              "  <style>\n",
              "    .colab-df-container {\n",
              "      display:flex;\n",
              "      flex-wrap:wrap;\n",
              "      gap: 12px;\n",
              "    }\n",
              "\n",
              "    .colab-df-convert {\n",
              "      background-color: #E8F0FE;\n",
              "      border: none;\n",
              "      border-radius: 50%;\n",
              "      cursor: pointer;\n",
              "      display: none;\n",
              "      fill: #1967D2;\n",
              "      height: 32px;\n",
              "      padding: 0 0 0 0;\n",
              "      width: 32px;\n",
              "    }\n",
              "\n",
              "    .colab-df-convert:hover {\n",
              "      background-color: #E2EBFA;\n",
              "      box-shadow: 0px 1px 2px rgba(60, 64, 67, 0.3), 0px 1px 3px 1px rgba(60, 64, 67, 0.15);\n",
              "      fill: #174EA6;\n",
              "    }\n",
              "\n",
              "    [theme=dark] .colab-df-convert {\n",
              "      background-color: #3B4455;\n",
              "      fill: #D2E3FC;\n",
              "    }\n",
              "\n",
              "    [theme=dark] .colab-df-convert:hover {\n",
              "      background-color: #434B5C;\n",
              "      box-shadow: 0px 1px 3px 1px rgba(0, 0, 0, 0.15);\n",
              "      filter: drop-shadow(0px 1px 2px rgba(0, 0, 0, 0.3));\n",
              "      fill: #FFFFFF;\n",
              "    }\n",
              "  </style>\n",
              "\n",
              "      <script>\n",
              "        const buttonEl =\n",
              "          document.querySelector('#df-1f466db3-2066-4c9c-92ac-ffdc80e0fd46 button.colab-df-convert');\n",
              "        buttonEl.style.display =\n",
              "          google.colab.kernel.accessAllowed ? 'block' : 'none';\n",
              "\n",
              "        async function convertToInteractive(key) {\n",
              "          const element = document.querySelector('#df-1f466db3-2066-4c9c-92ac-ffdc80e0fd46');\n",
              "          const dataTable =\n",
              "            await google.colab.kernel.invokeFunction('convertToInteractive',\n",
              "                                                     [key], {});\n",
              "          if (!dataTable) return;\n",
              "\n",
              "          const docLinkHtml = 'Like what you see? Visit the ' +\n",
              "            '<a target=\"_blank\" href=https://colab.research.google.com/notebooks/data_table.ipynb>data table notebook</a>'\n",
              "            + ' to learn more about interactive tables.';\n",
              "          element.innerHTML = '';\n",
              "          dataTable['output_type'] = 'display_data';\n",
              "          await google.colab.output.renderOutput(dataTable, element);\n",
              "          const docLink = document.createElement('div');\n",
              "          docLink.innerHTML = docLinkHtml;\n",
              "          element.appendChild(docLink);\n",
              "        }\n",
              "      </script>\n",
              "    </div>\n",
              "  </div>\n",
              "  "
            ]
          },
          "metadata": {},
          "execution_count": 118
        }
      ]
    },
    {
      "cell_type": "markdown",
      "source": [
        "###**• Select the final best trained model along with your detailed comments for selecting this model.**"
      ],
      "metadata": {
        "id": "kpDq_ZpwAk6k"
      }
    },
    {
      "cell_type": "markdown",
      "source": [
        "Observations: 1.From above accuracy and confusion matrix table, we can say that Logistic Regression is the best model. Because it shows good accuracy score for traing and testing. \n",
        "2. RandomForest is equally good but it shows overfitting problem with training score.\n",
        "3. We compared the confusion matrix,recall, precision, f1 score of both and made a conclusion that Logistic Regression is the best model for this problem. So, we decided to pickle the Logistic Regression model."
      ],
      "metadata": {
        "id": "OANYDar1Aqoe"
      }
    },
    {
      "cell_type": "markdown",
      "source": [
        "#**• Pickle the selected model for future use.**"
      ],
      "metadata": {
        "id": "J93GCXIwCdiL"
      }
    },
    {
      "cell_type": "code",
      "source": [
        "import pickle\n",
        "pkl_filename=\"Pickle_LR_Model.pkl\"\n",
        "with open(pkl_filename,'wb')as file:\n",
        "    pickle.dump(LoR1,file)"
      ],
      "metadata": {
        "id": "uw2dT5-u_xoY"
      },
      "execution_count": null,
      "outputs": []
    },
    {
      "cell_type": "markdown",
      "source": [
        "###**• Import the future data file. Use the same to perform the prediction using the best chosen model from above. Display the prediction results.**"
      ],
      "metadata": {
        "id": "yRWUABpsEbXC"
      }
    },
    {
      "cell_type": "code",
      "source": [
        "with open(pkl_filename,'rb') as file:\n",
        "    Pickled_LR_Model=pickle.load(file)\n",
        "Pickled_LR_Model"
      ],
      "metadata": {
        "colab": {
          "base_uri": "https://localhost:8080/"
        },
        "id": "PBk9b0x9D43z",
        "outputId": "f71a91aa-a1af-45f5-c85b-5103286c28ea"
      },
      "execution_count": null,
      "outputs": [
        {
          "output_type": "execute_result",
          "data": {
            "text/plain": [
              "LogisticRegression(solver='liblinear')"
            ]
          },
          "metadata": {},
          "execution_count": 325
        }
      ]
    },
    {
      "cell_type": "code",
      "source": [
        ""
      ],
      "metadata": {
        "id": "A3uFweHGEu_8"
      },
      "execution_count": null,
      "outputs": []
    }
  ]
}