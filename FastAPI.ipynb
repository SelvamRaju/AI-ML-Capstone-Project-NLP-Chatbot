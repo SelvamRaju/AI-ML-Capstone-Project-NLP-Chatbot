{
  "nbformat": 4,
  "nbformat_minor": 0,
  "metadata": {
    "colab": {
      "name": "FastAPI.ipynb",
      "provenance": [],
      "collapsed_sections": []
    },
    "kernelspec": {
      "name": "python3",
      "display_name": "Python 3"
    },
    "language_info": {
      "name": "python"
    }
  },
  "cells": [
    {
      "cell_type": "code",
      "execution_count": 1,
      "metadata": {
        "colab": {
          "base_uri": "https://localhost:8080/"
        },
        "id": "GRz_ckYRSmhh",
        "outputId": "0efbcdaa-68f0-4733-c87e-6510dd7050a8"
      },
      "outputs": [
        {
          "output_type": "stream",
          "name": "stdout",
          "text": [
            "Collecting fastapi[all]\n",
            "  Downloading fastapi-0.75.0-py3-none-any.whl (54 kB)\n",
            "\u001b[?25l\r\u001b[K     |██████                          | 10 kB 25.9 MB/s eta 0:00:01\r\u001b[K     |████████████                    | 20 kB 32.4 MB/s eta 0:00:01\r\u001b[K     |██████████████████              | 30 kB 20.4 MB/s eta 0:00:01\r\u001b[K     |████████████████████████        | 40 kB 17.4 MB/s eta 0:00:01\r\u001b[K     |██████████████████████████████  | 51 kB 9.4 MB/s eta 0:00:01\r\u001b[K     |████████████████████████████████| 54 kB 2.6 MB/s \n",
            "\u001b[?25hRequirement already satisfied: nest-asyncio in /usr/local/lib/python3.7/dist-packages (1.5.4)\n",
            "Collecting pyngrok\n",
            "  Downloading pyngrok-5.1.0.tar.gz (745 kB)\n",
            "\u001b[K     |████████████████████████████████| 745 kB 16.3 MB/s \n",
            "\u001b[?25hCollecting uvicorn\n",
            "  Downloading uvicorn-0.17.6-py3-none-any.whl (53 kB)\n",
            "\u001b[K     |████████████████████████████████| 53 kB 2.4 MB/s \n",
            "\u001b[?25hRequirement already satisfied: PyYAML in /usr/local/lib/python3.7/dist-packages (from pyngrok) (3.13)\n",
            "Requirement already satisfied: click>=7.0 in /usr/local/lib/python3.7/dist-packages (from uvicorn) (7.1.2)\n",
            "Collecting h11>=0.8\n",
            "  Downloading h11-0.13.0-py3-none-any.whl (58 kB)\n",
            "\u001b[K     |████████████████████████████████| 58 kB 6.9 MB/s \n",
            "\u001b[?25hRequirement already satisfied: typing-extensions in /usr/local/lib/python3.7/dist-packages (from uvicorn) (3.10.0.2)\n",
            "Collecting asgiref>=3.4.0\n",
            "  Downloading asgiref-3.5.0-py3-none-any.whl (22 kB)\n",
            "Collecting pydantic!=1.7,!=1.7.1,!=1.7.2,!=1.7.3,!=1.8,!=1.8.1,<2.0.0,>=1.6.2\n",
            "  Downloading pydantic-1.9.0-cp37-cp37m-manylinux_2_17_x86_64.manylinux2014_x86_64.whl (10.9 MB)\n",
            "\u001b[K     |████████████████████████████████| 10.9 MB 37.9 MB/s \n",
            "\u001b[?25hCollecting starlette==0.17.1\n",
            "  Downloading starlette-0.17.1-py3-none-any.whl (58 kB)\n",
            "\u001b[K     |████████████████████████████████| 58 kB 5.7 MB/s \n",
            "\u001b[?25hCollecting orjson<4.0.0,>=3.2.1\n",
            "  Downloading orjson-3.6.7-cp37-cp37m-manylinux_2_24_x86_64.whl (255 kB)\n",
            "\u001b[K     |████████████████████████████████| 255 kB 61.9 MB/s \n",
            "\u001b[?25hCollecting ujson<5.0.0,>=4.0.1\n",
            "  Downloading ujson-4.3.0-cp37-cp37m-manylinux_2_17_x86_64.manylinux2014_x86_64.whl (216 kB)\n",
            "\u001b[K     |████████████████████████████████| 216 kB 63.8 MB/s \n",
            "\u001b[?25hRequirement already satisfied: itsdangerous<3.0.0,>=1.1.0 in /usr/local/lib/python3.7/dist-packages (from fastapi[all]) (1.1.0)\n",
            "Collecting uvicorn[standard]<0.16.0,>=0.12.0\n",
            "  Downloading uvicorn-0.15.0-py3-none-any.whl (54 kB)\n",
            "\u001b[K     |████████████████████████████████| 54 kB 3.1 MB/s \n",
            "\u001b[?25hCollecting PyYAML\n",
            "  Downloading PyYAML-5.4.1-cp37-cp37m-manylinux1_x86_64.whl (636 kB)\n",
            "\u001b[K     |████████████████████████████████| 636 kB 63.3 MB/s \n",
            "\u001b[?25hRequirement already satisfied: jinja2<4.0.0,>=2.11.2 in /usr/local/lib/python3.7/dist-packages (from fastapi[all]) (2.11.3)\n",
            "Collecting python-multipart<0.0.6,>=0.0.5\n",
            "  Downloading python-multipart-0.0.5.tar.gz (32 kB)\n",
            "Collecting requests<3.0.0,>=2.24.0\n",
            "  Downloading requests-2.27.1-py2.py3-none-any.whl (63 kB)\n",
            "\u001b[K     |████████████████████████████████| 63 kB 2.0 MB/s \n",
            "\u001b[?25hCollecting email_validator<2.0.0,>=1.1.1\n",
            "  Downloading email_validator-1.1.3-py2.py3-none-any.whl (18 kB)\n",
            "Collecting anyio<4,>=3.0.0\n",
            "  Downloading anyio-3.5.0-py3-none-any.whl (79 kB)\n",
            "\u001b[K     |████████████████████████████████| 79 kB 8.5 MB/s \n",
            "\u001b[?25hRequirement already satisfied: idna>=2.8 in /usr/local/lib/python3.7/dist-packages (from anyio<4,>=3.0.0->starlette==0.17.1->fastapi[all]) (2.10)\n",
            "Collecting sniffio>=1.1\n",
            "  Downloading sniffio-1.2.0-py3-none-any.whl (10 kB)\n",
            "Collecting dnspython>=1.15.0\n",
            "  Downloading dnspython-2.2.1-py3-none-any.whl (269 kB)\n",
            "\u001b[K     |████████████████████████████████| 269 kB 74.1 MB/s \n",
            "\u001b[?25hRequirement already satisfied: MarkupSafe>=0.23 in /usr/local/lib/python3.7/dist-packages (from jinja2<4.0.0,>=2.11.2->fastapi[all]) (2.0.1)\n",
            "Requirement already satisfied: six>=1.4.0 in /usr/local/lib/python3.7/dist-packages (from python-multipart<0.0.6,>=0.0.5->fastapi[all]) (1.15.0)\n",
            "Requirement already satisfied: charset-normalizer~=2.0.0 in /usr/local/lib/python3.7/dist-packages (from requests<3.0.0,>=2.24.0->fastapi[all]) (2.0.12)\n",
            "Requirement already satisfied: certifi>=2017.4.17 in /usr/local/lib/python3.7/dist-packages (from requests<3.0.0,>=2.24.0->fastapi[all]) (2021.10.8)\n",
            "Requirement already satisfied: urllib3<1.27,>=1.21.1 in /usr/local/lib/python3.7/dist-packages (from requests<3.0.0,>=2.24.0->fastapi[all]) (1.24.3)\n",
            "Collecting httptools==0.2.*\n",
            "  Downloading httptools-0.2.0-cp37-cp37m-manylinux1_x86_64.whl (344 kB)\n",
            "\u001b[K     |████████████████████████████████| 344 kB 45.2 MB/s \n",
            "\u001b[?25hCollecting websockets>=9.1\n",
            "  Downloading websockets-10.2-cp37-cp37m-manylinux_2_5_x86_64.manylinux1_x86_64.manylinux_2_12_x86_64.manylinux2010_x86_64.whl (111 kB)\n",
            "\u001b[K     |████████████████████████████████| 111 kB 73.3 MB/s \n",
            "\u001b[?25hCollecting watchgod>=0.6\n",
            "  Downloading watchgod-0.8.1-py3-none-any.whl (12 kB)\n",
            "Collecting python-dotenv>=0.13\n",
            "  Downloading python_dotenv-0.20.0-py3-none-any.whl (17 kB)\n",
            "Collecting uvloop!=0.15.0,!=0.15.1,>=0.14.0\n",
            "  Downloading uvloop-0.16.0-cp37-cp37m-manylinux_2_12_x86_64.manylinux2010_x86_64.whl (3.8 MB)\n",
            "\u001b[K     |████████████████████████████████| 3.8 MB 48.8 MB/s \n",
            "\u001b[?25hBuilding wheels for collected packages: pyngrok, python-multipart\n",
            "  Building wheel for pyngrok (setup.py) ... \u001b[?25l\u001b[?25hdone\n",
            "  Created wheel for pyngrok: filename=pyngrok-5.1.0-py3-none-any.whl size=19007 sha256=b45d3a09cec5c093b948a0841cfe5b40fb301844da536fc7faa89c67eea061a8\n",
            "  Stored in directory: /root/.cache/pip/wheels/bf/e6/af/ccf6598ecefecd44104069371795cb9b3afbcd16987f6ccfb3\n",
            "  Building wheel for python-multipart (setup.py) ... \u001b[?25l\u001b[?25hdone\n",
            "  Created wheel for python-multipart: filename=python_multipart-0.0.5-py3-none-any.whl size=31678 sha256=2e4c4ca4bedb04deacca1a9128f58947fa651c18cf6432c4b5787bdbbe280529\n",
            "  Stored in directory: /root/.cache/pip/wheels/2c/41/7c/bfd1c180534ffdcc0972f78c5758f89881602175d48a8bcd2c\n",
            "Successfully built pyngrok python-multipart\n",
            "Installing collected packages: sniffio, h11, asgiref, anyio, websockets, watchgod, uvloop, uvicorn, starlette, PyYAML, python-dotenv, pydantic, httptools, dnspython, ujson, requests, python-multipart, orjson, fastapi, email-validator, pyngrok\n",
            "  Attempting uninstall: PyYAML\n",
            "    Found existing installation: PyYAML 3.13\n",
            "    Uninstalling PyYAML-3.13:\n",
            "      Successfully uninstalled PyYAML-3.13\n",
            "  Attempting uninstall: requests\n",
            "    Found existing installation: requests 2.23.0\n",
            "    Uninstalling requests-2.23.0:\n",
            "      Successfully uninstalled requests-2.23.0\n",
            "\u001b[31mERROR: pip's dependency resolver does not currently take into account all the packages that are installed. This behaviour is the source of the following dependency conflicts.\n",
            "google-colab 1.0.0 requires requests~=2.23.0, but you have requests 2.27.1 which is incompatible.\n",
            "datascience 0.10.6 requires folium==0.2.1, but you have folium 0.8.3 which is incompatible.\u001b[0m\n",
            "Successfully installed PyYAML-5.4.1 anyio-3.5.0 asgiref-3.5.0 dnspython-2.2.1 email-validator-1.1.3 fastapi-0.75.0 h11-0.13.0 httptools-0.2.0 orjson-3.6.7 pydantic-1.9.0 pyngrok-5.1.0 python-dotenv-0.20.0 python-multipart-0.0.5 requests-2.27.1 sniffio-1.2.0 starlette-0.17.1 ujson-4.3.0 uvicorn-0.15.0 uvloop-0.16.0 watchgod-0.8.1 websockets-10.2\n"
          ]
        }
      ],
      "source": [
        "!pip install fastapi[all] nest-asyncio pyngrok uvicorn\n"
      ]
    },
    {
      "cell_type": "code",
      "source": [
        "import json \n",
        "import numpy as np\n",
        "from tensorflow import keras\n",
        "from sklearn.preprocessing import LabelEncoder\n",
        "\n",
        "import random\n",
        "import pickle\n",
        "from sklearn.linear_model import LogisticRegression\n"
      ],
      "metadata": {
        "id": "tSnYwI3afv57"
      },
      "execution_count": 2,
      "outputs": []
    },
    {
      "cell_type": "code",
      "source": [
        "#for reading data from google drive\n",
        "from google.colab import drive\n",
        "drive.mount('/content/drive')"
      ],
      "metadata": {
        "id": "uacjF3aoi0rs",
        "colab": {
          "base_uri": "https://localhost:8080/"
        },
        "outputId": "81bfa449-f858-4b91-cbb8-1c2464135a06"
      },
      "execution_count": 3,
      "outputs": [
        {
          "output_type": "stream",
          "name": "stdout",
          "text": [
            "Mounted at /content/drive\n"
          ]
        }
      ]
    },
    {
      "cell_type": "code",
      "source": [
        "from fastapi import FastAPI, Request\n",
        "import nest_asyncio\n",
        "import asyncio\n",
        "from pyngrok import ngrok\n",
        "import uvicorn\n",
        "\n",
        "app = FastAPI()\n",
        "\n",
        "@app.get('/index')\n",
        "async def home():\n",
        "  return \"Hello World\"\n",
        "\n",
        "@app.get(\"/getResponse/{description,}\")\n",
        "def read_item(item_id: int):\n",
        "    return {\"item_id\": item_id}\n",
        "\n",
        "@app.get('/')\n",
        "async def index():\n",
        "  return \"Welcome to NLP solution for industry safety problem\""
      ],
      "metadata": {
        "id": "xalybfSBXA7E"
      },
      "execution_count": 4,
      "outputs": []
    },
    {
      "cell_type": "code",
      "source": [
        "\n",
        "@app.post(\"/chat\")\n",
        "async def chat_method(req : Request):\n",
        "    # load trained model\n",
        "    # model = keras.models.load_model('chat_model')\n",
        "   \n",
        "    req_info = await req.json()\n",
        "   \n",
        "   # pkl_filename=\"/content/drive/My Drive/AIML/Pickle_LR_Model.pkl\"\n",
        "   # Pickled_LR_Model=LogisticRegression(solver='liblinear')\n",
        "\n",
        "    #with open(pkl_filename,'rb') as file:\n",
        "    #  Pickled_LR_Model=pickle.load(file)\n",
        "  \n",
        "    #print(Pickled_LR_Model)\n",
        "    return {\n",
        "        \"status\" : \"SUCCESS\",\n",
        "        \"data\" : req_info\n",
        "    }\n",
        "\n",
        "\n",
        "@app.post(\"/getInformation\")\n",
        "async def getInformation(info : Request):\n",
        "    req_info = await info.json()\n",
        "    return {\n",
        "        \"status\" : \"SUCCESS\",\n",
        "        \"data\" : req_info\n",
        "    } \n",
        "    \n",
        "#chat({'Data': 'This is data' })"
      ],
      "metadata": {
        "id": "puMnGncEfe6R"
      },
      "execution_count": 5,
      "outputs": []
    },
    {
      "cell_type": "code",
      "source": [
        ""
      ],
      "metadata": {
        "id": "bNkA1IYOfr1_"
      },
      "execution_count": null,
      "outputs": []
    },
    {
      "cell_type": "code",
      "source": [
        "!ngrok authtoken \"26bLsvbFiX4KWYSrnzpJfqd7wUm_7xCsWbStPWfCmnBcdivNr\""
      ],
      "metadata": {
        "id": "W-Nl3bt75M1d",
        "colab": {
          "base_uri": "https://localhost:8080/"
        },
        "outputId": "ec763d5c-8492-4737-8982-cb068d174a3f"
      },
      "execution_count": 6,
      "outputs": [
        {
          "output_type": "stream",
          "name": "stdout",
          "text": [
            "Authtoken saved to configuration file: /root/.ngrok2/ngrok.yml\n"
          ]
        }
      ]
    },
    {
      "cell_type": "code",
      "source": [
        "ngrok_tunnel = ngrok.connect(8000)\n",
        "print('Public URL:', ngrok_tunnel.public_url)\n",
        "nest_asyncio.apply()\n",
        "uvicorn.run(app, port=8000)"
      ],
      "metadata": {
        "id": "ATWeMlaXXDE0",
        "colab": {
          "base_uri": "https://localhost:8080/"
        },
        "outputId": "4c1a5c7f-2e9c-4469-cf67-32641904af67"
      },
      "execution_count": null,
      "outputs": [
        {
          "output_type": "stream",
          "name": "stdout",
          "text": [
            "Public URL: http://bf43-34-125-48-193.ngrok.io\n"
          ]
        },
        {
          "output_type": "stream",
          "name": "stderr",
          "text": [
            "INFO:     Started server process [59]\n",
            "INFO:     Waiting for application startup.\n",
            "INFO:     Application startup complete.\n",
            "INFO:     Uvicorn running on http://127.0.0.1:8000 (Press CTRL+C to quit)\n"
          ]
        },
        {
          "output_type": "stream",
          "name": "stdout",
          "text": [
            "INFO:     49.36.107.65:0 - \"GET / HTTP/1.1\" 200 OK\n",
            "INFO:     49.36.107.65:0 - \"GET /favicon.ico HTTP/1.1\" 404 Not Found\n",
            "INFO:     49.36.107.65:0 - \"GET /documents HTTP/1.1\" 404 Not Found\n",
            "INFO:     49.36.107.65:0 - \"GET /documentation HTTP/1.1\" 404 Not Found\n",
            "INFO:     49.36.107.65:0 - \"GET /docs HTTP/1.1\" 200 OK\n",
            "INFO:     49.36.107.65:0 - \"GET /openapi.json HTTP/1.1\" 200 OK\n",
            "INFO:     49.36.107.65:0 - \"POST /getInformation HTTP/1.1\" 500 Internal Server Error\n"
          ]
        },
        {
          "output_type": "stream",
          "name": "stderr",
          "text": [
            "ERROR:    Exception in ASGI application\n",
            "Traceback (most recent call last):\n",
            "  File \"/usr/local/lib/python3.7/dist-packages/uvicorn/protocols/http/httptools_impl.py\", line 375, in run_asgi\n",
            "    result = await app(self.scope, self.receive, self.send)\n",
            "  File \"/usr/local/lib/python3.7/dist-packages/uvicorn/middleware/proxy_headers.py\", line 75, in __call__\n",
            "    return await self.app(scope, receive, send)\n",
            "  File \"/usr/local/lib/python3.7/dist-packages/fastapi/applications.py\", line 261, in __call__\n",
            "    await super().__call__(scope, receive, send)\n",
            "  File \"/usr/local/lib/python3.7/dist-packages/starlette/applications.py\", line 112, in __call__\n",
            "    await self.middleware_stack(scope, receive, send)\n",
            "  File \"/usr/local/lib/python3.7/dist-packages/starlette/middleware/errors.py\", line 181, in __call__\n",
            "    raise exc\n",
            "  File \"/usr/local/lib/python3.7/dist-packages/starlette/middleware/errors.py\", line 159, in __call__\n",
            "    await self.app(scope, receive, _send)\n",
            "  File \"/usr/local/lib/python3.7/dist-packages/starlette/exceptions.py\", line 82, in __call__\n",
            "    raise exc\n",
            "  File \"/usr/local/lib/python3.7/dist-packages/starlette/exceptions.py\", line 71, in __call__\n",
            "    await self.app(scope, receive, sender)\n",
            "  File \"/usr/local/lib/python3.7/dist-packages/fastapi/middleware/asyncexitstack.py\", line 21, in __call__\n",
            "    raise e\n",
            "  File \"/usr/local/lib/python3.7/dist-packages/fastapi/middleware/asyncexitstack.py\", line 18, in __call__\n",
            "    await self.app(scope, receive, send)\n",
            "  File \"/usr/local/lib/python3.7/dist-packages/starlette/routing.py\", line 656, in __call__\n",
            "    await route.handle(scope, receive, send)\n",
            "  File \"/usr/local/lib/python3.7/dist-packages/starlette/routing.py\", line 259, in handle\n",
            "    await self.app(scope, receive, send)\n",
            "  File \"/usr/local/lib/python3.7/dist-packages/starlette/routing.py\", line 61, in app\n",
            "    response = await func(request)\n",
            "  File \"/usr/local/lib/python3.7/dist-packages/fastapi/routing.py\", line 228, in app\n",
            "    dependant=dependant, values=values, is_coroutine=is_coroutine\n",
            "  File \"/usr/local/lib/python3.7/dist-packages/fastapi/routing.py\", line 160, in run_endpoint_function\n",
            "    return await dependant.call(**values)\n",
            "  File \"<ipython-input-5-f5d498f663f4>\", line 24, in getInformation\n",
            "    req_info = await info.json()\n",
            "  File \"/usr/local/lib/python3.7/dist-packages/starlette/requests.py\", line 235, in json\n",
            "    self._json = json.loads(body)\n",
            "  File \"/usr/lib/python3.7/json/__init__.py\", line 348, in loads\n",
            "    return _default_decoder.decode(s)\n",
            "  File \"/usr/lib/python3.7/json/decoder.py\", line 337, in decode\n",
            "    obj, end = self.raw_decode(s, idx=_w(s, 0).end())\n",
            "  File \"/usr/lib/python3.7/json/decoder.py\", line 355, in raw_decode\n",
            "    raise JSONDecodeError(\"Expecting value\", s, err.value) from None\n",
            "json.decoder.JSONDecodeError: Expecting value: line 1 column 1 (char 0)\n"
          ]
        },
        {
          "output_type": "stream",
          "name": "stdout",
          "text": [
            "INFO:     49.36.107.65:0 - \"POST /chat HTTP/1.1\" 200 OK\n",
            "INFO:     49.36.107.65:0 - \"POST /getInfomation HTTP/1.1\" 404 Not Found\n",
            "INFO:     49.36.107.65:0 - \"POST /chat HTTP/1.1\" 200 OK\n"
          ]
        }
      ]
    }
  ]
}